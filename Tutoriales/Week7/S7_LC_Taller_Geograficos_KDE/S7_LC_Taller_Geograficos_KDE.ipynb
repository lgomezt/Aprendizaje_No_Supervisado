{
 "cells": [
  {
   "cell_type": "markdown",
   "id": "be1bf656",
   "metadata": {},
   "source": [
    "<div >\n",
    "<img src = \"figs/ans_banner_1920x200.png\" />\n",
    "</div>"
   ]
  },
  {
   "cell_type": "markdown",
   "id": "2b151b20",
   "metadata": {},
   "source": [
    "# Caso-taller:  Analizando el Delito en Chicago"
   ]
  },
  {
   "cell_type": "markdown",
   "id": "e0d05eac",
   "metadata": {},
   "source": [
    "En este caso-taller vamos a utilizar datos geográficos y estimación de densidad de kernel para analizar delitos en Chicago. Esta ciudad es muy famosa no sólo por haber sido el hogar del mafioso Al Capone, sino también por sus altas tasas de delitos. \n",
    "\n",
    "Para este taller obtuve datos del portal de la [ciudad de Chicago](https://www.chicago.gov/city/en/dataset/crime.html). La base de datos fue traducida y modificada para nuestras necesidades. Esta contiene todos los homicidios y robos que sucedieron entre el 1 de junio y el 31 de agosto de 2019.\n"
   ]
  },
  {
   "cell_type": "markdown",
   "id": "892acd2b",
   "metadata": {},
   "source": [
    "## Instrucciones generales\n",
    "\n",
    "1. Para desarrollar el *cuaderno* primero debe descargarlo.\n",
    "\n",
    "2. Para responder cada inciso deberá utilizar el espacio debidamente especificado.\n",
    "\n",
    "3. La actividad será calificada sólo si sube el *cuaderno* de jupyter notebook con extensión `.ipynb` en la actividad designada como \"entrega calificada por el personal\".\n",
    "\n",
    "4. El archivo entregado debe poder ser ejecutado localmente por el tutor. Sea cuidadoso con la especificación de la ubicación de los archivos de soporte, guarde la carpeta de datos en el mismo `path` de su cuaderno, por ejemplo: `data`."
   ]
  },
  {
   "cell_type": "markdown",
   "id": "014e89b0",
   "metadata": {},
   "source": [
    "## Desarrollo\n"
   ]
  },
  {
   "cell_type": "markdown",
   "id": "611a45ca",
   "metadata": {},
   "source": [
    "### 1.Carga de datos \n",
    "\n",
    "En la carpeta `data` se encuentra el archivo `Chicago_delitos_verano_2019.csv` cargue estos datos en su *cuaderno*. También se encuentran los arhivos con los polígonos de las áreas comunitarias en un archivo comprimido llamado `Areas_comunitarias_Chicago.zip`."
   ]
  },
  {
   "cell_type": "code",
   "execution_count": 1,
   "id": "36fac364",
   "metadata": {},
   "outputs": [],
   "source": [
    "# Utilice este espacio para escribir el código."
   ]
  },
  {
   "cell_type": "markdown",
   "id": "3fc38d31",
   "metadata": {},
   "source": [
    "(Utilice este espacio para describir su procedimiento)."
   ]
  },
  {
   "cell_type": "markdown",
   "id": "a507b795",
   "metadata": {},
   "source": [
    "### 2.   Análisis descriptivo de los datos. \n",
    "\n",
    "Realice un análisis de los datos utilizando estadísticas descriptivas en tablas y/o gráficas."
   ]
  },
  {
   "cell_type": "code",
   "execution_count": 2,
   "id": "877fe5ce",
   "metadata": {},
   "outputs": [],
   "source": [
    "# Utilice este espacio para escribir el código."
   ]
  },
  {
   "cell_type": "markdown",
   "id": "e762d6b3",
   "metadata": {},
   "source": [
    "(Utilice este espacio para describir el procedimiento, análisis y conclusiones)"
   ]
  },
  {
   "cell_type": "markdown",
   "id": "f1f9b4b4",
   "metadata": {},
   "source": [
    "Usando los polígonos de las áreas comunitarias genere 3 mapas que muestren para cada área:\n",
    "\n",
    "1. El total de delitos. \n",
    "2. El total de robos.\n",
    "3. El total de homicidios.\n",
    "\n",
    "Nota: utilice una paleta de colores y escala numérica que permitan una buena interpretación de los mapas."
   ]
  },
  {
   "cell_type": "code",
   "execution_count": 3,
   "id": "41ca7fd2",
   "metadata": {},
   "outputs": [],
   "source": [
    "# Utilice este espacio para escribir el código."
   ]
  },
  {
   "cell_type": "markdown",
   "id": "e7d19f86",
   "metadata": {},
   "source": [
    "(Utilice este espacio para describir el procedimiento, análisis y conclusiones)"
   ]
  },
  {
   "cell_type": "markdown",
   "id": "a37de973",
   "metadata": {},
   "source": [
    "Tomando como centro de la ciudad las coordenadas (-87.627800, 41.881998), estime funciones de densidad que muestren gráficamente el gradiente del total de delitos, de robos, y homicidios, como función de la distancia al centro de la ciudad. Explique cómo midió las distancias incluyendo que medida de distancia utilizó. Para elegir el ancho de banda y la función de kernel más apropiados utilice validación cruzada usando todas las opciones posibles de kernel. Explique brevemente la forma que toman estas funciones de kernel y su influencia en la estimación."
   ]
  },
  {
   "cell_type": "code",
   "execution_count": 4,
   "id": "26511d14",
   "metadata": {},
   "outputs": [],
   "source": [
    "# Utilice este espacio para escribir el código."
   ]
  },
  {
   "cell_type": "markdown",
   "id": "f93dc017",
   "metadata": {},
   "source": [
    "(Utilice este espacio para describir el procedimiento, análisis y conclusiones)"
   ]
  },
  {
   "cell_type": "markdown",
   "id": "a778b917",
   "metadata": {},
   "source": [
    "### 3. Análisis de puntos calientes \n",
    "\n",
    "#### 3.1 Visualización preliminar\n",
    "\n",
    "Utilizando la librería `seaborn` genere un  gráfico de dispersión de longitud y latitud, junto a los histogramas univariados en los márgenes. Haga esta gráfica para:\n",
    "\n",
    "1. El total de delitos.\n",
    "2. El total de robos. \n",
    "3. El total de homicidios.\n",
    "\n",
    "En su análisis y conclusiones compare estos resultados con los obtendinos al agregar al nivel de áreas."
   ]
  },
  {
   "cell_type": "code",
   "execution_count": 5,
   "id": "ab568291",
   "metadata": {},
   "outputs": [],
   "source": [
    "# Utilice este espacio para escribir el código."
   ]
  },
  {
   "cell_type": "markdown",
   "id": "4c85bb20",
   "metadata": {},
   "source": [
    "(Utilice este espacio para describir el procedimiento, análisis y conclusiones)"
   ]
  },
  {
   "cell_type": "markdown",
   "id": "98b90dbc",
   "metadata": {},
   "source": [
    "#### 3.2 KDE preliminar\n",
    "\n",
    "Transforme las gráficas anteriores a una gráfica que muestre la densidad bivariada estimada:\n",
    "\n",
    "1. El total de delitos.\n",
    "2. El total de robos. \n",
    "3. El total de homicidios.\n",
    "\n",
    "En su análisis y conclusiones incluya la discusión de cuáles son las ventajas y limitaciones de usar `seaborn` para este tipo de estimación y análisis."
   ]
  },
  {
   "cell_type": "code",
   "execution_count": 6,
   "id": "fef94868",
   "metadata": {},
   "outputs": [],
   "source": [
    "# Utilice este espacio para escribir el código."
   ]
  },
  {
   "cell_type": "markdown",
   "id": "247b59c9",
   "metadata": {},
   "source": [
    "(Utilice este espacio para describir el procedimiento, análisis y conclusiones)"
   ]
  },
  {
   "cell_type": "markdown",
   "id": "9f31167d",
   "metadata": {},
   "source": [
    "### 3.3 KDE\n",
    "\n",
    "Usando `statsmodels` implemente la estimación de densidad bivariada para:\n",
    "\n",
    "1. El total de delitos. \n",
    "2. El total de robos. \n",
    "3. El total de homicidios.\n",
    "\n",
    "Muestre los resultados usando curvas de nivel en una visualización interactiva. Compare los resultados de estimar usando los anchos de banda: `normal_reference` y `cv_ml`. Explique en que consisten ambas formas de estimar el ancho de banda."
   ]
  },
  {
   "cell_type": "code",
   "execution_count": 7,
   "id": "2fdf3326",
   "metadata": {},
   "outputs": [],
   "source": [
    "# Utilice este espacio para escribir el código."
   ]
  },
  {
   "cell_type": "markdown",
   "id": "2b5eff17",
   "metadata": {},
   "source": [
    "(Utilice este espacio para describir el procedimiento, análisis y conclusiones)"
   ]
  },
  {
   "cell_type": "markdown",
   "id": "78e604f7",
   "metadata": {},
   "source": [
    "## 4. Explicando la ubicación del delito\n",
    "\n",
    "La idea de este punto es, de ser posible, encontrar posibles correlaciones  entre el crimen y características de la ciudad. Para ello, baje los datos de OpenStreetMap y explore si existen correlaciones con características de la ciudad. Usted es libre de bajar y explorar distintas características de la ciudad, pero como mínimo espero que sea capaz de ver la correlación entre el uso de tierra en tiendas (`retail`)  y uso comercial (`commercial`). Ofrezca una explicación intuitiva de por qué cree que aparecen estas correlaciones."
   ]
  },
  {
   "cell_type": "code",
   "execution_count": 8,
   "id": "16333b43",
   "metadata": {},
   "outputs": [],
   "source": [
    "# Utilice este espacio para escribir el código."
   ]
  },
  {
   "cell_type": "markdown",
   "id": "60447bb0",
   "metadata": {},
   "source": [
    "(Utilice este espacio para describir el procedimiento, análisis y conclusiones)"
   ]
  }
 ],
 "metadata": {
  "kernelspec": {
   "display_name": "Python 3 (ipykernel)",
   "language": "python",
   "name": "python3"
  },
  "language_info": {
   "codemirror_mode": {
    "name": "ipython",
    "version": 3
   },
   "file_extension": ".py",
   "mimetype": "text/x-python",
   "name": "python",
   "nbconvert_exporter": "python",
   "pygments_lexer": "ipython3",
   "version": "3.9.12"
  },
  "toc": {
   "base_numbering": 1,
   "nav_menu": {},
   "number_sections": true,
   "sideBar": true,
   "skip_h1_title": false,
   "title_cell": "Table of Contents",
   "title_sidebar": "Contents",
   "toc_cell": false,
   "toc_position": {},
   "toc_section_display": true,
   "toc_window_display": false
  }
 },
 "nbformat": 4,
 "nbformat_minor": 5
}
