{
 "cells": [
  {
   "cell_type": "markdown",
   "id": "5c3fc0a7",
   "metadata": {},
   "source": [
    "<div >\n",
    "<img src = \"figs/ans_banner_1920x200.png\" />\n",
    "</div>"
   ]
  },
  {
   "cell_type": "markdown",
   "id": "b94894a8",
   "metadata": {},
   "source": [
    "# Control de Versión con Git(Hub)\n",
    "\n",
    "\n",
    "Este *cuaderno* tiene como objetivo hacer un breve resumen de las operaciones básicas de `Git` necesarias para este curso. **NO** es necesario editar el archivo o hacer una entrega. \n"
   ]
  },
  {
   "cell_type": "markdown",
   "id": "cc11dcac",
   "metadata": {},
   "source": [
    "## Motivación"
   ]
  },
  {
   "cell_type": "markdown",
   "id": "578ab0a7",
   "metadata": {},
   "source": [
    "`Git` es un sistema de control de versión que permite evitar situaciónes como las descritas en el comic de abajo. Podemos pensar en `Git` como la mezcla óptima entre Dropbox y la  función “seguimiento de cambios” de MS Word. \n",
    "\n",
    "Es importante resaltar que `Git` y `GitHub` no son lo mismo. Mientras que `Git` es el sistema de control de versión, `GitHub` es una companía que permite el alojamiento en linea de `Git`. \n"
   ]
  },
  {
   "cell_type": "markdown",
   "id": "62bd29f6",
   "metadata": {},
   "source": [
    "<div align=\"center\">\n",
    "<img src=\"http://phdcomics.com/comics/archive/phd101212s.gif\" height=250>\n",
    "</div>"
   ]
  },
  {
   "cell_type": "markdown",
   "id": "aab4243b",
   "metadata": {},
   "source": [
    "## Repositorios\n",
    "\n",
    "En este curso vamos a utilizar [`GitHub`](https://github.com/) para el alojamiento en linea y entrega de parte importante de las actividades. Para ello es necesario primero crear una cuenta gratuita que podemos hacerlo siguiendo los pasos de este [link](https://docs.github.com/es/github/getting-started-with-github/signing-up-for-github/signing-up-for-a-new-github-account): https://docs.github.com/es/github/getting-started-with-github/signing-up-for-github/signing-up-for-a-new-github-account.\n",
    "\n",
    "Una vez que creamos la cuenta, es importante crear un repositorio [`GitHub`](https://github.com/). Este repositorio servirá para mantener todos los archivos importantes de un proyecto, y a través de `Git` hacer control de versión. El  [link](https://docs.github.com/es/github/getting-started-with-github/quickstart/create-a-repo ) https://docs.github.com/es/github/getting-started-with-github/quickstart/create-a-repo contiene un paso a paso de como crear un repositorio."
   ]
  },
  {
   "cell_type": "markdown",
   "id": "3775ab0d",
   "metadata": {},
   "source": [
    "## Comandos para versión de control\n",
    "\n",
    "Luego de creado el repositorio, para poder utilizarlo desde nuestros computadores es necesario primero vincularlos. Una vez vinculados podremos hacer control de versión en nuestro computador y `empujar` estos cambios al repositorio en linea.\n",
    "\n",
    "\n"
   ]
  },
  {
   "cell_type": "markdown",
   "id": "e8016bfc",
   "metadata": {},
   "source": [
    "### Vincular el repositorio al computador personal\n",
    "\n",
    "1.  Primero encuentre el `url` de su repo, este se encuentra en el boton verde de `Code`. \n",
    "\n",
    "2.  Abra su herramienta de línea de comando y escriba `git clone` con la url que copió. \n",
    "\n",
    "    Por ejemplo:\n",
    "\n",
    "``` bash\n",
    "$ git clone https://github.com/username/demo_repo_miad.git\n",
    "```"
   ]
  },
  {
   "cell_type": "markdown",
   "id": "155710d2",
   "metadata": {},
   "source": [
    "\n",
    "<div align=\"center\">\n",
    "<img src=\"repo_cloning.gif\" height=250>\n",
    "</div>"
   ]
  },
  {
   "cell_type": "markdown",
   "id": "78a24cae",
   "metadata": {},
   "source": [
    "### Agregar archivos al repositorio\n",
    "\n",
    "Una vez que el repositorio está en su computador puede:\n",
    "\n",
    "- Examinar el historial.\n",
    "\n",
    "``` bash\n",
    "$ git log\n",
    "```\n",
    "\n",
    "- Examinar el `status` de los archivos, es decir ver si cambiaron o no.\n",
    "\n",
    "``` bash\n",
    "$ git status\n",
    "```\n",
    "\n",
    "- Agregar archivos\n",
    "\n",
    "``` bash\n",
    "$ git add NOMBRE-DEL-ARCHIVO-O-CARPETA\n",
    "```\n",
    "\n",
    "    `Git` permite usar abreviaciones para agregar archivos:\n",
    "\n",
    "    - Agregar todos.\n",
    "\n",
    "``` bash\n",
    "$ git add -A\n",
    "```        \n",
    "    - Agregar todos los que cambiaron.\n",
    "\n",
    "``` bash\n",
    "$ git add -u\n",
    "```\n",
    "\n",
    "    - Agregar todos los nuevos.\n",
    "\n",
    "``` bash\n",
    "$ git add .\n",
    "```\n",
    "\n",
    "- Ver las diferencias entre archivos:\n",
    "\n",
    "``` bash\n",
    "$ git diff\n",
    "```\n"
   ]
  },
  {
   "cell_type": "markdown",
   "id": "39f063ea",
   "metadata": {},
   "source": [
    "### Confirmar cambios\n",
    "\n",
    "Agregados los archivos, es necesario confirmar o `commit` los cambios. Esto lo hacemos con el comando `git commit -m` seguido de un mensaje breve y útil:\n",
    "\n",
    "``` bash\n",
    "$ git commit -m \"mensaje breve y útil\"\n",
    "```\n",
    "\n",
    "Confirmados los cambios se envian a `GitHub`:\n",
    "\n",
    "``` bash\n",
    "$ git push origin main\n",
    "```\n",
    "\n",
    "Donde `origin` es un nombre abreviado para el repositorio remoto desde el que se clonó originalmente el proyecto, y `main` es hacia donde estamos enviando los cambios."
   ]
  },
  {
   "cell_type": "markdown",
   "id": "bb772479",
   "metadata": {},
   "source": [
    "##  Contribuciones a repositorios\n",
    "\n",
    "\n",
    "Una de las ventajas que tiene `Git` es que permite proponer cambios, ya sea en repositorios propios a través de **ramas (branches)**, o desde repositorios ajenos por medio de  **bifurcaciones (forks)**.\n"
   ]
  },
  {
   "cell_type": "markdown",
   "id": "e4a1a5a2",
   "metadata": {},
   "source": [
    "\n",
    "### Ramas (Branches)  \n",
    "\n",
    "Las ramas o `branches` clonan el repositorio, creando una copia exacta en una *nueva rama*, en la cual podremos experimentar sin afectar la rama principal.\n",
    "\n",
    "Para crear una rama y trabajar en ella:\n",
    "\n",
    "``` bash\n",
    "$ git checkout -b NOMBRE-DE-LA-NUEVA-RAMA\n",
    "```\n",
    "\n",
    "- Enviar a  `GitHub`:\n",
    "\n",
    "```bash\n",
    "$ git push origin NOMBRE-DE-LA-NUEVA-RAMA\n",
    "```\n",
    "\n",
    "- Conocer las ramas disponibles\n",
    "\n",
    "```bash\n",
    "$ git branch\n",
    "```\n",
    "\n",
    "- Navegar a la rama principal\n",
    "\n",
    "```bash\n",
    "$ git checkout main\n",
    "```\n",
    "\n",
    "Podemos también eliminar la rama si no queremos trabajar en ella:\n",
    "```bash\n",
    "$ git branch -d NOMBRE-DE-LA-NUEVA-RAMA\n",
    "$ git push origin: NOMBRE-DE-LA-NUEVA-RAMA\n",
    "```\n",
    "\n",
    "Finalmente podemos unir la nueva rama con la principal:\n",
    "\n",
    "1. Regresar a la rama principal:\n",
    "\n",
    "```bash\n",
    "$ git checkout main\n",
    "```\n",
    "\n",
    "2. Adjuntar la rama:\n",
    "\n",
    "```bash\n",
    "$ git merge NOMBRE-DE-LA-NUEVA-RAMA\n",
    "```\n",
    "\n"
   ]
  },
  {
   "cell_type": "markdown",
   "id": "44b81cf6",
   "metadata": {},
   "source": [
    "### Bifurcaciones (Forking) \n",
    "\n",
    "Las bifurcaciones o `forks` se utilizan para proponer cambios en  proyectos ajenos. Al igual que las ramas estas crean una copia exacta. La diferencia radica en que un `fork` copia un repositorio de una cuenta ajena a la cuenta propia, mientras que las ramas hacen una copia dentro del mismo repositorio.\n",
    "\n",
    "Para hacer una bifurcacion hacemos click en el boton `Fork` en la esquina superior derecha del repositorio de interés. Esto genera la copia en el repositorio propio.\n",
    "\n",
    "\n",
    "<div align=\"center\">\n",
    "<img src=\"repo_forking.gif\" height=250>\n",
    "</div>\n",
    "\n",
    "\n",
    "Dado que el `fork` es una copia en el repositorio propio, los cambios realizados en la “copia” no se verán reflejados en el repositorio del dueño automáticamente. Para hacerlo, es necesario hacerle una solicitud al dueño con un pedido de `pull`.\n",
    "\n",
    "Por ejemplo el intercambio entre dos usuarios a través de `fork` y `pull` seria:\n",
    "\n",
    "-   Un usuario externo, `B`, hace un `fork` al repositorio de `A`. \n",
    "-   `B` añade una nueva característica (o arregla un error que identificó) y luego envía un `pull request`.\n",
    "-   `A` es notificado de esto y, entonces, puede decidir si añade o no la contribución de `B` al proyecto original.\n",
    "\n",
    "\n"
   ]
  },
  {
   "cell_type": "markdown",
   "id": "e66b175c",
   "metadata": {},
   "source": [
    "# Conclusión\n",
    "\n",
    "En este cuaderno hicimos un breve resumen de cómo crear repositorios, cómo agregar archivos, y cómo experimentar y contribuir a repositorios propios y agenos en `Git` y `GitHub`. Al ser un resumen, no es exhaustivo, por lo que lo invitamos a explorar por si mismo y leer las documentacion de [GitHub](https://docs.github.com/es/github/getting-started-with-github)."
   ]
  },
  {
   "cell_type": "code",
   "execution_count": null,
   "id": "7ba52d41",
   "metadata": {},
   "outputs": [],
   "source": []
  }
 ],
 "metadata": {
  "kernelspec": {
   "display_name": "Python 3 (ipykernel)",
   "language": "python",
   "name": "python3"
  },
  "language_info": {
   "codemirror_mode": {
    "name": "ipython",
    "version": 3
   },
   "file_extension": ".py",
   "mimetype": "text/x-python",
   "name": "python",
   "nbconvert_exporter": "python",
   "pygments_lexer": "ipython3",
   "version": "3.9.7"
  },
  "toc": {
   "base_numbering": 1,
   "nav_menu": {},
   "number_sections": true,
   "sideBar": true,
   "skip_h1_title": false,
   "title_cell": "Table of Contents",
   "title_sidebar": "Contents",
   "toc_cell": false,
   "toc_position": {},
   "toc_section_display": true,
   "toc_window_display": true
  }
 },
 "nbformat": 4,
 "nbformat_minor": 5
}
