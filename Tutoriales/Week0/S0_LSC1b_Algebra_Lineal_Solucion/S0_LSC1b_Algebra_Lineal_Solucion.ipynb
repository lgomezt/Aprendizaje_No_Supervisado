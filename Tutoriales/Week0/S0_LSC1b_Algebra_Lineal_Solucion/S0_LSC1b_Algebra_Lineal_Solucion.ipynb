{
 "cells": [
  {
   "cell_type": "markdown",
   "metadata": {},
   "source": [
    "<div >\n",
    "<img src = \"figs/ans_banner_1920x200.png\" />\n",
    "</div>"
   ]
  },
  {
   "cell_type": "markdown",
   "metadata": {},
   "source": [
    "# Solución a Ejercicios de Repaso de Revisión de Algebra Lineal"
   ]
  },
  {
   "cell_type": "markdown",
   "metadata": {},
   "source": [
    "Es este *cuaderno*  encontrá la solución a los ejercicios de repaso presentados en el *cuaderno* de Revisión de Álgebra Lineal. Se espera que usted haya resuelto estos ejercicios por su cuenta antes de ver los resultados. Consulte con el tutor si tiene dudas.\n",
    "\n",
    "**NO** es necesario editar el archivo o hacer una entrega. Los ejemplos contienen celdas con código ejecutable (`en gris`), que podrá modificar  libremente. Esta puede ser una buena forma de aprender nuevas funcionalidades del *cuaderno*, o experimentar variaciones en los códigos de ejemplo."
   ]
  },
  {
   "cell_type": "markdown",
   "metadata": {},
   "source": [
    "\n",
    "# Ejercicios de repaso\n",
    "\n",
    "## Ejercicio 1\n",
    "\n"
   ]
  },
  {
   "cell_type": "markdown",
   "metadata": {},
   "source": [
    "###  Ejercicio 1.a.\n",
    "Para calcular la potencia de una matriz utilizamos la formula que surge de diagonalizar una matriz: $A = S\\Lambda S^{-1}$, en donde $S$ corresponde a la matriz de eigenvectores y $\\Lambda$ es la matriz diagonal de eigenvalores ordenada según la correspondencia con los eigenvectores.\n",
    "\n",
    "$$ A^2 = (S\\Lambda S^{-1})(S\\Lambda S^{-1}) $$\n",
    "$$ A^2 = S\\Lambda^2 S^{-1} $$\n",
    "$$ \\vdots $$\n",
    "$$ A^p = S\\Lambda^p S^{-1} $$\n",
    "\n",
    "Para hallar los eigenvectores de $A$ usamos la formula $|(\\lambda I - A)| = 0$\n",
    "\n",
    "$$|\\begin{bmatrix} \\lambda - 7 & -10 \\\\ -1 & \\lambda  + 2 \\end{bmatrix}| = 0 $$\n",
    "\n",
    "$$ (\\lambda - 8)(\\lambda + 3) = 0 $$\n",
    "\n",
    "Entonces nuestros eigenvalores serían $\\lambda_1 = 8$ y $\\lambda_2 = -3$. Resolviendo la ecuación $(\\lambda I - A)x=0$ para encontrar los eigenvectores.\n",
    "\n",
    "Para $\\lambda_1 = 8$:\n",
    "$$ \\begin{bmatrix} \\lambda_1 - 7 & -10 \\\\ -1 & \\lambda_1 + 2 \\end{bmatrix} = \\begin{bmatrix} 0 \\\\ 0 \\end{bmatrix}$$\n",
    "$$ \\begin{bmatrix} 1 & -10 \\\\ -1 & 10 \\end{bmatrix} = \\begin{bmatrix} 0 \\\\ 0 \\end{bmatrix}$$\n",
    "Le restamos la primera fila a la segunda fila:\n",
    "$$ \\begin{bmatrix} 1 & -10 \\\\ 0 & 0 \\end{bmatrix} = \\begin{bmatrix} 0 \\\\ 0 \\end{bmatrix}$$\n",
    "\n",
    "Encontramos que el sistema de ecuaciones se resuelve con $x_1 = \\begin{bmatrix} 10t \\\\ t \\end{bmatrix},\\ t\\in\\mathbb{R} $ por lo que tomamos a nuestro primer eigenvector como: $x_1 = \\begin{bmatrix} 10 \\\\ 1 \\end{bmatrix}$\n",
    "\n",
    "Para $\\lambda_2 = -3$:\n",
    "\n",
    "$$ \\begin{bmatrix} \\lambda_2 - 7 & -10 \\\\ -1 & \\lambda_2 + 2 \\end{bmatrix} = \\begin{bmatrix} 0 \\\\ 0 \\end{bmatrix}$$\n",
    "$$ \\begin{bmatrix} -10 & -10 \\\\ -1 & -1 \\end{bmatrix} = \\begin{bmatrix} 0 \\\\ 0 \\end{bmatrix}$$\n",
    "\n",
    "Dividiendo la primera fila por $-10$ y se le suma el resultado de la primera fila a la segunda y quedamos con:\n",
    "\n",
    "$$ \\begin{bmatrix} 1 & 1 \\\\ 0 & 0 \\end{bmatrix} = \\begin{bmatrix} 0 \\\\ 0 \\end{bmatrix}$$\n",
    "\n",
    "Encontramos entonces que el sistema de ecuaciones se resuelve con $x_2 = \\begin{bmatrix} t \\\\ -t \\end{bmatrix},\\ t\\in\\mathbb{R} $ por lo que tomamos a nuestro segundo eigenvector como: $x_2 = \\begin{bmatrix} 1 \\\\ -1 \\end{bmatrix}$\n",
    "\n"
   ]
  },
  {
   "cell_type": "markdown",
   "metadata": {},
   "source": [
    "Ahora podemos construir las matrices $S$, $S^{-1}$ y $\\Lambda$:\n",
    "\n",
    "$$S = \\begin{bmatrix} 10 & 1 \\\\ 1 & -1 \\end{bmatrix}$$\n",
    "$$S^{-1} = \\frac{1}{11} \\begin{bmatrix} 1 & 1 \\\\ 1 & -10 \\end{bmatrix}$$\n",
    "$$\\Lambda = \\begin{bmatrix} 8 & 0 \\\\ 0 & -3 \\end{bmatrix}$$\n",
    "\n",
    "Finalmente $A^{9}=S\\Lambda^{9}S^{-1}$:\n",
    "\n",
    "$$A^{9}= \\frac{1}{11} \\begin{bmatrix} 10 & 1 \\\\ -1 & 1 \\end{bmatrix} \\begin{bmatrix} 8^{9} & 0 \\\\ 0 & -3^{9} \\end{bmatrix} \\begin{bmatrix} 1 & 1 \\\\ 1 & -10 \\end{bmatrix} $$\n",
    "\n",
    "$$A^{9}= \\frac{1}{11} \\begin{bmatrix} 10*8^{9} & -3^{9} \\\\ 8^{9} & 3^{9} \\end{bmatrix} \\begin{bmatrix} 1 & 1 \\\\ 1 & -10 \\end{bmatrix} $$\n",
    "\n",
    "$$A^{9}= \\frac{1}{11} \\begin{bmatrix} 10*8^{9} + (-3)^{9} & 10*8^{9} + 10*3^{9} \\\\ 8^{9} + 3^{9} & 8^{9} + (-10)*3^{9} \\end{bmatrix}$$\n",
    "\n",
    "$$A^{9}= \\begin{bmatrix} 10*8^{9} + (-3)^{9} & 10*8^{9} - 10*(-3)^{9} \\\\ 8^{9} - (-3)^{9} & 8^{9} + 10*(-3)^{9} \\end{bmatrix}$$\n",
    "\n",
    "En `Python`:"
   ]
  },
  {
   "cell_type": "code",
   "execution_count": 2,
   "metadata": {},
   "outputs": [
    {
     "name": "stdout",
     "output_type": "stream",
     "text": [
      "Eigenvalor 1: 8.0\n",
      "Eigenvector 1:\n",
      "[[0.99503719]\n",
      " [0.09950372]]\n",
      "Eigenvalor 2: -3.0\n",
      "Eigenvector 2:\n",
      "[[-0.70710678]\n",
      " [ 0.70710678]]\n"
     ]
    }
   ],
   "source": [
    "import numpy as np #Importamos numpy\n",
    "A = np.array([[7, 10], \n",
    "              [1, -2]])\n",
    "\n",
    "w, v = np.linalg.eig(A)\n",
    "print('Eigenvalor 1:', w[0])\n",
    "print('Eigenvector 1:')\n",
    "print(v[:,0].reshape(2,1)) \n",
    "print('Eigenvalor 2:', w[1])\n",
    "print('Eigenvector 2:')\n",
    "print(v[:,1].reshape(2,1))"
   ]
  },
  {
   "cell_type": "code",
   "execution_count": null,
   "metadata": {},
   "outputs": [],
   "source": [
    "n = 9\n",
    "S = v\n",
    "l = np.diag(w)\n",
    "S_inv = np.linalg.inv(S)\n",
    "directa = np.vectorize(lambda x: '{:f}'.format(x))(S.dot(l**n).dot(S_inv))\n",
    "directa"
   ]
  },
  {
   "cell_type": "code",
   "execution_count": null,
   "metadata": {},
   "outputs": [],
   "source": [
    "e1 = '{:f}'.format((10*(8**n) + (-3)**n)/11)\n",
    "e2 = '{:f}'.format((10*(8**n) + (-10)*(-3)**n)/11)\n",
    "e3 = '{:f}'.format((8**n + (-1)*((-3)**n))/11)\n",
    "e4 = '{:f}'.format((8**n + 10*((-3)**n))/11)\n",
    "formulas = np.array([[e1, e2], [e3, e4]])\n",
    "formulas"
   ]
  },
  {
   "cell_type": "markdown",
   "metadata": {},
   "source": [
    "Podemos utilizar la función `matrix_power` y evitar los calculos intermedios. Notemos que las soluciones son idénticas."
   ]
  },
  {
   "cell_type": "code",
   "execution_count": null,
   "metadata": {},
   "outputs": [],
   "source": [
    "matrix_power(A, n)"
   ]
  },
  {
   "cell_type": "markdown",
   "metadata": {},
   "source": [
    "###  Ejercicio 1.b.\n",
    "\n",
    "Partimos de la formula para encontrar los eigenvalores $|B-\\lambda|=0$\n",
    "$$|\\begin{bmatrix} 3-\\lambda & 0 \\\\ 8 & -1-\\lambda\\end{bmatrix}|=0$$\n",
    "$$(3-\\lambda)(-1-\\lambda)=0$$\n",
    "\n",
    "Nuestros eigenvalores serían $\\lambda_1=3$ y $\\lambda_2=-1$\n",
    "\n",
    "El eigenvector asociado a $\\lambda_1=3$ vendría de:\n",
    "\n",
    "$$\\begin{bmatrix} 0 & 0 \\\\ 8 & -4\\end{bmatrix} \\begin{bmatrix} x \\\\ y \\end{bmatrix}=\\begin{bmatrix} 0 \\\\ 0 \\end{bmatrix}$$\n",
    "$$\\begin{bmatrix} 0 & 0 \\\\ 2 & -1\\end{bmatrix} \\begin{bmatrix} x \\\\ y \\end{bmatrix}=\\begin{bmatrix} 0 \\\\ 0 \\end{bmatrix}$$\n",
    "$$\\begin{bmatrix} 1 & -\\frac{1}{2} \\\\ 0 & 0\\end{bmatrix} \\begin{bmatrix} x \\\\ y \\end{bmatrix}=\\begin{bmatrix} 0 \\\\ 0 \\end{bmatrix}$$\n",
    "Entonces $x=\\frac{1}{2}y$ e $y=t$. Por ende el eigenvector asociado a $\\lambda_1=3$ sería $x_1=\\begin{bmatrix} \\frac{1}{2} \\\\ 1 \\end{bmatrix}$\n",
    "\n",
    "El eigenvector asociado a $\\lambda_2=-1$ vendría de:\n",
    "\n",
    "$$\\begin{bmatrix} 4 & 0 \\\\ 8 & 0 \\end{bmatrix} \\begin{bmatrix} x \\\\ y \\end{bmatrix}=\\begin{bmatrix} 0 \\\\ 0 \\end{bmatrix}$$\n",
    "$$\\begin{bmatrix} 1 & 0 \\\\ 0 & 0\\end{bmatrix} \\begin{bmatrix} x \\\\ y \\end{bmatrix}=\\begin{bmatrix} 0 \\\\ 0 \\end{bmatrix}$$\n",
    "\n",
    "Entonces $x=0$ e $y=t$ y el eigenvector asociado a $\\lambda_2=-1$ sería $x_2=\\begin{bmatrix} 0 \\\\ 1 \\end{bmatrix}$"
   ]
  },
  {
   "cell_type": "markdown",
   "metadata": {},
   "source": [
    "Ahora construiremos las matrices $S$, $S^{-1}$ y $\\Lambda$:\n",
    "\n",
    "$$S = \\begin{bmatrix} \\frac{1}{2} & 0 \\\\ 1 & 1 \\end{bmatrix}$$\n",
    "$$S^{-1} = \\begin{bmatrix} 2 & 0 \\\\  -2 & 1 \\end{bmatrix}$$\n",
    "$$\\Lambda = \\begin{bmatrix} 3 & 0 \\\\ 0 & -1 \\end{bmatrix}$$\n",
    "\n",
    "Finalmente $B^{n}=S\\Lambda^{n}S^{-1}$:\n",
    "\n",
    "$$B^{n}= \\begin{bmatrix} \\frac{1}{2} & 0 \\\\ 1 & 1 \\end{bmatrix} \\begin{bmatrix} 3^n & 0 \\\\ 0 & (-1)^n \\end{bmatrix} \\begin{bmatrix} 2 & 0 \\\\  -2 & 1 \\end{bmatrix}$$\n",
    "\n",
    "$$B^{n}= \\begin{bmatrix} \\frac{1}{2}*3^n & 0 \\\\ 3^n & (-1)^n \\end{bmatrix} \\begin{bmatrix} 2 & 0 \\\\  -2 & 1 \\end{bmatrix}$$\n",
    "\n",
    "$$B^{n}= \\begin{bmatrix} 3^n & 0 \\\\ 2*3^n + (-2)*(-1)^n & (-1)^n \\end{bmatrix} $$\n",
    "\n",
    "En `Python`:"
   ]
  },
  {
   "cell_type": "code",
   "execution_count": null,
   "metadata": {},
   "outputs": [],
   "source": [
    "B = np.array([[3, 0], \n",
    "              [8, -1]])\n",
    "\n",
    "w, v = np.linalg.eig(B)\n",
    "print('Eigenvalor 1:', w[0])\n",
    "print('Eigenvector 1:')\n",
    "print(v[:,0].reshape(2,1)) # Python los devuelve normalizados\n",
    "print('Eigenvalor 2:', w[1])\n",
    "print('Eigenvector 2:')\n",
    "print(v[:,1].reshape(2,1))"
   ]
  },
  {
   "cell_type": "code",
   "execution_count": null,
   "metadata": {},
   "outputs": [],
   "source": [
    "n = 5\n",
    "S = v\n",
    "l = np.diag(w)\n",
    "S_inv = np.linalg.inv(S)\n",
    "directa = np.vectorize(lambda x: '{:f}'.format(x))(S.dot(l**n).dot(S_inv))\n",
    "directa"
   ]
  },
  {
   "cell_type": "code",
   "execution_count": null,
   "metadata": {},
   "outputs": [],
   "source": [
    "e1 = '{:f}'.format(3**n)\n",
    "e2 = 0\n",
    "e3 = '{:f}'.format(2*(3**n) + (-2)*(-1)**n)\n",
    "e4 = '{:f}'.format((-1)**n)\n",
    "formulas = np.array([[e1, e2], [e3, e4]])\n",
    "formulas"
   ]
  },
  {
   "cell_type": "markdown",
   "metadata": {},
   "source": [
    "Con la función `matrix_power`:"
   ]
  },
  {
   "cell_type": "code",
   "execution_count": null,
   "metadata": {},
   "outputs": [],
   "source": [
    "matrix_power(B, n)"
   ]
  },
  {
   "cell_type": "markdown",
   "metadata": {},
   "source": [
    "###  Ejercicio 1.c.\n"
   ]
  },
  {
   "cell_type": "markdown",
   "metadata": {},
   "source": [
    " \\begin{align}\n",
    " C = AB &= \\begin{bmatrix} 7 & 10 \\\\ 1 & -2 \\end{bmatrix} \\times \\begin{bmatrix} 3 & 0 \\\\ 8 & -1 \\end{bmatrix} \\\\\n",
    "&= \\begin{bmatrix} 7*3 + 10*8 & 7*0 + 10*-1 \\\\ 1*3 - 2*8 & 1*0 - 2*-1 \\end{bmatrix} \\\\\n",
    "C &= \\begin{bmatrix} 101 & -10 \\\\ -13 & -2 \\end{bmatrix}\n",
    "\\end{align}\n",
    "\n",
    "En `Python`:"
   ]
  },
  {
   "cell_type": "code",
   "execution_count": null,
   "metadata": {},
   "outputs": [],
   "source": [
    "C = A.dot(B)\n",
    "C"
   ]
  },
  {
   "cell_type": "markdown",
   "metadata": {},
   "source": [
    "## Ejercicio 2\n",
    "\n",
    "### Ejercicio 2.a. \n",
    "\n",
    "El vector **a** sería $\\begin{bmatrix} 2 \\\\ -1 \\\\ 7\\end{bmatrix}$ y el vector **b** sería $\\begin{bmatrix} 1 \\\\ 2 \\\\ 0\\end{bmatrix}$.\n",
    "\n",
    "Partiendo de la definición geométrica del producto punto, encontramos que el ángulo entre dos vectores se puede encontrar con la siguiente formula:\n",
    "$$\\theta = arccos(\\frac{a\\cdot b}{\\|a\\|\\cdot\\|b\\|})$$\n",
    "\n",
    "El producto punto entre ambos vectores sería: $a\\cdot b = 2*1 + (-1)*2 + 7*0 = 0$. Como este es nuestro numerador, no es necesario calcular el producto entre las normas. Finalmente, $cos^{-1}(0)=90º$, y por lo tanto\n",
    "\n",
    "$$\\theta = 90º = \\frac{\\pi}{2}$$\n",
    "\n",
    "En `Python`:"
   ]
  },
  {
   "cell_type": "code",
   "execution_count": null,
   "metadata": {},
   "outputs": [],
   "source": [
    "a= np.array([2,-1,7])\n",
    "b= np.array([1,2,0])\n",
    "\n",
    "norm_a =np.linalg.norm(a)\n",
    "norm_b =np.linalg.norm(b)\n",
    "\n",
    "a.dot(b)\n"
   ]
  },
  {
   "cell_type": "code",
   "execution_count": null,
   "metadata": {},
   "outputs": [],
   "source": [
    "norm_a*norm_b"
   ]
  },
  {
   "cell_type": "code",
   "execution_count": null,
   "metadata": {},
   "outputs": [],
   "source": [
    "np.arccos(0)"
   ]
  },
  {
   "cell_type": "markdown",
   "metadata": {},
   "source": [
    "- $\\frac{\\pi}{2}$"
   ]
  },
  {
   "cell_type": "code",
   "execution_count": null,
   "metadata": {},
   "outputs": [],
   "source": [
    " import math"
   ]
  },
  {
   "cell_type": "code",
   "execution_count": null,
   "metadata": {},
   "outputs": [],
   "source": [
    "\n",
    "math.pi/2"
   ]
  },
  {
   "cell_type": "markdown",
   "metadata": {},
   "source": [
    "A grados"
   ]
  },
  {
   "cell_type": "code",
   "execution_count": null,
   "metadata": {},
   "outputs": [],
   "source": [
    " math.degrees(np.arccos(0))"
   ]
  },
  {
   "cell_type": "markdown",
   "metadata": {},
   "source": [
    "### Ejercicio 2.b. \n",
    "- $a\\cdot b = 1*1 + 0*1 + 1*0 = 1$\n",
    "- $\\|a\\| = \\sqrt{1^2+0^2+1^2}=\\sqrt{2}$\n",
    "- $\\|b\\| = \\sqrt{1^2+1^2+0^2}=\\sqrt{2}$\n",
    "- $\\|a\\|\\cdot \\|b\\|=2$\n",
    "\n",
    "$$\\theta = arccos(\\frac{1}{2})=60º=\\frac{\\pi}{3}$$\n",
    "\n",
    "En `Python`:"
   ]
  },
  {
   "cell_type": "code",
   "execution_count": null,
   "metadata": {},
   "outputs": [],
   "source": [
    "a= np.array([1,0,1])\n",
    "b= np.array([1,1,0])\n",
    "\n",
    "norm_a =np.linalg.norm(a)\n",
    "norm_b =np.linalg.norm(b)\n",
    "\n",
    "theta=np.arccos(a.dot(b)/(norm_a*norm_b))\n",
    "math.degrees(theta)"
   ]
  },
  {
   "cell_type": "markdown",
   "metadata": {},
   "source": [
    "## Ejercicio 3\n"
   ]
  },
  {
   "cell_type": "markdown",
   "metadata": {},
   "source": [
    "Sabemos que las rectas que comienzan con $x-2y$ no se van a cortar entre sí. De la misma forma, las rectas que comienzan con $2x+3y$ tampoco se van a cruzar. Esto porque son paralelas. Entonces sabemos que las primeras dos se cortarán una vez con cada recta que comienza con $2x+3y$. \n",
    "\n",
    "Mirémoslo en un gráfico:"
   ]
  },
  {
   "cell_type": "code",
   "execution_count": 3,
   "metadata": {},
   "outputs": [
    {
     "data": {
      "image/png": "[encoded data removed]",
      "text/plain": [
       "<Figure size 432x288 with 1 Axes>"
      ]
     },
     "metadata": {
      "needs_background": "light"
     },
     "output_type": "display_data"
    }
   ],
   "source": [
    "import matplotlib.pyplot as plt #Llamamos a matplotlib\n",
    "x = np.linspace(-5, 5, 100)\n",
    "y1 = (x-3)/2\n",
    "y2 = (x-10)/2\n",
    "y3 = (-1-2*x)/3\n",
    "y4 = (-8-2*x)/3\n",
    "\n",
    "plt.plot(x, y1, '-r', label='x-2y=3')\n",
    "plt.plot(x, y2, '-b', label='x-2y=10')\n",
    "plt.plot(x, y3, '-g', label='2x+3y=-1')\n",
    "plt.plot(x, y4, '-m', label='2x+3y=-8')\n",
    "plt.legend(loc = 'upper left')\n",
    "plt.grid()\n",
    "\n",
    "plt.show()"
   ]
  },
  {
   "cell_type": "markdown",
   "metadata": {},
   "source": [
    "Resolviendo los sistemas de ecuaciones vamos a encontrar que tenemos 4 puntos: $(1, -1);\\ (-1,-2);\\ (4,-3);\\ (2,-4)$. Podemos decir que el paralelogramo contenido por las rectas está conformado por dos vectores:\n",
    "\n",
    "- $(2,-4) - (4,-3) = \\langle-2,-1\\rangle$\n",
    "- $(2,-4) - (-1,-2) = \\langle-3,-2\\rangle$\n",
    "\n",
    "Construimos una matriz con esos dos vectores y calculamos el determinate:\n",
    "$$det(\\begin{bmatrix} -2 & -3 \\\\ -1 & -2\\end{bmatrix})=1$$\n",
    "\n",
    "Dada la definición geométrica del determinante sabemos que su valor absoluto representa el área del paralelogramo conformado por estos vectores.\n",
    "\n",
    "En `Python`:\n"
   ]
  },
  {
   "cell_type": "code",
   "execution_count": null,
   "metadata": {},
   "outputs": [],
   "source": [
    "A=np.array([[-2,-3],\n",
    "          [-1,-2]])\n",
    "np.linalg.det(A)"
   ]
  },
  {
   "cell_type": "markdown",
   "metadata": {},
   "source": [
    "## Ejercicio 4"
   ]
  },
  {
   "cell_type": "markdown",
   "metadata": {},
   "source": [
    "De forma análoga al ejercicio anterior, construimos la matriz de los vectores y calculamos su determinante:\n",
    "\n",
    "$$det(\\begin{bmatrix} 2 & -1 & -2 \\\\ 1 & 2 & -3 \\\\ -1 & 3 & 5 \\end{bmatrix})$$\n",
    "$$=(2*2*5)+(-1*-3*-1)+(-2*1*3)-(-2*2*-1)-(-3*3*2)-(5*1*-1)$$\n",
    "$$=20-3-6-4+18+5$$\n",
    "\n",
    "El volumen del paralelepípedo es igual a 30.\n",
    "\n",
    "En `Python`:"
   ]
  },
  {
   "cell_type": "code",
   "execution_count": null,
   "metadata": {},
   "outputs": [],
   "source": [
    "A=np.array([[2,-1,-2],\n",
    "          [1,2,-3],\n",
    "          [-1,3,5]])\n",
    "np.linalg.det(A)"
   ]
  },
  {
   "cell_type": "code",
   "execution_count": null,
   "metadata": {},
   "outputs": [],
   "source": []
  }
 ],
 "metadata": {
  "interpreter": {
   "hash": "8fac594bfae6525c0c41b4041d2d72effa188cc8ead05f81b1fab2bb098927fb"
  },
  "kernelspec": {
   "display_name": "Python 3 (ipykernel)",
   "language": "python",
   "name": "python3"
  },
  "language_info": {
   "codemirror_mode": {
    "name": "ipython",
    "version": 3
   },
   "file_extension": ".py",
   "mimetype": "text/x-python",
   "name": "python",
   "nbconvert_exporter": "python",
   "pygments_lexer": "ipython3",
   "version": "3.9.7"
  },
  "toc": {
   "base_numbering": 1,
   "nav_menu": {},
   "number_sections": true,
   "sideBar": true,
   "skip_h1_title": false,
   "title_cell": "Table of Contents",
   "title_sidebar": "Contents",
   "toc_cell": false,
   "toc_position": {},
   "toc_section_display": true,
   "toc_window_display": true
  }
 },
 "nbformat": 4,
 "nbformat_minor": 4
}
