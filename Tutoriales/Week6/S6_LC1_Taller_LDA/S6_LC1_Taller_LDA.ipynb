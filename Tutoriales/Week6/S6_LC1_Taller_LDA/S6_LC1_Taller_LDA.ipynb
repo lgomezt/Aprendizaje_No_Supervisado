{
 "cells": [
  {
   "cell_type": "markdown",
   "id": "da72de5f",
   "metadata": {},
   "source": [
    "<div >\n",
    "<img src = \"figs/ans_banner_1920x200.png\" />\n",
    "</div>"
   ]
  },
  {
   "cell_type": "markdown",
   "id": "2b151b20",
   "metadata": {},
   "source": [
    "# Caso-taller:  Recomendando el Blog de  Hernán Casciari \n",
    "\n",
    "\n",
    "[Hernán Casciari](https://hernancasciari.com/#bio), es un escritor argentino, que escribe blog posts con cuentos e historias  relacionadas con el futbol, su vida, infancia, y relaciones familiares con toques de ficción. Este [blog](https://hernancasciari.com/blog/) es  tan interesantes que en 2005 fue premiado como “El mejor blog del mundo” por Deutsche Welle de Alemania. \n",
    "\n",
    "El objetivo de este caso-taller es construir un sistema de recomendación basado en los contenidos de los posts."
   ]
  },
  {
   "cell_type": "markdown",
   "id": "892acd2b",
   "metadata": {},
   "source": [
    "## Instrucciones generales\n",
    "\n",
    "1. Para desarrollar el *cuaderno*, primero debe descargarlo.\n",
    "\n",
    "2. Para responder cada inciso deberá utilizar el espacio debidamente especificado.\n",
    "\n",
    "3. La actividad será calificada sólo si sube el *cuaderno* de jupyter notebook con extensión `.ipynb` en la actividad designada como \"entrega calificada por el personal\".\n",
    "\n",
    "4. El archivo entregado debe poder ser ejecutado localmente por el tutor. Sea cuidadoso con la especificación de la ubicación de los archivos de soporte, guarde la carpeta de datos en el mismo `path` de su cuaderno, por ejemplo: `data`."
   ]
  },
  {
   "cell_type": "markdown",
   "id": "014e89b0",
   "metadata": {},
   "source": [
    "## Desarrollo\n"
   ]
  },
  {
   "cell_type": "markdown",
   "id": "dcadd9e7",
   "metadata": {},
   "source": [
    "### 1.Carga de datos \n",
    "\n",
    "En la carpeta `data` se encuentran el archivo posts con el título, la fecha de publicación, y el contenido de posts de sr. Casciari. Cargue estos datos en su *cuaderno*\n",
    "   "
   ]
  },
  {
   "cell_type": "code",
   "execution_count": 3,
   "id": "92f34e45",
   "metadata": {},
   "outputs": [],
   "source": [
    "# Utilice este espacio para escribir el código."
   ]
  },
  {
   "cell_type": "markdown",
   "id": "97109a0c",
   "metadata": {},
   "source": [
    "(Utilice este espacio para describir su procedimiento)."
   ]
  },
  {
   "cell_type": "markdown",
   "id": "611a45ca",
   "metadata": {},
   "source": [
    "### 2. Análisis exploratorio de los datos. \n",
    "\n",
    "En esta sección exploraremos los posts.\n",
    "\n",
    "#### 2.1 Limpie y homogenice  el texto de los posts, sin eliminar las *stopwords* ni lematizar. Explique paso  a paso su procedimiento ilustrando con una de las entradas del blog. Sea explicito si remueve alguna palabra en especial."
   ]
  },
  {
   "cell_type": "code",
   "execution_count": 4,
   "id": "36fac364",
   "metadata": {},
   "outputs": [],
   "source": [
    "# Utilice este espacio para escribir el código."
   ]
  },
  {
   "cell_type": "markdown",
   "id": "3fc38d31",
   "metadata": {},
   "source": [
    "(Utilice este espacio para describir el procedimiento, análisis, y conclusiones)"
   ]
  },
  {
   "cell_type": "markdown",
   "id": "59bfc2d2",
   "metadata": {},
   "source": [
    "#### 2.2 ¿Cuáles son las palabras más utilizadas por año? Presente sus resultados usando una nube de palabras por año."
   ]
  },
  {
   "cell_type": "code",
   "execution_count": 5,
   "id": "dd4bdd7f",
   "metadata": {},
   "outputs": [],
   "source": [
    "# Utilice este espacio para escribir el código."
   ]
  },
  {
   "cell_type": "markdown",
   "id": "810ea3d6",
   "metadata": {},
   "source": [
    "(Utilice este espacio para describir el procedimiento, análisis, y conclusiones)"
   ]
  },
  {
   "cell_type": "markdown",
   "id": "778b92ae",
   "metadata": {},
   "source": [
    "#### 2.3 ¿Cómo cambia la composición de las palabras más utilizadas por año si remueve las *stopwords* y lematiza? Presente sus resultados usando una nube de palabras por año. Explique de donde salen las *stopwords* que utilizó y si decidió ampliarlas. Note que el escritor es argentino  por lo tanto habrán palabras particulares de este país."
   ]
  },
  {
   "cell_type": "code",
   "execution_count": 6,
   "id": "72eb0a7e",
   "metadata": {},
   "outputs": [],
   "source": [
    "# Utilice este espacio para escribir el código."
   ]
  },
  {
   "cell_type": "markdown",
   "id": "fa59b506",
   "metadata": {},
   "source": [
    "(Utilice este espacio para describir el procedimiento, análisis y conclusiones)"
   ]
  },
  {
   "cell_type": "markdown",
   "id": "f383fc01",
   "metadata": {},
   "source": [
    "#### 2.4 Obtenga una tabla y/o gráfica que muestre el total de posts por año, el promedio de palabras por post, el total de palabras utilizadas y el total de palabras únicas."
   ]
  },
  {
   "cell_type": "code",
   "execution_count": 7,
   "id": "5b2e4e2a",
   "metadata": {},
   "outputs": [],
   "source": [
    "# Utilice este espacio para escribir el código."
   ]
  },
  {
   "cell_type": "markdown",
   "id": "9a656c54",
   "metadata": {},
   "source": [
    "(Utilice este espacio para describir el procedimiento, análisis, y conclusiones)"
   ]
  },
  {
   "cell_type": "markdown",
   "id": "c994d7e3",
   "metadata": {},
   "source": [
    "### 3. Generando Recomendaciones\n",
    "\n",
    "En esta sección nos interesa generar recomendaciones, para ello va a elegir una entrada de la base que le pareció interesante y generar recomendaciones para ella utilizando distintos procedimientos"
   ]
  },
  {
   "cell_type": "markdown",
   "id": "8c3df5b3",
   "metadata": {},
   "source": [
    "#### 3.1. Basados en similitud  utilizando CountVectorizer"
   ]
  },
  {
   "cell_type": "markdown",
   "id": "8179626e",
   "metadata": {
    "id": "yjsuqTEKhhpF"
   },
   "source": [
    "Genere una función recomendadora basado en la distancia de coseno donde el texto este vactorizado por `CountVectorizer`. Muestre y describa las 10 entradas más recomendadas."
   ]
  },
  {
   "cell_type": "code",
   "execution_count": 8,
   "id": "1e22fa41",
   "metadata": {},
   "outputs": [],
   "source": [
    "# Utilice este espacio para escribir el código."
   ]
  },
  {
   "cell_type": "markdown",
   "id": "cbddd9cb",
   "metadata": {},
   "source": [
    "(Utilice este espacio para describir el procedimiento, análisis, y conclusiones)"
   ]
  },
  {
   "cell_type": "markdown",
   "id": "8b431efe",
   "metadata": {},
   "source": [
    "#### 3.2.  Basados en similitud  utilizando TF-IDFVectorizer"
   ]
  },
  {
   "cell_type": "markdown",
   "id": "f36f517a",
   "metadata": {},
   "source": [
    "Genere una función recomendadora basado en la distancia de coseno donde el texto este vectorizado  por `TF-IDFVectorizer`. Muestre y describa las 10 entradas más recomendadas. Compare con los resultados encontrados anteriormente y explique sus similitudes y/o diferencias."
   ]
  },
  {
   "cell_type": "code",
   "execution_count": 9,
   "id": "b891c072",
   "metadata": {},
   "outputs": [],
   "source": [
    "# Utilice este espacio para escribir el código."
   ]
  },
  {
   "cell_type": "markdown",
   "id": "9be4dcc6",
   "metadata": {},
   "source": [
    "(Utilice este espacio para describir el procedimiento, análisis y conclusiones)"
   ]
  },
  {
   "cell_type": "markdown",
   "id": "6bc8cd9b",
   "metadata": {},
   "source": [
    "#### 3.3.  Basados en tópicos"
   ]
  },
  {
   "cell_type": "markdown",
   "id": "2767839a",
   "metadata": {},
   "source": [
    "Encuentre los tópicos subyacentes en los posts. Comience con 3 tópicos, el sr. Casciari suele hablar mucho  sobre \"Jugar/Niñez\", \"Fútbol\" y el \"Futuro\". Vea si encuentra estos tópicos subyacentes. Para ello genere una visualización de los tópicos y analice cuáles son las palabras más frecuentes dentro de cada uno de ellos."
   ]
  },
  {
   "cell_type": "code",
   "execution_count": 10,
   "id": "e4701c53",
   "metadata": {},
   "outputs": [],
   "source": [
    "# Utilice este espacio para escribir el código."
   ]
  },
  {
   "cell_type": "markdown",
   "id": "90119d53",
   "metadata": {},
   "source": [
    "(Utilice este espacio para describir el procedimiento, análisis, y conclusiones)"
   ]
  },
  {
   "cell_type": "markdown",
   "id": "5875aece",
   "metadata": {},
   "source": [
    "Asigne cada entrada a uno de estos tres tópicos y genere recomendaciones restringidas al tópico al que pertenece la entrada que eligió.  Compare con los resultados encontrados anteriormente y explique sus similitudes y/o diferencias."
   ]
  },
  {
   "cell_type": "code",
   "execution_count": 11,
   "id": "47087bab",
   "metadata": {},
   "outputs": [],
   "source": [
    "# Utilice este espacio para escribir el código."
   ]
  },
  {
   "cell_type": "markdown",
   "id": "2ba35293",
   "metadata": {},
   "source": [
    "(Utilice este espacio para describir el procedimiento, análisis, y conclusiones)"
   ]
  },
  {
   "cell_type": "markdown",
   "id": "ada86afd",
   "metadata": {},
   "source": [
    "Refine el número de tópicos usando la medida de coherencia. Explique brevemente en que consiste y cuántos tópicos encontró."
   ]
  },
  {
   "cell_type": "code",
   "execution_count": 12,
   "id": "ff6cf9e3",
   "metadata": {},
   "outputs": [],
   "source": [
    "# Utilice este espacio para escribir el código."
   ]
  },
  {
   "cell_type": "markdown",
   "id": "1370d231",
   "metadata": {},
   "source": [
    "Asigne cada entrada a estos nuevos tópicos y genere recomendaciones restringidas al tópico al que pertenece la entrada que eligió.  Compare con los resultados encontrados anteriormente y explique sus similitudes y/o diferencias."
   ]
  },
  {
   "cell_type": "markdown",
   "id": "15cef1d2",
   "metadata": {},
   "source": [
    "### 4. Recomendaciones generales"
   ]
  },
  {
   "cell_type": "markdown",
   "id": "c92e7fca",
   "metadata": {},
   "source": [
    "De acuerdo con los resultados encontrados, en su opinión ¿qué procedimiento generó las mejores recomendaciones para la entrada elegida? ¿Cómo implementaría una evaluación objetiva de estas recomendaciones? Justifique su respuesta."
   ]
  },
  {
   "cell_type": "code",
   "execution_count": 13,
   "id": "2e24c30f",
   "metadata": {},
   "outputs": [],
   "source": [
    "# Utilice este espacio para escribir el código."
   ]
  },
  {
   "cell_type": "markdown",
   "id": "fe44369f",
   "metadata": {},
   "source": [
    "(Utilice este espacio para describir el procedimiento, análisis, y conclusiones)"
   ]
  }
 ],
 "metadata": {
  "kernelspec": {
   "display_name": "Python 3 (ipykernel)",
   "language": "python",
   "name": "python3"
  },
  "language_info": {
   "codemirror_mode": {
    "name": "ipython",
    "version": 3
   },
   "file_extension": ".py",
   "mimetype": "text/x-python",
   "name": "python",
   "nbconvert_exporter": "python",
   "pygments_lexer": "ipython3",
   "version": "3.9.7"
  },
  "toc": {
   "base_numbering": 1,
   "nav_menu": {},
   "number_sections": true,
   "sideBar": true,
   "skip_h1_title": false,
   "title_cell": "Table of Contents",
   "title_sidebar": "Contents",
   "toc_cell": false,
   "toc_position": {},
   "toc_section_display": true,
   "toc_window_display": true
  }
 },
 "nbformat": 4,
 "nbformat_minor": 5
}
