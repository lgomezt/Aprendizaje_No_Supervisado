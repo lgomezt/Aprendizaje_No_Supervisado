{
 "cells": [
  {
   "cell_type": "markdown",
   "id": "da72de5f",
   "metadata": {},
   "source": [
    "<div >\n",
    "<img src = \"figs/ans_banner_1920x200.png\" />\n",
    "</div>"
   ]
  },
  {
   "cell_type": "markdown",
   "id": "2b151b20",
   "metadata": {},
   "source": [
    "# Caso-taller:  Segmentación de Clientes con Clustering Jerárquico y DBSCAN"
   ]
  },
  {
   "cell_type": "markdown",
   "id": "e0d05eac",
   "metadata": {},
   "source": [
    "El objetivo de este caso-taller es analizar una base de datos ficticia sobre clientes de una tienda y buscar encontrar grupos de clientes que permitan generar estrategias de marketing focalizadas. La base se encuentra en la carpeta `data` y cuenta con 200 observaciones y 5 variables:\n",
    "\n",
    "- `Id_Cliente`: identificador de cliente.\n",
    "- `Genero`: género del cliente: Mujer, Hombre\n",
    "- `Edad`: edad en años\n",
    "- `Ingreso`: ingresos anuales\n",
    "- `Puntaje_Gasto`: es una variable que mide cuán a menudo un cliente compra en la tienda, siendo 100 el puntaje más alto.\n"
   ]
  },
  {
   "cell_type": "markdown",
   "id": "892acd2b",
   "metadata": {},
   "source": [
    "## Instrucciones generales\n",
    "\n",
    "1. Para desarrollar el *cuaderno* primero debe descargarlo.\n",
    "\n",
    "2. Para responder cada inciso deberá utilizar el espacio debidamente especificado.\n",
    "\n",
    "3. La actividad será calificada sólo si sube el *cuaderno* de jupyter notebook con extensión `.ipynb` en la actividad designada como \"entrega calificada por el personal\".\n",
    "\n",
    "4. El archivo entregado debe poder ser ejecutado localmente por el tutor. Sea cuidadoso con la especificación de la ubicación de los archivos de soporte, guarde la carpeta de datos en el mismo `path` de su cuaderno, por ejemplo: `data`."
   ]
  },
  {
   "cell_type": "markdown",
   "id": "014e89b0",
   "metadata": {},
   "source": [
    "## Desarrollo\n"
   ]
  },
  {
   "cell_type": "markdown",
   "id": "dcadd9e7",
   "metadata": {},
   "source": [
    "### 1.Carga de datos \n",
    "\n",
    "En la carpeta `data` se encuentra el archivo `datos_clientes.csv` cargue estos datos en su *cuaderno*. "
   ]
  },
  {
   "cell_type": "code",
   "execution_count": 1,
   "id": "92f34e45",
   "metadata": {},
   "outputs": [],
   "source": [
    "# Utilice este espacio para escribir el código."
   ]
  },
  {
   "cell_type": "markdown",
   "id": "97109a0c",
   "metadata": {},
   "source": [
    "(Utilice este espacio para describir su procedimiento)."
   ]
  },
  {
   "cell_type": "markdown",
   "id": "611a45ca",
   "metadata": {},
   "source": [
    "### 2. Análisis descriptivo de los datos. \n",
    "\n",
    "Antes de comenzar el análisis de segmentación haga un análisis descriptivo de los datos, para ello puede hacer uso de estadísticas descriptivas y/o histogramas y/o correlogramas. En su análisis mencione si hay patrones que surgen del examen descriptivo de los datos; entre ellos si hay diferencias en los ingresos y los puntajes de gastos para mujeres y hombres, por grupos etarios (18-24, 25-34, 35-44, 45-54, 55-64, y 65+), y por grupos etarios y género. Discuta además si estas diferencias son estadisticamente significativas."
   ]
  },
  {
   "cell_type": "code",
   "execution_count": 2,
   "id": "36fac364",
   "metadata": {},
   "outputs": [],
   "source": [
    "# Utilice este espacio para escribir el código."
   ]
  },
  {
   "cell_type": "markdown",
   "id": "3fc38d31",
   "metadata": {},
   "source": [
    "(Utilice este espacio para describir el procedimiento, análisis y conclusiones)"
   ]
  },
  {
   "cell_type": "markdown",
   "id": "c994d7e3",
   "metadata": {},
   "source": [
    "### 3. Clustering Jerárquico"
   ]
  },
  {
   "cell_type": "markdown",
   "id": "8c3df5b3",
   "metadata": {},
   "source": [
    "### 3.1. Dendogramas"
   ]
  },
  {
   "cell_type": "markdown",
   "id": "8179626e",
   "metadata": {
    "id": "yjsuqTEKhhpF"
   },
   "source": [
    "Agrupe a los clientes utilizando sólo dos variables: su ingreso y el puntaje de gastos. Para ello retenga estas dos variables, construya y grafique un dendograma. Para la construcción del dendograma utilice el enlace 'ward' y la distancia euclidiana."
   ]
  },
  {
   "cell_type": "code",
   "execution_count": 3,
   "id": "1e22fa41",
   "metadata": {},
   "outputs": [],
   "source": [
    "# Utilice este espacio para escribir el código."
   ]
  },
  {
   "cell_type": "markdown",
   "id": "cbddd9cb",
   "metadata": {},
   "source": [
    "(Utilice este espacio para describir el procedimiento, análisis y conclusiones)"
   ]
  },
  {
   "cell_type": "markdown",
   "id": "8b431efe",
   "metadata": {},
   "source": [
    "### 3.2. Número de clusters"
   ]
  },
  {
   "cell_type": "markdown",
   "id": "f36f517a",
   "metadata": {},
   "source": [
    "Retenga el número de clusters que se obtengan luego de fijar la distancia en 150."
   ]
  },
  {
   "cell_type": "code",
   "execution_count": 4,
   "id": "b891c072",
   "metadata": {},
   "outputs": [],
   "source": [
    "# Utilice este espacio para escribir el código."
   ]
  },
  {
   "cell_type": "markdown",
   "id": "9be4dcc6",
   "metadata": {},
   "source": [
    "(Utilice este espacio para describir el procedimiento, análisis y conclusiones)"
   ]
  },
  {
   "cell_type": "markdown",
   "id": "6bc8cd9b",
   "metadata": {},
   "source": [
    "### 3.3. Algoritmo Jerárquico Aglomerativo"
   ]
  },
  {
   "cell_type": "markdown",
   "id": "2767839a",
   "metadata": {},
   "source": [
    "Utilizando el número de clusters encontrados en el paso anterior, aplique el algoritmo jerárquico aglomerativo. Explique brevemente en que consiste. En su aplicación escoja un método de enlace y una métrica de distancia, siempre justificando su elección. "
   ]
  },
  {
   "cell_type": "code",
   "execution_count": 5,
   "id": "e4701c53",
   "metadata": {},
   "outputs": [],
   "source": [
    "# Utilice este espacio para escribir el código."
   ]
  },
  {
   "cell_type": "markdown",
   "id": "90119d53",
   "metadata": {},
   "source": [
    "(Utilice este espacio para describir el procedimiento, análisis y conclusiones)"
   ]
  },
  {
   "cell_type": "markdown",
   "id": "13a3a6d5",
   "metadata": {},
   "source": [
    "Haga un gráfico de dispersión donde se puedan visualizar los clusters encontrados e interprete los mismos en términos del tipo clientes que representan. ¿Si usted tiene que elegir uno de estos grupos para focalizar su estrategia de marketing, cuál eligiría y por qué?"
   ]
  },
  {
   "cell_type": "code",
   "execution_count": 6,
   "id": "1413ac3f",
   "metadata": {},
   "outputs": [],
   "source": [
    "# Utilice este espacio para escribir el código."
   ]
  },
  {
   "cell_type": "markdown",
   "id": "9c978bba",
   "metadata": {},
   "source": [
    "(Utilice este espacio para describir el procedimiento, análisis y conclusiones)"
   ]
  },
  {
   "cell_type": "markdown",
   "id": "15cef1d2",
   "metadata": {},
   "source": [
    "#### 4. DBSCAN"
   ]
  },
  {
   "cell_type": "markdown",
   "id": "c92e7fca",
   "metadata": {},
   "source": [
    "Implemente DBSCAN, al igual que el punto anterior sólo dos variables: su ingreso y el puntaje de gastos. Antes de implementar DBSCAN explique brevemente en que consiste, los parámetros de los cuáles depende y justifique su elección de `eps`, `min_samples` y `metric`."
   ]
  },
  {
   "cell_type": "code",
   "execution_count": 7,
   "id": "2e24c30f",
   "metadata": {},
   "outputs": [],
   "source": [
    "# Utilice este espacio para escribir el código."
   ]
  },
  {
   "cell_type": "markdown",
   "id": "fe44369f",
   "metadata": {},
   "source": [
    "(Utilice este espacio para describir el procedimiento, análisis y conclusiones)"
   ]
  },
  {
   "cell_type": "markdown",
   "id": "66728ffc",
   "metadata": {},
   "source": [
    "Haga un gráfico de dispersión donde se puedan vizualizar los clusters encontrados e interprete los mismos en términos del tipo clientes que representan. ¿Si usted tiene que elegir uno de estos grupos para focalizar su estrategia de marketing, cuál eligiría y porqué? ¿Cambian sus resultados respecto a los encontrados anteriormente? Explique por qué usted considera que cambiaron o no los resultados?"
   ]
  },
  {
   "cell_type": "markdown",
   "id": "0042df06",
   "metadata": {},
   "source": [
    "### 5. Robustez"
   ]
  },
  {
   "cell_type": "markdown",
   "id": "a5529c4e",
   "metadata": {},
   "source": [
    "#### 5.1. Estandarización\n",
    "\n",
    "Estandarice los datos y repita su análisis de Clustering Jerárquico y DBSCAN. ¿Cambian los resultados? Explique su respuesta"
   ]
  },
  {
   "cell_type": "code",
   "execution_count": 8,
   "id": "a3340629",
   "metadata": {},
   "outputs": [],
   "source": [
    "# Utilice este espacio para escribir el código."
   ]
  },
  {
   "cell_type": "markdown",
   "id": "abc34fa4",
   "metadata": {},
   "source": [
    "(Utilice este espacio para describir el procedimiento, análisis y conclusiones)"
   ]
  },
  {
   "cell_type": "markdown",
   "id": "b7dce405",
   "metadata": {},
   "source": [
    "#### 5.2. Incorporando más dimensiones"
   ]
  },
  {
   "cell_type": "markdown",
   "id": "b609a23e",
   "metadata": {},
   "source": [
    "Hasta este momento hemos utilizado solo dos variables para nuestro análisis, sin embargo, la base cuenta con otras variables más: género y edad. Discuta como puede incorporar estas variables a su análisis, sientase libre de elegir el camino que usted considere correcto. Una vez que haya elegido un camino, realice nuevamente el análisis de segmentación usando sólo DBSCAN. Grafique sus resultados, e interprete los clusters que encontró. ¿Incorporar estas variables restantes, en su opinión, ayuda a la focalización de la estrategia de marketing?"
   ]
  },
  {
   "cell_type": "code",
   "execution_count": 9,
   "id": "dc7e0137",
   "metadata": {},
   "outputs": [],
   "source": [
    "# Utilice este espacio para escribir el código."
   ]
  },
  {
   "cell_type": "markdown",
   "id": "af269ba1",
   "metadata": {},
   "source": [
    "(Utilice este espacio para describir el procedimiento, análisis y conclusiones)"
   ]
  }
 ],
 "metadata": {
  "kernelspec": {
   "display_name": "Python 3 (ipykernel)",
   "language": "python",
   "name": "python3"
  },
  "language_info": {
   "codemirror_mode": {
    "name": "ipython",
    "version": 3
   },
   "file_extension": ".py",
   "mimetype": "text/x-python",
   "name": "python",
   "nbconvert_exporter": "python",
   "pygments_lexer": "ipython3",
   "version": "3.9.7"
  },
  "toc": {
   "base_numbering": 1,
   "nav_menu": {},
   "number_sections": true,
   "sideBar": true,
   "skip_h1_title": false,
   "title_cell": "Table of Contents",
   "title_sidebar": "Contents",
   "toc_cell": false,
   "toc_position": {},
   "toc_section_display": true,
   "toc_window_display": false
  }
 },
 "nbformat": 4,
 "nbformat_minor": 5
}
