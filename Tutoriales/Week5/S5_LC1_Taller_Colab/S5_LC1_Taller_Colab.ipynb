{
 "cells": [
  {
   "cell_type": "markdown",
   "id": "da72de5f",
   "metadata": {},
   "source": [
    "<div >\n",
    "<img src = \"figs/ans_banner_1920x200.png\" />\n",
    "</div>"
   ]
  },
  {
   "cell_type": "markdown",
   "id": "2b151b20",
   "metadata": {},
   "source": [
    "# Caso-taller:  Recomendando Música"
   ]
  },
  {
   "cell_type": "markdown",
   "id": "e0d05eac",
   "metadata": {},
   "source": [
    "El objetivo de este caso-taller es construir un sistema de recomendación de Música utilizando los datos de [Last.fm](https://www.last.fm/) provistos  abiertamente por [grouplens](https://grouplens.org/about/what-is-grouplens/) para: **\"avanzar la teoría y la práctica de la computación social mediante la construcción y la comprensión de sistemas *(de recomendación)* utilizados por personas reales\".**\n",
    "\n",
    "Los datos contienen información sobre artistas, usuarios, y las veces que estos escucharon sus canciones. Las bases se encuentran en la carpeta `data`, allí también está disponible un archivo [README](data/readme.txt) que contiene más información sobre las bases.\n"
   ]
  },
  {
   "cell_type": "markdown",
   "id": "892acd2b",
   "metadata": {},
   "source": [
    "## Instrucciones generales\n",
    "\n",
    "1. Para desarrollar el *cuaderno*, primero debe descargarlo.\n",
    "\n",
    "2. Para responder cada inciso deberá utilizar el espacio debidamente especificado.\n",
    "\n",
    "3. La actividad será calificada sólo si sube el *cuaderno* de jupyter notebook con extensión `.ipynb` en la actividad designada como \"entrega calificada por el personal\".\n",
    "\n",
    "4. El archivo entregado debe poder ser ejecutado localmente por el tutor. Sea cuidadoso con la especificación de la ubicación de los archivos de soporte, guarde la carpeta de datos en el mismo `path` de su cuaderno, por ejemplo: `data`."
   ]
  },
  {
   "cell_type": "markdown",
   "id": "014e89b0",
   "metadata": {},
   "source": [
    "## Desarrollo\n"
   ]
  },
  {
   "cell_type": "markdown",
   "id": "dcadd9e7",
   "metadata": {},
   "source": [
    "### 1.Carga de datos \n",
    "\n",
    "En la carpeta `data` se encuentran los archivos:\n",
    "    - `artists.dat`  que contienen el identificador del artista (`id`), nombre (`name`), link a la página del artista en last.fm (`url`), y link a la imagen del usuario (`pictureURL`). Aunque varios de estos links están rotos. \n",
    "    - `user_artists.dat`  que contiene identificador del usuario (`userID`), nombre del artista que escuchó (`artistID`), y las veces que los escuchó (`weight`).\n",
    "\n",
    "Cargue estos datos en su *cuaderno*:\n",
    "\n",
    "   1. Para la base de artistas seleccione las columnas de identificador de artista (`id`) y nombre (`name`). Renombre estas columnas para poder hacer la unión con la base `user_artists.dat`.\n",
    "   2. Para la base de usuarios y artistas, renombre las columnas de forma tal que se mantenga la consistencia para unir con la base anterior, y renombre la columna `weight` a `nro_reproducciones`.\n",
    "   "
   ]
  },
  {
   "cell_type": "code",
   "execution_count": 1,
   "id": "92f34e45",
   "metadata": {},
   "outputs": [],
   "source": [
    "# Utilice este espacio para escribir el código."
   ]
  },
  {
   "cell_type": "markdown",
   "id": "97109a0c",
   "metadata": {},
   "source": [
    "(Utilice este espacio para describir su procedimiento)."
   ]
  },
  {
   "cell_type": "markdown",
   "id": "611a45ca",
   "metadata": {},
   "source": [
    "### 2. Análisis descriptivo de los datos. \n",
    "\n",
    "En esta sección exploraremos la base. Para ello responda las siguientes preguntas.\n",
    "\n",
    "#### 2.1 ¿Cuáles son los 10 artistas con más reproducciones en números absolutos y en porcentajes? Presente sus resultados usando tablas y/o gráficas."
   ]
  },
  {
   "cell_type": "code",
   "execution_count": 2,
   "id": "36fac364",
   "metadata": {},
   "outputs": [],
   "source": [
    "# Utilice este espacio para escribir el código."
   ]
  },
  {
   "cell_type": "markdown",
   "id": "3fc38d31",
   "metadata": {},
   "source": [
    "(Utilice este espacio para describir el procedimiento, análisis, y conclusiones)"
   ]
  },
  {
   "cell_type": "markdown",
   "id": "778b92ae",
   "metadata": {},
   "source": [
    "#### 2.2 ¿Cuáles son los 10 artistas con mas porcentaje de usuarios que  al menos  reprodujeron una vez sus canciones? Presente sus resultados usando tablas y/o gráficas."
   ]
  },
  {
   "cell_type": "code",
   "execution_count": 3,
   "id": "72eb0a7e",
   "metadata": {},
   "outputs": [],
   "source": [
    "# Utilice este espacio para escribir el código."
   ]
  },
  {
   "cell_type": "markdown",
   "id": "fa59b506",
   "metadata": {},
   "source": [
    "(Utilice este espacio para describir el procedimiento, análisis y conclusiones)"
   ]
  },
  {
   "cell_type": "markdown",
   "id": "f383fc01",
   "metadata": {},
   "source": [
    "#### 2.3 Para el usuario 8 (`userID==8`) encuentre los 10 artistas que más reproduce. Presente sus resultados usando tablas y/o gráficas. ¿Encuentra algún patrón en los artistas que escucha?"
   ]
  },
  {
   "cell_type": "code",
   "execution_count": 4,
   "id": "5b2e4e2a",
   "metadata": {},
   "outputs": [],
   "source": [
    "# Utilice este espacio para escribir el código."
   ]
  },
  {
   "cell_type": "markdown",
   "id": "9a656c54",
   "metadata": {},
   "source": [
    "(Utilice este espacio para describir el procedimiento, análisis, y conclusiones)"
   ]
  },
  {
   "cell_type": "markdown",
   "id": "c994d7e3",
   "metadata": {},
   "source": [
    "### 3. Generando Recomendaciones\n",
    "\n",
    "En esta sección nos interesa generar recomenaciones para el usuario 8 (`userID==8`). Para ello vamos a generar distintos recomendadores y comparar las recomendaciones generadas."
   ]
  },
  {
   "cell_type": "markdown",
   "id": "8c3df5b3",
   "metadata": {},
   "source": [
    "#### 3.1. Filtrado colaborativo sencillo: promedios"
   ]
  },
  {
   "cell_type": "markdown",
   "id": "8179626e",
   "metadata": {
    "id": "yjsuqTEKhhpF"
   },
   "source": [
    "Usando el promedio de reproducciones genere una tabla y/o gráfica donde figure el top 10 de recomendaciones para este usuario. Explique con cuidado su procedimiento, especificando qué hizo con aquellos artistas que no tienen reproducciones y justificando su elección."
   ]
  },
  {
   "cell_type": "code",
   "execution_count": 5,
   "id": "1e22fa41",
   "metadata": {},
   "outputs": [],
   "source": [
    "# Utilice este espacio para escribir el código."
   ]
  },
  {
   "cell_type": "markdown",
   "id": "cbddd9cb",
   "metadata": {},
   "source": [
    "(Utilice este espacio para describir el procedimiento, análisis, y conclusiones)"
   ]
  },
  {
   "cell_type": "markdown",
   "id": "8b431efe",
   "metadata": {},
   "source": [
    "#### 3.2.  Filtrado colaborativo sencillo: promedios ponderados"
   ]
  },
  {
   "cell_type": "markdown",
   "id": "f36f517a",
   "metadata": {},
   "source": [
    "Usando el promedio ponderado de reproducciones genere una tabla y/o gráfica donde figura el top 10 de recomendaciones para este usuario. Para generar los pesos utilice la distancia de coseno. Explique con cuidado su procedimiento, en qué consiste la distancia de coseno y especifique qué hizo con aquellos artistas que no tienen reproducciones y justifique su elección. Compare las recomendaciones con el recomendador implementado en el paso anterior."
   ]
  },
  {
   "cell_type": "code",
   "execution_count": 6,
   "id": "b891c072",
   "metadata": {},
   "outputs": [],
   "source": [
    "# Utilice este espacio para escribir el código."
   ]
  },
  {
   "cell_type": "markdown",
   "id": "9be4dcc6",
   "metadata": {},
   "source": [
    "(Utilice este espacio para describir el procedimiento, análisis y conclusiones)"
   ]
  },
  {
   "cell_type": "markdown",
   "id": "6bc8cd9b",
   "metadata": {},
   "source": [
    "#### 3.3.  Filtrado colaborativo usando SVD"
   ]
  },
  {
   "cell_type": "markdown",
   "id": "2767839a",
   "metadata": {},
   "source": [
    "Usando la descomposición en valores singulares genere una tabla y/o gráfica donde figura el top 10 de recomendaciones para este usuario. Explique con cuidado su procedimiento, justificando como eligió el número de valores singulares a utilizar. Compare las recomendaciones con el recomendador implementado en los pasos anteriores."
   ]
  },
  {
   "cell_type": "code",
   "execution_count": 7,
   "id": "e4701c53",
   "metadata": {},
   "outputs": [],
   "source": [
    "# Utilice este espacio para escribir el código."
   ]
  },
  {
   "cell_type": "markdown",
   "id": "90119d53",
   "metadata": {},
   "source": [
    "(Utilice este espacio para describir el procedimiento, análisis, y conclusiones)"
   ]
  },
  {
   "cell_type": "markdown",
   "id": "917d750d",
   "metadata": {},
   "source": [
    "#### 3.4.  Filtrado colaborativo usando Análisis de Canasta de Compra\n",
    "\n",
    "Utilizando el algoritmo `Apriori` genere reglas de asociación. Explique con cuidado su procedimiento, justificando la elección de los parámetros del algoritmo. Basándose  en los 10 artistas reproducidos por este usuario, qué recomendaciones le haría a este usuario? Compare las recomendaciones con los recomendadores implementados en los pasos anteriores."
   ]
  },
  {
   "cell_type": "code",
   "execution_count": 8,
   "id": "1413ac3f",
   "metadata": {},
   "outputs": [],
   "source": [
    "# Utilice este espacio para escribir el código."
   ]
  },
  {
   "cell_type": "markdown",
   "id": "9c978bba",
   "metadata": {},
   "source": [
    "(Utilice este espacio para describir el procedimiento, análisis, y conclusiones)"
   ]
  },
  {
   "cell_type": "markdown",
   "id": "15cef1d2",
   "metadata": {},
   "source": [
    "### 4. Recomendaciones generales"
   ]
  },
  {
   "cell_type": "markdown",
   "id": "c92e7fca",
   "metadata": {},
   "source": [
    "De acuerdo con los resultados encontrados, en su opinión ¿qué procedimiento generó las mejores recomendaciones para este usuario? ¿Cómo implementaría una evaluación objetiva de estas recomendaciones? Justifique su respuesta."
   ]
  },
  {
   "cell_type": "code",
   "execution_count": 9,
   "id": "2e24c30f",
   "metadata": {},
   "outputs": [],
   "source": [
    "# Utilice este espacio para escribir el código."
   ]
  },
  {
   "cell_type": "markdown",
   "id": "fe44369f",
   "metadata": {},
   "source": [
    "(Utilice este espacio para describir el procedimiento, análisis, y conclusiones)"
   ]
  }
 ],
 "metadata": {
  "kernelspec": {
   "display_name": "Python 3 (ipykernel)",
   "language": "python",
   "name": "python3"
  },
  "language_info": {
   "codemirror_mode": {
    "name": "ipython",
    "version": 3
   },
   "file_extension": ".py",
   "mimetype": "text/x-python",
   "name": "python",
   "nbconvert_exporter": "python",
   "pygments_lexer": "ipython3",
   "version": "3.9.7"
  },
  "toc": {
   "base_numbering": 1,
   "nav_menu": {},
   "number_sections": true,
   "sideBar": true,
   "skip_h1_title": false,
   "title_cell": "Table of Contents",
   "title_sidebar": "Contents",
   "toc_cell": false,
   "toc_position": {},
   "toc_section_display": true,
   "toc_window_display": true
  }
 },
 "nbformat": 4,
 "nbformat_minor": 5
}
