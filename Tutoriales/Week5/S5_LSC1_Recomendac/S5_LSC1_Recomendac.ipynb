{
 "cells": [
  {
   "cell_type": "markdown",
   "metadata": {},
   "source": [
    "<div >\n",
    "<img src = \"figs/ans_banner_1920x200.png\" />\n",
    "</div>"
   ]
  },
  {
   "cell_type": "markdown",
   "metadata": {},
   "source": [
    "# Sistemas de Recomendación. Fundamentos Teóricos.\n",
    "\n",
    "Este *cuaderno* trata sobre sistemas de recomendación. Estos sistemas, como su nombre lo indica, son técnicas y algoritmos que recomiendan o sugieren productos y/o servicios. El objetivo del *cuaderno* es que usted obtenga una visión general del mundo de los sistemas de recomendación y un resumen de  distintos tipos de recomendadores. Desarrollaremos también dos recomendadores sencillos: un recomendador sencillo y uno basado en contenido para que aprenda a reconocer las  características generales de estos sistemas, y cómo implementarlos y ejecutarlos en `Python`.\n",
    "\n",
    "**NO** es necesario editar el archivo o hacer una entrega. Sin embargo, los ejemplos contienen celdas con código ejecutable (`en gris`), que podrá modificar  libremente. Esta puede ser una buena forma de aprender nuevas funcionalidades del *cuaderno*, o experimentar variaciones en los códigos de ejemplo."
   ]
  },
  {
   "cell_type": "markdown",
   "metadata": {},
   "source": [
    "## ¿Qué son los sistemas de recomendaciones?\n",
    "\n",
    "\n",
    "Las preferencias de los individuos suelen seguir patrones que los sistemas de recomendación pueden aprovechar, por ejemplo, si hemos visto recientemente la película de Iron Man, y la disfrutamos, es muy probable que también disfrutemos la película de Thor. ¿Cómo pueden entonces los usuarios encontrar nuevo contenido atractivo? \n",
    "\n",
    "Una forma es que los usuarios busquen por si mismo el contenido. Otra forma, es utilizar sistemas de recomendaciones que sugieran elementos que los usuarios podrían no haber pensado en buscar por su cuenta. Por ejemplo, cuando compramos en línea es común ver sugerencias de otros productos bajo títulos como \"Comprados juntos habitualmente\" o \"Los clientes que compraron X también compraron Y\". \n",
    "\n",
    "Los sistemas de recomendación entonces encuentran patrones que son utilizados para predecir qué otros productos podrían gustarnos y generar sugerencias, de forma tal que  los usuarios encuentren contenido atractivo en un gran corpus. Estos sistemas son muy exitosos, por ejemplo según un estudio del 2013 de [McKinsey](https://www.mckinsey.com/industries/retail/our-insights/how-retailers-can-keep-up-with-consumers), el 35% de los artículos comprados en Amazon surgen de estos sistemas de recomendación, y por lo tanto vale la pena estudiarlos cuidadosamente."
   ]
  },
  {
   "cell_type": "markdown",
   "metadata": {},
   "source": [
    "### Estructura de los sistemas de recomendación\n",
    "\n",
    "Los sistemas de recomendación constan principalmente de 2 componentes:\n",
    "\n",
    "   - Generación de candidatos: En esta  etapa, el sistema parte de un corpus potencialmente enorme y genera un subconjunto mucho más pequeño de candidatos a recomendar. Por ejemplo, el generador de recomendaciones de YouTube reduce miles de millones de videos cargados en su plataforma a cientos o miles de potenciales candidatos. El modelo necesita entonces evaluar consultas rápidamente dado el enorme tamaño del corpus. (Si te interesa saber más cómo funciona Youtube, te invito a que leas el artículo de Covington et al. (2016))\n",
    "   - Ranking o Puntuación: En esta etapa se elige un modelo que clasifica a los candidatos para seleccionar el conjunto de candidatos que va a mostrar al usuario.\n",
    "   \n",
    "   \n",
    "El orden de estas etapas no sigue un orden establecido y pueden intercambiarse y hasta fusionarse. También es importante mencionar que algunos sistemas de recomendación incorporan una etapa de reclasificación donde se suman restricciones adicionales antes de mostrar los candidatos finales. Por ejemplo, se eliminan candidatos que al usuario no le gustaron explícitamente o se aumenta la puntuación de contenido más nuevo. La reclasificación también se suele utilizar para garantizar que los contenidos sugeridos sean diversos, nuevos y/o populares.\n"
   ]
  },
  {
   "cell_type": "markdown",
   "metadata": {},
   "source": [
    "## Tipos de sistemas de recomendación\n",
    "\n",
    "\n",
    "Existen distintos tipos de sistemas de recomendación, y tanto su utilización como su éxito dependen de la cantidad y calidad de datos que se dispongan. En esta sección, haremos una descripción general de los sistemas de recomendación  más populares en uso. Hay que tener en cuenta que esta lista no es exhaustiva y que nuevos métodos continuamente están apareciendo y otros caen en deshuso. A continuación y en *cuadernos* subsiguientes veremos detalles sobre los mismos y su implementación en `Python`."
   ]
  },
  {
   "cell_type": "markdown",
   "metadata": {},
   "source": [
    "### Recomendadores basados en conocimiento\n",
    "\n",
    "Los recomendadores basados en  conocimiento utilizan principalmente artículos que rara vez se usan o compran. Si los artículos son raramente comprados es muy difícil tener información previa a partir de la cuál de ellos se puede generar una recomendación. La venta de bienes raíces es un ejemplo de esto. La compra de una casa suele ser a menudo una compra de una vez en la vida, no se tiene por lo tanto información adicional para generar recomendaciones.\n",
    "\n",
    "En casos como este, el sistema de recomendación funciona similar a lo que haría un ser humano. Le pregunta al usuario sobre preferencias y detalles; y a partir de estos, genera recomendaciones. Volviendo al ejemplo anterior, el sistema podría preguntar sobre qué tipo de propiedad prefiere, qué barrios, cuál es su presupuesto, etc.; y a partir de estos ofrecer una recomendación."
   ]
  },
  {
   "cell_type": "markdown",
   "metadata": {},
   "source": [
    "### Filtrado colaborativo\n",
    "\n",
    "El filtrado colaborativo aprovecha el poder de la colaboración para generar recomendaciones. Los filtros colaborativos son uno de los sistemas de recomendación más populares utilizados en la industria y han tenido un gran éxito para empresas como Amazon. En términos generales, el filtrado colaborativo puede clasificarse en dos tipos: "
   ]
  },
  {
   "cell_type": "markdown",
   "metadata": {},
   "source": [
    "1. **Filtrado basado en ítems**: La idea de este tipo de filtrado es que si un grupo de personas ha calificado dos elementos de manera similar, entonces los dos elementos deben ser similares.\n",
    "\n",
    "\n",
    "<div  style=\"max-width: 60%;\">\n",
    "<img src = \"figs/Homero.png\"/>\n",
    "</div>\n",
    "\n",
    "Por lo tanto, si a una persona le gusta un artículo en particular, es probable que también esté interesada en el otro artículo. Como se puede ver en la figura siguiente esta es otra de las estrategias que utiliza Amazon: recomienda productos a partir del historial de navegación y las compras, y con esta información genera sugerencias:"
   ]
  },
  {
   "cell_type": "markdown",
   "metadata": {},
   "source": [
    "<div  style=\"max-width: 80%;\">\n",
    "<img src = \"figs/item_jeans.png\"/>\n",
    "</div>"
   ]
  },
  {
   "cell_type": "markdown",
   "metadata": {},
   "source": [
    "2. **Filtrado basado en usuarios**: La idea principal detrás del filtrado basado en el usuario es que si somos capaces de encontrar usuarios que compraron artículos similares y les gustaron en el pasado, es más probable que también compren artículos similares en el futuro.\n",
    "\n",
    "<div  style=\"max-width: 80%;\">\n",
    "<img src = \"figs/aguacate.png\"/>\n",
    "</div>\n",
    "\n",
    "Por lo tanto, estos modelos recomiendan artículos a un usuario que a otros usuarios similares también le han gustado. Amazon, por ejemplo, usa este tipo de método para generar recomendaciones. En la figura a continuación nos aparece la frase \"Los clientes que compraron este producto también compraron\" y a continuación aparecen las sugerencias:"
   ]
  },
  {
   "cell_type": "markdown",
   "metadata": {},
   "source": [
    "<div  style=\"max-width: 80%;\">\n",
    "<img src = \"figs/usuario_libros.png\"/>\n",
    "</div>"
   ]
  },
  {
   "cell_type": "markdown",
   "metadata": {},
   "source": [
    "\n",
    "Si bien este tipo de sistemas son muy poderosos, requieren que contemos con datos de actividad pasada. Ciertas empresas, como Amazon, pueden aprovechar ya que tienen acceso a información sobre compras de millones de usuarios. Esto a su vez puede ser una desventaja, imagine que iniciamos un nuevo sitio web para vender productos. Para poder generar un buen sistema de filtrado colaborativo necesitamos datos sobre compras y usuarios, los cuales no están disponibles al inicio y por lo tanto resulta muy difícil construir este tipo de sistemas en esta etapa de la vida de un negocio. Este problema suele conocerse como un problema de \"arranque frio\" o \"cold start\"."
   ]
  },
  {
   "cell_type": "markdown",
   "metadata": {},
   "source": [
    "### Filtrado basado en contenido\n",
    "\n",
    "\n",
    "A diferencia de los filtros colaborativos, los sistemas basados en contenido no requieren datos relacionados a otros individuos u actividades pasadas.  Por el contrario estos, brindan recomendaciones basadas en el perfil del usuario y los metadatos que se tiene sobre elementos particulares:\n",
    "\n",
    "\n",
    "<div  style=\"max-width: 40%;\">\n",
    "<img src = \"figs/homero_movies.png\"/>\n",
    "</div>\n",
    "\n",
    "\n",
    "\n",
    "\n",
    "Netflix es un buen ejemplo de este tipo de sistemas como lo muestra la figura a continuación. Basado en nuestro perfil, cómo calificamos la película y metadatos de la película nos genera sugerencias.\n",
    "\n",
    "\n",
    "<div  style=\"max-width: 40%;\">\n",
    "<img src = \"figs/netflix.png\"/>\n",
    "</div>\n",
    "\n",
    "\n",
    "En este caso habrá menos diversidad en las recomendaciones, ya que por ejemplo si sólo usamos este tipo de sistemas puede ser que potencialmente nos gusten dramas británicos, pero nunca lo sabremos, a menos que decidamos probarlo de forma autónoma. \n"
   ]
  },
  {
   "cell_type": "markdown",
   "metadata": {},
   "source": [
    "### Recomendadores híbridos\n",
    "\n",
    "Surge así otro tipo de sistema, los recomendadores híbridos. Como sugiere el nombre, los recomendadores híbridos son sistemas que combinan varios tipos de modelos de recomendación, superando así las deficiencias de cada uno. \n",
    "Por ejemplo, en el caso de Netflix que vimos anteriormente, la primera vez que usamos la plataforma, entra en juego un sistema basado en contenido: que pregunta explícitamente por preferencias y usa metadatos del producto mismo. Esto nos permite superar el problema de los sistemas colaborativos. A medida que utilizamos la plataforma, comienza a operar el filtrado colaborativo, que permite refinar y mejorar sugerencias; sugeriendo productos que tal vez, en ausencia de la recomendación no lo hubiesemos elegido.\n"
   ]
  },
  {
   "cell_type": "markdown",
   "metadata": {},
   "source": [
    "## Resumen y primera aproximación en `Python`\n",
    "\n",
    "En este *cuaderno*, obtuvimos una visión general del mundo de los sistemas de recomendación y un resumen de  distintos tipos de recomendadores. Sin embargo, antes de terminarlo implementaremos dos sistemas de recomendación: uno simple y otro basado en conocimiento. Estos ilustrarán de manera sencilla como funcionan los sistemas en la práctica y nos permitirán tener una mejor base para cuando busquemos aboradar sistemas más complejos en *cuadernos* futuros. \n",
    "\n",
    "###  Implementaciones en  `Python`\n",
    "\n",
    "Para ilustrar el funcionamiento de estos recomendadores simples vamos a utilizar una versión simplificada y traducida de la base de datos de películas: [MovieLens](https://grouplens.org/datasets/movielens/latest/) provista abiertamente por [grouplens](https://grouplens.org/about/what-is-grouplens/) para: **\"avanzar la teoría y la práctica de la computación social mediante la construcción y la comprensión de sistemas *(de recomendación)* utilizados por personas reales\".**\n",
    "\n",
    "Carguemos entonces las librerías y los datos:\n"
   ]
  },
  {
   "cell_type": "code",
   "execution_count": 1,
   "metadata": {},
   "outputs": [
    {
     "data": {
      "text/html": [
       "<div>\n",
       "<style scoped>\n",
       "    .dataframe tbody tr th:only-of-type {\n",
       "        vertical-align: middle;\n",
       "    }\n",
       "\n",
       "    .dataframe tbody tr th {\n",
       "        vertical-align: top;\n",
       "    }\n",
       "\n",
       "    .dataframe thead th {\n",
       "        text-align: right;\n",
       "    }\n",
       "</style>\n",
       "<table border=\"1\" class=\"dataframe\">\n",
       "  <thead>\n",
       "    <tr style=\"text-align: right;\">\n",
       "      <th></th>\n",
       "      <th>Unnamed: 0</th>\n",
       "      <th>titulo</th>\n",
       "      <th>duracion</th>\n",
       "      <th>voto_promedio</th>\n",
       "      <th>numero_votos</th>\n",
       "      <th>ano</th>\n",
       "      <th>genero</th>\n",
       "    </tr>\n",
       "  </thead>\n",
       "  <tbody>\n",
       "    <tr>\n",
       "      <th>0</th>\n",
       "      <td>1</td>\n",
       "      <td>Toy Story</td>\n",
       "      <td>81</td>\n",
       "      <td>7.7</td>\n",
       "      <td>5415</td>\n",
       "      <td>1995</td>\n",
       "      <td>animacion</td>\n",
       "    </tr>\n",
       "    <tr>\n",
       "      <th>1</th>\n",
       "      <td>2</td>\n",
       "      <td>Toy Story</td>\n",
       "      <td>81</td>\n",
       "      <td>7.7</td>\n",
       "      <td>5415</td>\n",
       "      <td>1995</td>\n",
       "      <td>comedia</td>\n",
       "    </tr>\n",
       "    <tr>\n",
       "      <th>2</th>\n",
       "      <td>3</td>\n",
       "      <td>Jumanji</td>\n",
       "      <td>104</td>\n",
       "      <td>6.9</td>\n",
       "      <td>2413</td>\n",
       "      <td>1995</td>\n",
       "      <td>adventura</td>\n",
       "    </tr>\n",
       "    <tr>\n",
       "      <th>3</th>\n",
       "      <td>4</td>\n",
       "      <td>Jumanji</td>\n",
       "      <td>104</td>\n",
       "      <td>6.9</td>\n",
       "      <td>2413</td>\n",
       "      <td>1995</td>\n",
       "      <td>fantasia</td>\n",
       "    </tr>\n",
       "    <tr>\n",
       "      <th>4</th>\n",
       "      <td>5</td>\n",
       "      <td>Grumpier Old Men</td>\n",
       "      <td>101</td>\n",
       "      <td>6.5</td>\n",
       "      <td>92</td>\n",
       "      <td>1995</td>\n",
       "      <td>romance</td>\n",
       "    </tr>\n",
       "  </tbody>\n",
       "</table>\n",
       "</div>"
      ],
      "text/plain": [
       "   Unnamed: 0            titulo  duracion  voto_promedio  numero_votos   ano  \\\n",
       "0           1         Toy Story        81            7.7          5415  1995   \n",
       "1           2         Toy Story        81            7.7          5415  1995   \n",
       "2           3           Jumanji       104            6.9          2413  1995   \n",
       "3           4           Jumanji       104            6.9          2413  1995   \n",
       "4           5  Grumpier Old Men       101            6.5            92  1995   \n",
       "\n",
       "      genero  \n",
       "0  animacion  \n",
       "1    comedia  \n",
       "2  adventura  \n",
       "3   fantasia  \n",
       "4    romance  "
      ]
     },
     "execution_count": 1,
     "metadata": {},
     "output_type": "execute_result"
    }
   ],
   "source": [
    "# Cargamos las librerías a utilizar\n",
    "import pandas as pd\n",
    "import numpy as np\n",
    "\n",
    "# Cargamos y visualizamos las primeras filas de los datos\n",
    "df = pd.read_csv('data/metadata_limpia.csv')\n",
    "df.head()"
   ]
  },
  {
   "cell_type": "markdown",
   "metadata": {},
   "source": [
    "La base contiene el título, la duración (en minutos), el voto promedio y el número de votos que obtuvo, el año de estreno, y el género. Note que si una película tiene más de un género aparece repetida. Por ejemplo, Toy Story, aparece bajo el género de animación y de comedia.\n",
    "\n",
    "Para esta aplicación omitiremos el género y por lo tanto nos quedaremos con sólo una entrada por película (los invito a que prueben si los resultados cambian o no al no omitir las entradas repetidas):"
   ]
  },
  {
   "cell_type": "code",
   "execution_count": 2,
   "metadata": {},
   "outputs": [
    {
     "data": {
      "text/html": [
       "<div>\n",
       "<style scoped>\n",
       "    .dataframe tbody tr th:only-of-type {\n",
       "        vertical-align: middle;\n",
       "    }\n",
       "\n",
       "    .dataframe tbody tr th {\n",
       "        vertical-align: top;\n",
       "    }\n",
       "\n",
       "    .dataframe thead th {\n",
       "        text-align: right;\n",
       "    }\n",
       "</style>\n",
       "<table border=\"1\" class=\"dataframe\">\n",
       "  <thead>\n",
       "    <tr style=\"text-align: right;\">\n",
       "      <th></th>\n",
       "      <th>Unnamed: 0</th>\n",
       "      <th>titulo</th>\n",
       "      <th>duracion</th>\n",
       "      <th>voto_promedio</th>\n",
       "      <th>numero_votos</th>\n",
       "      <th>ano</th>\n",
       "      <th>genero</th>\n",
       "    </tr>\n",
       "  </thead>\n",
       "  <tbody>\n",
       "    <tr>\n",
       "      <th>0</th>\n",
       "      <td>1</td>\n",
       "      <td>Toy Story</td>\n",
       "      <td>81</td>\n",
       "      <td>7.7</td>\n",
       "      <td>5415</td>\n",
       "      <td>1995</td>\n",
       "      <td>animacion</td>\n",
       "    </tr>\n",
       "    <tr>\n",
       "      <th>2</th>\n",
       "      <td>3</td>\n",
       "      <td>Jumanji</td>\n",
       "      <td>104</td>\n",
       "      <td>6.9</td>\n",
       "      <td>2413</td>\n",
       "      <td>1995</td>\n",
       "      <td>adventura</td>\n",
       "    </tr>\n",
       "    <tr>\n",
       "      <th>4</th>\n",
       "      <td>5</td>\n",
       "      <td>Grumpier Old Men</td>\n",
       "      <td>101</td>\n",
       "      <td>6.5</td>\n",
       "      <td>92</td>\n",
       "      <td>1995</td>\n",
       "      <td>romance</td>\n",
       "    </tr>\n",
       "    <tr>\n",
       "      <th>6</th>\n",
       "      <td>7</td>\n",
       "      <td>Waiting to Exhale</td>\n",
       "      <td>127</td>\n",
       "      <td>6.1</td>\n",
       "      <td>34</td>\n",
       "      <td>1995</td>\n",
       "      <td>comedia</td>\n",
       "    </tr>\n",
       "    <tr>\n",
       "      <th>9</th>\n",
       "      <td>10</td>\n",
       "      <td>Father of the Bride Part II</td>\n",
       "      <td>106</td>\n",
       "      <td>5.7</td>\n",
       "      <td>173</td>\n",
       "      <td>1995</td>\n",
       "      <td>comedia</td>\n",
       "    </tr>\n",
       "    <tr>\n",
       "      <th>...</th>\n",
       "      <td>...</td>\n",
       "      <td>...</td>\n",
       "      <td>...</td>\n",
       "      <td>...</td>\n",
       "      <td>...</td>\n",
       "      <td>...</td>\n",
       "      <td>...</td>\n",
       "    </tr>\n",
       "    <tr>\n",
       "      <th>64928</th>\n",
       "      <td>64929</td>\n",
       "      <td>Deep Hearts</td>\n",
       "      <td>58</td>\n",
       "      <td>0.0</td>\n",
       "      <td>0</td>\n",
       "      <td>1981</td>\n",
       "      <td>documental</td>\n",
       "    </tr>\n",
       "    <tr>\n",
       "      <th>64933</th>\n",
       "      <td>64934</td>\n",
       "      <td>Shadow of the Blair Witch</td>\n",
       "      <td>45</td>\n",
       "      <td>7.0</td>\n",
       "      <td>2</td>\n",
       "      <td>2000</td>\n",
       "      <td>misterio</td>\n",
       "    </tr>\n",
       "    <tr>\n",
       "      <th>64935</th>\n",
       "      <td>64936</td>\n",
       "      <td>The Burkittsville 7</td>\n",
       "      <td>30</td>\n",
       "      <td>7.0</td>\n",
       "      <td>1</td>\n",
       "      <td>2000</td>\n",
       "      <td>terror</td>\n",
       "    </tr>\n",
       "    <tr>\n",
       "      <th>64936</th>\n",
       "      <td>64937</td>\n",
       "      <td>Caged Heat 3000</td>\n",
       "      <td>85</td>\n",
       "      <td>3.5</td>\n",
       "      <td>1</td>\n",
       "      <td>1995</td>\n",
       "      <td>ciencia ficcion</td>\n",
       "    </tr>\n",
       "    <tr>\n",
       "      <th>64940</th>\n",
       "      <td>64941</td>\n",
       "      <td>Century of Birthing</td>\n",
       "      <td>360</td>\n",
       "      <td>9.0</td>\n",
       "      <td>3</td>\n",
       "      <td>2011</td>\n",
       "      <td>drama</td>\n",
       "    </tr>\n",
       "  </tbody>\n",
       "</table>\n",
       "<p>32514 rows × 7 columns</p>\n",
       "</div>"
      ],
      "text/plain": [
       "       Unnamed: 0                       titulo  duracion  voto_promedio  \\\n",
       "0               1                    Toy Story        81            7.7   \n",
       "2               3                      Jumanji       104            6.9   \n",
       "4               5             Grumpier Old Men       101            6.5   \n",
       "6               7            Waiting to Exhale       127            6.1   \n",
       "9              10  Father of the Bride Part II       106            5.7   \n",
       "...           ...                          ...       ...            ...   \n",
       "64928       64929                  Deep Hearts        58            0.0   \n",
       "64933       64934    Shadow of the Blair Witch        45            7.0   \n",
       "64935       64936          The Burkittsville 7        30            7.0   \n",
       "64936       64937              Caged Heat 3000        85            3.5   \n",
       "64940       64941          Century of Birthing       360            9.0   \n",
       "\n",
       "       numero_votos   ano           genero  \n",
       "0              5415  1995        animacion  \n",
       "2              2413  1995        adventura  \n",
       "4                92  1995          romance  \n",
       "6                34  1995          comedia  \n",
       "9               173  1995          comedia  \n",
       "...             ...   ...              ...  \n",
       "64928             0  1981       documental  \n",
       "64933             2  2000         misterio  \n",
       "64935             1  2000           terror  \n",
       "64936             1  1995  ciencia ficcion  \n",
       "64940             3  2011            drama  \n",
       "\n",
       "[32514 rows x 7 columns]"
      ]
     },
     "execution_count": 2,
     "metadata": {},
     "output_type": "execute_result"
    }
   ],
   "source": [
    "df_nodup = df.drop_duplicates(subset =\"titulo\")\n",
    "df_nodup"
   ]
  },
  {
   "cell_type": "markdown",
   "metadata": {},
   "source": [
    "La columna `voto_promedio` es el promedio de votos que dieron los usuarios a la película. Este voto toma valores  entre 1 y 10, siendo 10 el voto más alto. La columna `numero_votos` es el número de votos que recibió la película. Este sirve también como una proxy de cuanta gente vió la película.\n",
    "\n",
    "Estamos ahora en condiciones de construir nuestro primer recomendador simple."
   ]
  },
  {
   "cell_type": "markdown",
   "metadata": {},
   "source": [
    "#### Un recomendador simple \n",
    "\n",
    "Para construir nuestro primer recomendador simple vamos a seguir los siguientes pasos: \n",
    "\n",
    "   1. Decidir cuáles son los atributos deseados de la película que queremos recomendar. Esto nos va a permitir reducir el espacio de candidatos potenciales.\n",
    "   2. Elegir una métrica que nos permita calificar y rankear las películas y calcularla para nuestro subconjunto.\n",
    "   3. Recomendar películas basadas en esta métrica en orden decreciente de sus puntajes.\n",
    "\n",
    "\n",
    "La parte crucial de este recomendador es el segundo punto. Generar una métrica que nos permita ordenar las películas. La elección de esta es arbitraria, sin embargo es deseable que esta métrica sea robusta. Por ejemplo, podríamos usar el voto promedio. Sin embargo, sabemos que la media no es una medida robusta. Para illustrarlo, imaginemos que tenemos una película con calificación promedio de 9 por 100.000 usuarios, esta se colocará debajo de una película con una calificación promedio de 9,5 por 100 usuarios. Esto no es deseable, ya que es muy probable que una película vista y calificada sólo por 100 personas atienda a un nicho muy específico y puede que no atraiga tanto al individuo promedio como la primera. Otra de las desventajas de la media es que no es robusta a la micronumerosidad, es decir, que tenga pocos votos. A medida que el número de votos aumente, es probable que este se acerque al verdadero valor poblacional. Es decir, una película calificada con 10/10 por cinco usuarios no significa necesariamente que sea una buena película.\n",
    "\n",
    "Por lo tanto, necesitamos una métrica que pueda sobreponerse a estas falencias, de forma tal que, por ejemplo, rankee una película de gran éxito con una calificación de 8 por 100.000 usuarios sobre una película con una calificación de 9 por 100 usuarios.\n",
    "\n",
    "En este *cuaderno* vamos a utilizar la métrica propuesta por [IMDB](https://www.imdb.com/chart/top/?ref_=nv_mv_250) para rankear las mejores 250 películas. Esta métrica sigue la siguiente fórmula:\n",
    "\n",
    "$$\n",
    "Score = \\left( \\frac{v}{v+m}\\times R + \\frac{v}{v+m}\\times C \\right)\n",
    "$$\n",
    "\n",
    "\n",
    "donde: \n",
    "\n",
    "   - $v$ es el número de votos.\n",
    "   - $m$ es el mínimo número de votos que tiene que haber recibido una pelicula para que figure en el ranking.\n",
    "   - $R$ es el voto promedio de la película\n",
    "   - $C$ es el voto promedio de *todas* la peliculas en la base.\n",
    "    \n",
    "##### Creando el recomendador\n",
    "\n",
    "Tenemos entonces todos los ingredientes para crear nuestro recomendador. Comencemos calculando el $Score$. Notemos que tiene como parámetro $m$. En nuestra aplicación lo fijaremos en el percentil 95 (los invito a que lo cambien y prueben cómo cambian las recomendaciones). \n",
    "\n",
    "Calculamos entonces el parámetro $m$:"
   ]
  },
  {
   "cell_type": "code",
   "execution_count": 3,
   "metadata": {},
   "outputs": [
    {
     "data": {
      "text/plain": [
       "590.0"
      ]
     },
     "execution_count": 3,
     "metadata": {},
     "output_type": "execute_result"
    }
   ],
   "source": [
    "m = df_nodup['numero_votos'].quantile(0.95)\n",
    "m"
   ]
  },
  {
   "cell_type": "markdown",
   "metadata": {},
   "source": [
    "Con esto podemos ver  cuáles son las que superaron el mínimo número de votos que tiene que haber recibido una película para que figure en el ranking:"
   ]
  },
  {
   "cell_type": "code",
   "execution_count": 4,
   "metadata": {},
   "outputs": [
    {
     "data": {
      "text/html": [
       "<div>\n",
       "<style scoped>\n",
       "    .dataframe tbody tr th:only-of-type {\n",
       "        vertical-align: middle;\n",
       "    }\n",
       "\n",
       "    .dataframe tbody tr th {\n",
       "        vertical-align: top;\n",
       "    }\n",
       "\n",
       "    .dataframe thead th {\n",
       "        text-align: right;\n",
       "    }\n",
       "</style>\n",
       "<table border=\"1\" class=\"dataframe\">\n",
       "  <thead>\n",
       "    <tr style=\"text-align: right;\">\n",
       "      <th></th>\n",
       "      <th>Unnamed: 0</th>\n",
       "      <th>titulo</th>\n",
       "      <th>duracion</th>\n",
       "      <th>voto_promedio</th>\n",
       "      <th>numero_votos</th>\n",
       "      <th>ano</th>\n",
       "      <th>genero</th>\n",
       "    </tr>\n",
       "  </thead>\n",
       "  <tbody>\n",
       "    <tr>\n",
       "      <th>0</th>\n",
       "      <td>1</td>\n",
       "      <td>Toy Story</td>\n",
       "      <td>81</td>\n",
       "      <td>7.7</td>\n",
       "      <td>5415</td>\n",
       "      <td>1995</td>\n",
       "      <td>animacion</td>\n",
       "    </tr>\n",
       "    <tr>\n",
       "      <th>2</th>\n",
       "      <td>3</td>\n",
       "      <td>Jumanji</td>\n",
       "      <td>104</td>\n",
       "      <td>6.9</td>\n",
       "      <td>2413</td>\n",
       "      <td>1995</td>\n",
       "      <td>adventura</td>\n",
       "    </tr>\n",
       "    <tr>\n",
       "      <th>10</th>\n",
       "      <td>11</td>\n",
       "      <td>Heat</td>\n",
       "      <td>170</td>\n",
       "      <td>7.7</td>\n",
       "      <td>1886</td>\n",
       "      <td>1995</td>\n",
       "      <td>accion</td>\n",
       "    </tr>\n",
       "    <tr>\n",
       "      <th>21</th>\n",
       "      <td>22</td>\n",
       "      <td>GoldenEye</td>\n",
       "      <td>130</td>\n",
       "      <td>6.6</td>\n",
       "      <td>1194</td>\n",
       "      <td>1995</td>\n",
       "      <td>adventura</td>\n",
       "    </tr>\n",
       "    <tr>\n",
       "      <th>34</th>\n",
       "      <td>35</td>\n",
       "      <td>Casino</td>\n",
       "      <td>178</td>\n",
       "      <td>7.8</td>\n",
       "      <td>1343</td>\n",
       "      <td>1995</td>\n",
       "      <td>drama</td>\n",
       "    </tr>\n",
       "  </tbody>\n",
       "</table>\n",
       "</div>"
      ],
      "text/plain": [
       "    Unnamed: 0     titulo  duracion  voto_promedio  numero_votos   ano  \\\n",
       "0            1  Toy Story        81            7.7          5415  1995   \n",
       "2            3    Jumanji       104            6.9          2413  1995   \n",
       "10          11       Heat       170            7.7          1886  1995   \n",
       "21          22  GoldenEye       130            6.6          1194  1995   \n",
       "34          35     Casino       178            7.8          1343  1995   \n",
       "\n",
       "       genero  \n",
       "0   animacion  \n",
       "2   adventura  \n",
       "10     accion  \n",
       "21  adventura  \n",
       "34      drama  "
      ]
     },
     "execution_count": 4,
     "metadata": {},
     "output_type": "execute_result"
    }
   ],
   "source": [
    "q_movies = df_nodup[df_nodup['numero_votos'] >= m]\n",
    "\n",
    "q_movies.head()"
   ]
  },
  {
   "cell_type": "code",
   "execution_count": 5,
   "metadata": {},
   "outputs": [
    {
     "data": {
      "text/plain": [
       "(1627, 7)"
      ]
     },
     "execution_count": 5,
     "metadata": {},
     "output_type": "execute_result"
    }
   ],
   "source": [
    "q_movies.shape"
   ]
  },
  {
   "cell_type": "markdown",
   "metadata": {},
   "source": [
    "Vemos que nos quedamos con aproximadamente el 10%, como esperábamos. Calculemos  $C$, la calificación promedio de todas las películas en el conjunto de datos:"
   ]
  },
  {
   "cell_type": "code",
   "execution_count": 6,
   "metadata": {},
   "outputs": [
    {
     "data": {
      "text/plain": [
       "5.725672018207382"
      ]
     },
     "execution_count": 6,
     "metadata": {},
     "output_type": "execute_result"
    }
   ],
   "source": [
    "C = df_nodup['voto_promedio'].mean()\n",
    "C"
   ]
  },
  {
   "cell_type": "markdown",
   "metadata": {},
   "source": [
    "Con esto podemos calcular entonces nuestro $Score# para cada película. Para ello crearemos una función:"
   ]
  },
  {
   "cell_type": "code",
   "execution_count": 7,
   "metadata": {},
   "outputs": [],
   "source": [
    "def calc_score(x, m=m, C=C):\n",
    "    v = x['numero_votos']\n",
    "    R = x['voto_promedio']\n",
    "    # Calcular el score\n",
    "    return (v/(v+m) * R) + (m/(m+v) * C)"
   ]
  },
  {
   "cell_type": "markdown",
   "metadata": {},
   "source": [
    "Y aplicaremos la función, indicando que la operación es por filas (`axis=1`): "
   ]
  },
  {
   "cell_type": "code",
   "execution_count": 8,
   "metadata": {},
   "outputs": [
    {
     "name": "stderr",
     "output_type": "stream",
     "text": [
      "/var/folders/lp/bhbhb__n1_z91_rjfqljxcdc0000gn/T/ipykernel_37866/848572970.py:1: SettingWithCopyWarning: \n",
      "A value is trying to be set on a copy of a slice from a DataFrame.\n",
      "Try using .loc[row_indexer,col_indexer] = value instead\n",
      "\n",
      "See the caveats in the documentation: https://pandas.pydata.org/pandas-docs/stable/user_guide/indexing.html#returning-a-view-versus-a-copy\n",
      "  q_movies['score'] = q_movies.apply(calc_score, axis=1)\n"
     ]
    }
   ],
   "source": [
    "q_movies['score'] = q_movies.apply(calc_score, axis=1)"
   ]
  },
  {
   "cell_type": "markdown",
   "metadata": {},
   "source": [
    "El último paso para recomendar las películas es ordenarlas y mostrarlas al usuario:\n"
   ]
  },
  {
   "cell_type": "code",
   "execution_count": 9,
   "metadata": {},
   "outputs": [
    {
     "data": {
      "text/html": [
       "<div>\n",
       "<style scoped>\n",
       "    .dataframe tbody tr th:only-of-type {\n",
       "        vertical-align: middle;\n",
       "    }\n",
       "\n",
       "    .dataframe tbody tr th {\n",
       "        vertical-align: top;\n",
       "    }\n",
       "\n",
       "    .dataframe thead th {\n",
       "        text-align: right;\n",
       "    }\n",
       "</style>\n",
       "<table border=\"1\" class=\"dataframe\">\n",
       "  <thead>\n",
       "    <tr style=\"text-align: right;\">\n",
       "      <th></th>\n",
       "      <th>Unnamed: 0</th>\n",
       "      <th>titulo</th>\n",
       "      <th>duracion</th>\n",
       "      <th>voto_promedio</th>\n",
       "      <th>numero_votos</th>\n",
       "      <th>ano</th>\n",
       "      <th>genero</th>\n",
       "      <th>score</th>\n",
       "    </tr>\n",
       "  </thead>\n",
       "  <tbody>\n",
       "    <tr>\n",
       "      <th>644</th>\n",
       "      <td>645</td>\n",
       "      <td>The Shawshank Redemption</td>\n",
       "      <td>142</td>\n",
       "      <td>8.5</td>\n",
       "      <td>8358</td>\n",
       "      <td>1994</td>\n",
       "      <td>drama</td>\n",
       "      <td>8.317070</td>\n",
       "    </tr>\n",
       "    <tr>\n",
       "      <th>1682</th>\n",
       "      <td>1683</td>\n",
       "      <td>The Godfather</td>\n",
       "      <td>175</td>\n",
       "      <td>8.5</td>\n",
       "      <td>6024</td>\n",
       "      <td>1972</td>\n",
       "      <td>drama</td>\n",
       "      <td>8.252517</td>\n",
       "    </tr>\n",
       "    <tr>\n",
       "      <th>20733</th>\n",
       "      <td>20734</td>\n",
       "      <td>The Dark Knight</td>\n",
       "      <td>152</td>\n",
       "      <td>8.3</td>\n",
       "      <td>12269</td>\n",
       "      <td>2008</td>\n",
       "      <td>drama</td>\n",
       "      <td>8.181884</td>\n",
       "    </tr>\n",
       "    <tr>\n",
       "      <th>5158</th>\n",
       "      <td>5159</td>\n",
       "      <td>Fight Club</td>\n",
       "      <td>139</td>\n",
       "      <td>8.3</td>\n",
       "      <td>9678</td>\n",
       "      <td>1999</td>\n",
       "      <td>drama</td>\n",
       "      <td>8.152079</td>\n",
       "    </tr>\n",
       "    <tr>\n",
       "      <th>603</th>\n",
       "      <td>604</td>\n",
       "      <td>Pulp Fiction</td>\n",
       "      <td>154</td>\n",
       "      <td>8.3</td>\n",
       "      <td>8670</td>\n",
       "      <td>1994</td>\n",
       "      <td>suspenso</td>\n",
       "      <td>8.135977</td>\n",
       "    </tr>\n",
       "    <tr>\n",
       "      <th>727</th>\n",
       "      <td>728</td>\n",
       "      <td>Forrest Gump</td>\n",
       "      <td>142</td>\n",
       "      <td>8.2</td>\n",
       "      <td>8147</td>\n",
       "      <td>1994</td>\n",
       "      <td>comedia</td>\n",
       "      <td>8.032911</td>\n",
       "    </tr>\n",
       "    <tr>\n",
       "      <th>25272</th>\n",
       "      <td>25273</td>\n",
       "      <td>Inception</td>\n",
       "      <td>148</td>\n",
       "      <td>8.1</td>\n",
       "      <td>14075</td>\n",
       "      <td>2010</td>\n",
       "      <td>accion</td>\n",
       "      <td>8.004476</td>\n",
       "    </tr>\n",
       "    <tr>\n",
       "      <th>1093</th>\n",
       "      <td>1094</td>\n",
       "      <td>Schindler's List</td>\n",
       "      <td>195</td>\n",
       "      <td>8.3</td>\n",
       "      <td>4436</td>\n",
       "      <td>1993</td>\n",
       "      <td>drama</td>\n",
       "      <td>7.997801</td>\n",
       "    </tr>\n",
       "    <tr>\n",
       "      <th>36397</th>\n",
       "      <td>36398</td>\n",
       "      <td>Whiplash</td>\n",
       "      <td>105</td>\n",
       "      <td>8.3</td>\n",
       "      <td>4376</td>\n",
       "      <td>2014</td>\n",
       "      <td>drama</td>\n",
       "      <td>7.994150</td>\n",
       "    </tr>\n",
       "    <tr>\n",
       "      <th>35323</th>\n",
       "      <td>35324</td>\n",
       "      <td>Interstellar</td>\n",
       "      <td>169</td>\n",
       "      <td>8.1</td>\n",
       "      <td>11187</td>\n",
       "      <td>2014</td>\n",
       "      <td>adventura</td>\n",
       "      <td>7.981052</td>\n",
       "    </tr>\n",
       "  </tbody>\n",
       "</table>\n",
       "</div>"
      ],
      "text/plain": [
       "       Unnamed: 0                    titulo  duracion  voto_promedio  \\\n",
       "644           645  The Shawshank Redemption       142            8.5   \n",
       "1682         1683             The Godfather       175            8.5   \n",
       "20733       20734           The Dark Knight       152            8.3   \n",
       "5158         5159                Fight Club       139            8.3   \n",
       "603           604              Pulp Fiction       154            8.3   \n",
       "727           728              Forrest Gump       142            8.2   \n",
       "25272       25273                 Inception       148            8.1   \n",
       "1093         1094          Schindler's List       195            8.3   \n",
       "36397       36398                  Whiplash       105            8.3   \n",
       "35323       35324              Interstellar       169            8.1   \n",
       "\n",
       "       numero_votos   ano     genero     score  \n",
       "644            8358  1994      drama  8.317070  \n",
       "1682           6024  1972      drama  8.252517  \n",
       "20733         12269  2008      drama  8.181884  \n",
       "5158           9678  1999      drama  8.152079  \n",
       "603            8670  1994   suspenso  8.135977  \n",
       "727            8147  1994    comedia  8.032911  \n",
       "25272         14075  2010     accion  8.004476  \n",
       "1093           4436  1993      drama  7.997801  \n",
       "36397          4376  2014      drama  7.994150  \n",
       "35323         11187  2014  adventura  7.981052  "
      ]
     },
     "execution_count": 9,
     "metadata": {},
     "output_type": "execute_result"
    }
   ],
   "source": [
    "# Ordenamos\n",
    "q_movies = q_movies.sort_values('score', ascending=False)\n",
    "\n",
    "# Mostramos el top 10\n",
    "q_movies.head(10)"
   ]
  },
  {
   "cell_type": "markdown",
   "metadata": {},
   "source": [
    "Notemos que nuestra recomendaciónseñala el mismo top 3 que IMDB (*$^*$imagen tomada el 28 de Abril de 2022)*:"
   ]
  },
  {
   "cell_type": "markdown",
   "metadata": {},
   "source": [
    "<div  style=\"max-width: 60%;\">\n",
    "<img src = \"figs/IMDB.png\"/>\n",
    "</div>\n"
   ]
  },
  {
   "cell_type": "markdown",
   "metadata": {},
   "source": [
    "En el top figura [The Shawshank Redemption](https://es.wikipedia.org/wiki/The_Shawshank_Redemption) que fue estrenada como \"Sueño de fuga\" en Hispanoamérica y como \"Sueños de libertad\" o \"Escape a la libertad\" en Argentina.\n",
    "\n",
    "Nuestro simple recomendador genera recomendaciones sencillas pero no muy personalizadas. Veamos entonces otro sistema que nos permita recomendar sugerencias más personalizadas."
   ]
  },
  {
   "cell_type": "markdown",
   "metadata": {},
   "source": [
    "### Un  recomendador basado en conocimiento "
   ]
  },
  {
   "cell_type": "markdown",
   "metadata": {},
   "source": [
    "Construyamos entonces ahora un recomendador que incorpore preferencias de los usuarios. Para ello seguimos utilizando la bsase anterior y lo que el recomendadro hará es:\n",
    "\n",
    "1. Preguntar al usuario por el género de película que está buscando.\n",
    "2. Preguntar al usuario por la duración.\n",
    "3. Preguntar al usuario por el rango de año de estreno de la película.\n",
    "4. Con esta información recomendará la película con el $Score$ más alto."
   ]
  },
  {
   "cell_type": "markdown",
   "metadata": {},
   "source": [
    "Veamos entonces cuáles son los géneros disponibles:"
   ]
  },
  {
   "cell_type": "code",
   "execution_count": 10,
   "metadata": {},
   "outputs": [
    {
     "data": {
      "text/plain": [
       "drama              15909\n",
       "comedia            10752\n",
       "suspenso            6718\n",
       "accion              5634\n",
       "romance             5003\n",
       "terror              4098\n",
       "documental          3659\n",
       "adventura           2727\n",
       "ciencia ficcion     2612\n",
       "fantasia            1924\n",
       "misterio            1919\n",
       "animacion           1710\n",
       "musical             1121\n",
       "guerra               760\n",
       "western              398\n",
       "Name: genero, dtype: int64"
      ]
     },
     "execution_count": 10,
     "metadata": {},
     "output_type": "execute_result"
    }
   ],
   "source": [
    "df['genero'].value_counts()"
   ]
  },
  {
   "cell_type": "markdown",
   "metadata": {},
   "source": [
    "y los años disponibles:"
   ]
  },
  {
   "cell_type": "code",
   "execution_count": 11,
   "metadata": {},
   "outputs": [
    {
     "data": {
      "text/plain": [
       "2015    3244\n",
       "2014    3236\n",
       "2013    2994\n",
       "2009    2976\n",
       "2011    2861\n",
       "2010    2705\n",
       "2016    2669\n",
       "2008    2666\n",
       "2012    2663\n",
       "2007    2377\n",
       "2006    2348\n",
       "2005    2030\n",
       "2004    1821\n",
       "2002    1717\n",
       "2003    1626\n",
       "2001    1593\n",
       "2000    1442\n",
       "1998    1297\n",
       "1999    1289\n",
       "1997    1205\n",
       "1996    1156\n",
       "1995    1095\n",
       "1994    1005\n",
       "2017     956\n",
       "1993     937\n",
       "1988     899\n",
       "1987     849\n",
       "1989     841\n",
       "1992     837\n",
       "1990     807\n",
       "1991     802\n",
       "1985     712\n",
       "1986     694\n",
       "1984     684\n",
       "1983     664\n",
       "1982     657\n",
       "1981     647\n",
       "1980     645\n",
       "1972     628\n",
       "1971     621\n",
       "1973     621\n",
       "1974     583\n",
       "1979     578\n",
       "1977     572\n",
       "1978     568\n",
       "1975     566\n",
       "1976     546\n",
       "2018      11\n",
       "2020       4\n",
       "Name: ano, dtype: int64"
      ]
     },
     "execution_count": 11,
     "metadata": {},
     "output_type": "execute_result"
    }
   ],
   "source": [
    "df['ano'].value_counts()"
   ]
  },
  {
   "cell_type": "markdown",
   "metadata": {},
   "source": [
    "Construyamos entonces una función que nos pregunte por nuestras preferencias y que nos genere las recomendaciones. En otras palabras, estos son los tres pasos principales de la función:\n",
    "\n",
    "   1. Obtener información del usuario sobre sus preferencias.\n",
    "   2. Filtrar las películas que coincidan con las condiciones establecidas por el usuario.\n",
    "   3. Calcular los valores de m y C.\n",
    "   4. Retornar las sugerencias.\n",
    "\n",
    "Llamaremos a la función `recomendador` y tendrá 2 parámetros: la base de datos sobre la que construye la recomendaciones y el percentil ($m$). Utilizaremos por ahora el mismo $m=.95$ del ejemplo anterior:"
   ]
  },
  {
   "cell_type": "code",
   "execution_count": 12,
   "metadata": {},
   "outputs": [],
   "source": [
    "def recomendador(db, percentile=0.95):\n",
    "    # Preguntar por los géneros preferidos\n",
    "    print(\"Hola este es tu sistema de recomendación\")\n",
    "    print(\"Te voy a hacer unas preguntas para generar sugerencias\")\n",
    "    print(\"¿Qué género de película querés ver?\")\n",
    "    genre = input()\n",
    "    \n",
    "    # Preguntar por la duración mínima de la película\n",
    "    print(\"¿Cuál es la duración mínima que querés? (en minutos)\")\n",
    "    low_time = int(input())\n",
    "    \n",
    "    # Preguntar por la duración máxima de la película\n",
    "    print(\"¿Cuál es la duración máxima que querés? (en minutos)\")\n",
    "    high_time = int(input())\n",
    "\n",
    "        # Preguntar por el rango de los años en que la película fue estrenada\n",
    "    print(\"Ahora te voy a preguntar por el rango de años de estreno de la película\")\n",
    "\n",
    "    print(\"¿Cuál es el año de estreno más viejo que querés ver? \")\n",
    "    low_year = int(input())\n",
    "    \n",
    "    print(\"¿Cuál es el año de estreno más nuevo que querés ver? \")\n",
    "    high_year = int(input())\n",
    "    \n",
    "\n",
    "    # Definimos una nueva variable que va a guardar las películas preferidas, para ello copiamos los contenidos de la bas\n",
    "    movies = db.copy()\n",
    "    \n",
    "    # Filtramos basado en las respuestas\n",
    "    movies = movies[(movies['genero'] == genre) & \n",
    "                    (movies['duracion'] >= low_time) & \n",
    "                    (movies['duracion'] <= high_time) & \n",
    "                    (movies['ano'] >= low_year) & \n",
    "                    (movies['ano'] <= high_year)]\n",
    "    \n",
    "    # Calculamos los valores de C y m\n",
    "    C = movies['voto_promedio'].mean()\n",
    "    m = movies['numero_votos'].quantile(percentile)\n",
    "    \n",
    "\n",
    "    # Consideramos sólo películas que tienen más de m votos, y las guardamos en un data.frame\n",
    "    q_movies = movies.copy().loc[movies['numero_votos'] >= m]\n",
    "    \n",
    "    # Calculamos el score usando la  formula de IMDB\n",
    "    q_movies['score'] = q_movies.apply(lambda x: (x['numero_votos']/(x['numero_votos']+m) * x['voto_promedio']) \n",
    "                                       + (m/(m+x['numero_votos']) * C)\n",
    "                                       ,axis=1)\n",
    "\n",
    "    # Ordenamos las películas en orden descendiente de su score\n",
    "    q_movies = q_movies.sort_values('score', ascending=False)\n",
    "    \n",
    "    return q_movies"
   ]
  },
  {
   "cell_type": "markdown",
   "metadata": {},
   "source": [
    "Utilicemos entonces esta función para generar recomendaciones de películas de drama de entre media y 2 horas de duración que fueron estrenadas entre 1990 y 2005:"
   ]
  },
  {
   "cell_type": "code",
   "execution_count": 13,
   "metadata": {},
   "outputs": [
    {
     "name": "stdout",
     "output_type": "stream",
     "text": [
      "Hola este es tu sistema de recomendación\n",
      "Te voy a hacer unas preguntas para generar sugerencias\n",
      "¿Qué género de película querés ver?\n",
      "drama\n",
      "¿Cuál es la duración mínima que querés? (en minutos)\n",
      "30\n",
      "¿Cuál es la duración máxima que querés? (en minutos)\n",
      "120\n",
      "Ahora te voy a preguntar por el rango de años de estreno de la película\n",
      "¿Cuál es el año de estreno más viejo que querés ver? \n",
      "1990\n",
      "¿Cuál es el año de estreno más nuevo que querés ver? \n",
      "2005\n"
     ]
    },
    {
     "data": {
      "text/html": [
       "<div>\n",
       "<style scoped>\n",
       "    .dataframe tbody tr th:only-of-type {\n",
       "        vertical-align: middle;\n",
       "    }\n",
       "\n",
       "    .dataframe tbody tr th {\n",
       "        vertical-align: top;\n",
       "    }\n",
       "\n",
       "    .dataframe thead th {\n",
       "        text-align: right;\n",
       "    }\n",
       "</style>\n",
       "<table border=\"1\" class=\"dataframe\">\n",
       "  <thead>\n",
       "    <tr style=\"text-align: right;\">\n",
       "      <th></th>\n",
       "      <th>Unnamed: 0</th>\n",
       "      <th>titulo</th>\n",
       "      <th>duracion</th>\n",
       "      <th>voto_promedio</th>\n",
       "      <th>numero_votos</th>\n",
       "      <th>ano</th>\n",
       "      <th>genero</th>\n",
       "      <th>score</th>\n",
       "    </tr>\n",
       "  </thead>\n",
       "  <tbody>\n",
       "    <tr>\n",
       "      <th>3992</th>\n",
       "      <td>3993</td>\n",
       "      <td>Life Is Beautiful</td>\n",
       "      <td>116</td>\n",
       "      <td>8.3</td>\n",
       "      <td>3643</td>\n",
       "      <td>1997</td>\n",
       "      <td>drama</td>\n",
       "      <td>8.109381</td>\n",
       "    </tr>\n",
       "    <tr>\n",
       "      <th>596</th>\n",
       "      <td>597</td>\n",
       "      <td>Leon: The Professional</td>\n",
       "      <td>110</td>\n",
       "      <td>8.2</td>\n",
       "      <td>4293</td>\n",
       "      <td>1994</td>\n",
       "      <td>drama</td>\n",
       "      <td>8.042907</td>\n",
       "    </tr>\n",
       "    <tr>\n",
       "      <th>4003</th>\n",
       "      <td>4004</td>\n",
       "      <td>American History X</td>\n",
       "      <td>119</td>\n",
       "      <td>8.2</td>\n",
       "      <td>3120</td>\n",
       "      <td>1998</td>\n",
       "      <td>drama</td>\n",
       "      <td>7.989047</td>\n",
       "    </tr>\n",
       "    <tr>\n",
       "      <th>1240</th>\n",
       "      <td>1241</td>\n",
       "      <td>The Silence of the Lambs</td>\n",
       "      <td>119</td>\n",
       "      <td>8.1</td>\n",
       "      <td>4549</td>\n",
       "      <td>1991</td>\n",
       "      <td>drama</td>\n",
       "      <td>7.957410</td>\n",
       "    </tr>\n",
       "    <tr>\n",
       "      <th>105</th>\n",
       "      <td>106</td>\n",
       "      <td>The Usual Suspects</td>\n",
       "      <td>106</td>\n",
       "      <td>8.1</td>\n",
       "      <td>3334</td>\n",
       "      <td>1995</td>\n",
       "      <td>drama</td>\n",
       "      <td>7.909752</td>\n",
       "    </tr>\n",
       "  </tbody>\n",
       "</table>\n",
       "</div>"
      ],
      "text/plain": [
       "      Unnamed: 0                    titulo  duracion  voto_promedio  \\\n",
       "3992        3993         Life Is Beautiful       116            8.3   \n",
       "596          597    Leon: The Professional       110            8.2   \n",
       "4003        4004        American History X       119            8.2   \n",
       "1240        1241  The Silence of the Lambs       119            8.1   \n",
       "105          106        The Usual Suspects       106            8.1   \n",
       "\n",
       "      numero_votos   ano genero     score  \n",
       "3992          3643  1997  drama  8.109381  \n",
       "596           4293  1994  drama  8.042907  \n",
       "4003          3120  1998  drama  7.989047  \n",
       "1240          4549  1991  drama  7.957410  \n",
       "105           3334  1995  drama  7.909752  "
      ]
     },
     "execution_count": 13,
     "metadata": {},
     "output_type": "execute_result"
    }
   ],
   "source": [
    "recomendador(df).head()"
   ]
  },
  {
   "cell_type": "markdown",
   "metadata": {},
   "source": [
    "Vemos que las películas retornadas por la función satisfacen todas las condiciones que ingresamos. Notemos también que dado que usamos la métrica definida por IMDB, las sugerencias son películas con altos votos promedio y también con muchos votos (películas populares). Note también que estas recomendaciones incluyen *American History X*, que es una de mis películas favoritas. Por mi parte, estaría muy satisfecho con estas sugerencias."
   ]
  },
  {
   "cell_type": "markdown",
   "metadata": {},
   "source": [
    "# Referencias\n",
    "\n",
    "- Banik, R. (2018). Hands-on recommendation systems with Python: start building powerful and personalized, recommendation engines with Python. Packt Publishing Ltd.\n",
    "\n",
    "- Covington, P., Adams, J., & Sargin, E. (2016). Deep Neural Networks for YouTube recommendations. Proceedings of the 10th ACM Conference on Recommender Systems. https://doi.org/10.1145/2959100.2959190 \n",
    "\n",
    "- Google developers. (n.d.). Recommendation systems. Google. Consultado en Abril 3, 2022, de https://developers.google.com/machine-learning/recommendation/overview "
   ]
  }
 ],
 "metadata": {
  "interpreter": {
   "hash": "fe36d3cf18f454bb22b210d1ce52ae8c21a1b2f0a9257a143474ae90bef14b60"
  },
  "kernelspec": {
   "display_name": "Python 3 (ipykernel)",
   "language": "python",
   "name": "python3"
  },
  "language_info": {
   "codemirror_mode": {
    "name": "ipython",
    "version": 3
   },
   "file_extension": ".py",
   "mimetype": "text/x-python",
   "name": "python",
   "nbconvert_exporter": "python",
   "pygments_lexer": "ipython3",
   "version": "3.9.7"
  },
  "toc": {
   "base_numbering": 1,
   "nav_menu": {},
   "number_sections": true,
   "sideBar": true,
   "skip_h1_title": false,
   "title_cell": "Table of Contents",
   "title_sidebar": "Contents",
   "toc_cell": false,
   "toc_position": {},
   "toc_section_display": true,
   "toc_window_display": false
  }
 },
 "nbformat": 4,
 "nbformat_minor": 2
}
