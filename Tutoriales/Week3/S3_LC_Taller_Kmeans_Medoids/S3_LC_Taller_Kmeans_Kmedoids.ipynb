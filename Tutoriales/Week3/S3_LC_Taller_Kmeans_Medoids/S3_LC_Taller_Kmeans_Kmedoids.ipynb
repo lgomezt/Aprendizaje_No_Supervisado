{
 "cells": [
  {
   "cell_type": "markdown",
   "id": "9b9d9d27",
   "metadata": {},
   "source": [
    "<div >\n",
    "<img src = \"figs/ans_banner_1920x200.png\" />\n",
    "</div>"
   ]
  },
  {
   "cell_type": "markdown",
   "id": "2b151b20",
   "metadata": {},
   "source": [
    "# Caso-taller: Reconocimiento facial con K-medias y K-medoides"
   ]
  },
  {
   "cell_type": "markdown",
   "id": "e0d05eac",
   "metadata": {},
   "source": [
    "En este caso-taller vamos a aplicar K-medias y K-medoides para agrupar rostros de indiviudos. Utilizaremos la base de datos conocida como Caras Olivetti. Esta base contiene diez imágenes diferentes de  40 personas distintas. Para algunas personas, las imágenes se tomaron en diferentes momentos, variando la iluminación, las expresiones faciales (ojos abiertos/cerrados, sonriendo/sin sonreír) y los detalles faciales (gafas/sin gafas). Todas las imágenes fueron tomadas contra un fondo homogéneo oscuro con los sujetos en una posición frontal erguida (con tolerancia a algún movimiento lateral). Esta base viene incluida dentro de la libraría `scikit-learn` y fueron provistas por T&T Laboratories Cambridge para que la comunidad académica la utilice para la evaluación de modelos predictivos. "
   ]
  },
  {
   "cell_type": "markdown",
   "id": "892acd2b",
   "metadata": {},
   "source": [
    "## Instrucciones generales\n",
    "\n",
    "1. Para desarrollar el *cuaderno* primero debe descargarlo.\n",
    "\n",
    "2. Para responder cada inciso deberá utilizar el espacio debidamente especificado.\n",
    "\n",
    "3. La actividad será calificada sólo si sube el *cuaderno* de jupyter notebook con extensión `.ipynb` en la actividad designada como \"entrega calificada por el personal\".\n",
    "\n",
    "4. El archivo entregado debe poder ser ejecutado localmente por el tutor. Sea cuidadoso con la especificación de la ubicación de los archivos de soporte, guarde la carpeta de datos en el mismo `path` de su cuaderno, por ejemplo: `data`."
   ]
  },
  {
   "cell_type": "markdown",
   "id": "014e89b0",
   "metadata": {},
   "source": [
    "## Desarrollo\n"
   ]
  },
  {
   "cell_type": "markdown",
   "id": "611a45ca",
   "metadata": {},
   "source": [
    "### 1.Carga de datos \n",
    "\n",
    "Los datos pueden ser bajados directamente utilizando la librería `scikit-learn`,  la función que le permite hacer esto es `fetch_olivetti_faces`. "
   ]
  },
  {
   "cell_type": "code",
   "execution_count": 1,
   "id": "36fac364",
   "metadata": {},
   "outputs": [],
   "source": [
    "# Utilice este espacio para escribir el código."
   ]
  },
  {
   "cell_type": "markdown",
   "id": "3fc38d31",
   "metadata": {},
   "source": [
    "(Utilice este espacio para describir su procedimiento)."
   ]
  },
  {
   "cell_type": "markdown",
   "id": "a507b795",
   "metadata": {},
   "source": [
    "### 2.  Análisis preliminar \n",
    "\n",
    "Describa los contenidos de la base de datos, tenga en cuenta que debe detallar los elementos, la dimensión de la base, y la dimensión de las imágenes. "
   ]
  },
  {
   "cell_type": "code",
   "execution_count": 2,
   "id": "877fe5ce",
   "metadata": {},
   "outputs": [],
   "source": [
    "# Utilice este espacio para escribir el código."
   ]
  },
  {
   "cell_type": "markdown",
   "id": "e762d6b3",
   "metadata": {},
   "source": [
    "(Utilice este espacio para describir el procedimiento, análisis y conclusiones)"
   ]
  },
  {
   "cell_type": "markdown",
   "id": "f1f9b4b4",
   "metadata": {},
   "source": [
    "Como pudo notar en el punto anterior, las imágenes son altamente dimensionales. Antes de proceder con clustering reduzca a dos dimensiones las imágenes utilizando componentes principales. Grafique las dos primeras componentes y comente si se observa algún patron de agrupamiento."
   ]
  },
  {
   "cell_type": "code",
   "execution_count": 3,
   "id": "41ca7fd2",
   "metadata": {},
   "outputs": [],
   "source": [
    "# Utilice este espacio para escribir el código."
   ]
  },
  {
   "cell_type": "markdown",
   "id": "e7d19f86",
   "metadata": {},
   "source": [
    "(Utilice este espacio para describir el procedimiento, análisis y conclusiones)"
   ]
  },
  {
   "cell_type": "markdown",
   "id": "a778b917",
   "metadata": {},
   "source": [
    "### 3. K-medias\n",
    "\n",
    "Como sabemos que el dataset consta de 40 personas diferentes, utilice esta información para pedirle al algoritmo de K-medias que encuentre k=40 clusters. Explique brevemente que hace el algoritmo, comente sobre los resultados obtenidos y el desempeño del algoritmo. En su comentario incluya un gráfico que muestre qué imagenes pertenecen a cada cluster."
   ]
  },
  {
   "cell_type": "code",
   "execution_count": 4,
   "id": "ab568291",
   "metadata": {},
   "outputs": [],
   "source": [
    "# Utilice este espacio para escribir el código."
   ]
  },
  {
   "cell_type": "markdown",
   "id": "4c85bb20",
   "metadata": {},
   "source": [
    "(Utilice este espacio para describir el procedimiento, análisis y conclusiones)"
   ]
  },
  {
   "cell_type": "markdown",
   "id": "98b90dbc",
   "metadata": {},
   "source": [
    "### 4. K-medoides\n",
    "\n",
    "Repita el ejercicio anterior pero utilizando K-medoides. Explique brevemente qué hace el algoritmo, comente sobre los resultados obtenidos, y el desempeño del algoritmo. En su comentario incluya un gráfico que muestre qué imágenes pertenecen a cada cluster. "
   ]
  },
  {
   "cell_type": "code",
   "execution_count": 5,
   "id": "fef94868",
   "metadata": {},
   "outputs": [],
   "source": [
    "# Utilice este espacio para escribir el código."
   ]
  },
  {
   "cell_type": "markdown",
   "id": "247b59c9",
   "metadata": {},
   "source": [
    "(Utilice este espacio para describir el procedimiento, análisis y conclusiones)"
   ]
  },
  {
   "cell_type": "markdown",
   "id": "9f31167d",
   "metadata": {},
   "source": [
    "### 5. Comparación entre K-medias y K-medoides\n",
    "\n",
    "Compare los clusters obtenidos entre K-medias y K-medoides. Explique las similitudes y diferencias, en su análisis comente sobre el desempeño de cada uno de los algoritmos."
   ]
  },
  {
   "cell_type": "code",
   "execution_count": 6,
   "id": "2fdf3326",
   "metadata": {},
   "outputs": [],
   "source": [
    "# Utilice este espacio para escribir el código."
   ]
  },
  {
   "cell_type": "markdown",
   "id": "2b5eff17",
   "metadata": {},
   "source": [
    "(Utilice este espacio para describir el procedimiento, análisis y conclusiones)"
   ]
  },
  {
   "cell_type": "markdown",
   "id": "b17a4643",
   "metadata": {},
   "source": [
    "### 6. Elección del número de clusters\n",
    "\n",
    "En los puntos anteriores utilizamos nuestro conocimiento previo sobre los datos para elegir el número de clusters. En este punto, verifique si 40 es realmente el número de cluster que usted elegiría según los criterios que discutimos en los cuadernos teóricos. Explique brevemente en qué consiste cada criterio y aplíquelos para ambos métodos. Compare los resultados obtenidos.\n",
    "\n"
   ]
  },
  {
   "cell_type": "code",
   "execution_count": 7,
   "id": "ad59be36",
   "metadata": {},
   "outputs": [],
   "source": [
    "# Utilice este espacio para escribir el código."
   ]
  },
  {
   "cell_type": "markdown",
   "id": "d1267ad7",
   "metadata": {},
   "source": [
    "(Utilice este espacio para describir el procedimiento, análisis y conclusiones)"
   ]
  },
  {
   "cell_type": "markdown",
   "id": "11ac9cbb",
   "metadata": {},
   "source": [
    "### 7. Robustez de los resultados\n",
    "\n",
    "#### 7.1 Estandarice los datos y repita los puntos 3, 4, y 5. ¿Hubo alguna mejora en la conformación de los clusters? "
   ]
  },
  {
   "cell_type": "code",
   "execution_count": 8,
   "id": "6aa9585a",
   "metadata": {},
   "outputs": [],
   "source": [
    "# Utilice este espacio para escribir el código."
   ]
  },
  {
   "cell_type": "markdown",
   "id": "76dfb8ff",
   "metadata": {},
   "source": [
    "(Utilice este espacio para describir el procedimiento, análisis y conclusiones)"
   ]
  },
  {
   "cell_type": "markdown",
   "id": "2c7ecd75",
   "metadata": {},
   "source": [
    "#### 7.2 ¿Es necesario realizar la descomposición en componentes principales antes de la clusterización? Comente sobre la presición de los resultados y compare el tiempo que tardan K-medias y K-medoides  con y sin la reducción de dimensionalidad."
   ]
  },
  {
   "cell_type": "code",
   "execution_count": 9,
   "id": "cf61682b",
   "metadata": {},
   "outputs": [],
   "source": [
    "# Utilice este espacio para escribir el código."
   ]
  },
  {
   "cell_type": "markdown",
   "id": "8374b537",
   "metadata": {},
   "source": [
    "(Utilice este espacio para describir el procedimiento, análisis y conclusiones)"
   ]
  }
 ],
 "metadata": {
  "kernelspec": {
   "display_name": "Python 3 (ipykernel)",
   "language": "python",
   "name": "python3"
  },
  "language_info": {
   "codemirror_mode": {
    "name": "ipython",
    "version": 3
   },
   "file_extension": ".py",
   "mimetype": "text/x-python",
   "name": "python",
   "nbconvert_exporter": "python",
   "pygments_lexer": "ipython3",
   "version": "3.9.7"
  },
  "toc": {
   "base_numbering": 1,
   "nav_menu": {},
   "number_sections": true,
   "sideBar": true,
   "skip_h1_title": false,
   "title_cell": "Table of Contents",
   "title_sidebar": "Contents",
   "toc_cell": false,
   "toc_position": {},
   "toc_section_display": true,
   "toc_window_display": false
  }
 },
 "nbformat": 4,
 "nbformat_minor": 5
}
