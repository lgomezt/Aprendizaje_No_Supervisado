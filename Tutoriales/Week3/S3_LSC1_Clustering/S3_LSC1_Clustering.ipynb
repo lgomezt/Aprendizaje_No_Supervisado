{
 "cells": [
  {
   "cell_type": "markdown",
   "id": "duplicate-transition",
   "metadata": {},
   "source": [
    "<div >\n",
    "<img src = \"../../../ans_banner_1920x200.png\" />\n",
    "</div>"
   ]
  },
  {
   "cell_type": "markdown",
   "id": "organizational-resource",
   "metadata": {},
   "source": [
    "# Introducción al Análisis de Clusters"
   ]
  },
  {
   "cell_type": "markdown",
   "id": "close-cradle",
   "metadata": {},
   "source": [
    "Este *cuaderno* presenta una introducción al análisis de clusters. El  análisis de clusters aglomera un conjunto de técnicas y algoritmos que tienen por objetivo buscar observaciones o variables similares y agruparlos en grupos o clusters. El objetivo del *cuaderno* es que aprenda a que nos referimos cuando hablamos de clusters, qué implica buscar grupos similares, qué se entiende por similaridad, y cómo la medimos.\n",
    "\n",
    "**NO** es necesario editar el archivo o hacer una entrega. Los ejemplos contienen celdas con código ejecutable (`en gris`), que podrá modificar  libremente. Esta puede ser una buena forma de aprender nuevas funcionalidades del *cuaderno*, o experimentar variaciones en los códigos de ejemplo.\n"
   ]
  },
  {
   "cell_type": "markdown",
   "id": "yellow-hepatitis",
   "metadata": {},
   "source": [
    "## ¿Qué es el análisis de clusters? \n",
    "\n",
    "El análisis de clusters es una de las principales aplicaciones de los algoritmos de aprendizaje no supervisado. Este tipo de análisis se utiliza para juntar observaciones similares en grupos, por ejemplo:\n",
    "\n",
    "- Segmentar a clientes por preferencias o sensibilidad a cambios en los precios.\n",
    "- Encontrar usuarios de una aplicación de música por géneros o bandas que prefieren.\n",
    "- Agrupar a votantes de acuerdo con los temas que les importa al momento de votar.\n",
    "- Dividir un corpus de documentos en temas.\n",
    "\n",
    "El gráfico siguiente ilustra el resultado de un análisis de clusters basado en dos variables:\n",
    "\n",
    "\n",
    "<div style=\"max-width:500px\">\n",
    "<img src = \"figs/plot_clustering_notebook.png\" />\n",
    "</div>\n",
    "\n",
    "Se puede apreciar que las observaciones se pueden separar claramente en 3 grupos o clusters, donde las observaciones son lo mas similares dentro de los clusters y  disimilares entre ellos.\n",
    "\n",
    "Las etapas del análisis de clusters podemos resumirlas de la siguiente forma:\n",
    "\n",
    "1. Iniciamos con una matriz de datos\n",
    "\n",
    "    \\begin{align}\n",
    "X_{n\\times k}=\\left(\\begin{array}{cccc}\n",
    "x_{11} &  & \\dots & x_{1k}\\\\\n",
    "\\\\\n",
    "\\vdots &  & x_{ik} & \\vdots\\\\\n",
    "\\\\\n",
    "x_{n1} &  & \\dots & x_{nk} \n",
    "\\end{array}\\right)\n",
    "    \\end{align}\n",
    "\n",
    "2. Calculamos la matriz de distancia o disimilitud\n",
    "\n",
    "\\begin{align}\n",
    "D_{n\\times n}=\\left(\\begin{array}{ccccc}\n",
    "d_{11} &  & \\dots &  & d_{1n}\\\\\n",
    " & \\ddots\\\\\n",
    "\\vdots &  & d_{jj} &  & \\vdots\\\\\n",
    " &  &  & \\ddots\\\\\n",
    "d_{n1} &  & \\dots &  & d_{nn}\n",
    "\\end{array}\\right)\n",
    "\\end{align}\n",
    "\n",
    "\n",
    "3. Aplicamos el algoritmo de clustering. Existen varios tipos de estos algoritmos que en términos generales podemos dividirlos en cuatro categorías:\n",
    "\n",
    "    - **Algoritmos basados en centroides**: cada cluster está representado por un centroide. Los clusters se construyen en función de la distancia al centroide del grupo.\n",
    "    \n",
    "    - **Algoritmos basados en conectividad**: los clusters se definen agrupando los datos respecto al vecino más cercano. La idea es que los puntos de datos cercanos estén más relacionados que otros puntos más lejanos. El aspecto clave es que un grupo contiene otros grupos. Debido a esta estructura, los clusters representan una jerarquía.\n",
    "\n",
    "    - **Algoritmos basados en densidades**: los clusters aquí se definen por áreas de densidad concentrada. Este método comienza buscando áreas de puntos de datos densos y asigna esas áreas a los mismos clusters.\n",
    "    \n",
    "    - **Algoritmos basados en distribuciones**: este método asume que cada cluster pertenece a una distribución normal. La idea es que los puntos de datos se dividan en función a la probabilidad de pertenecer a la misma distribución normal. Es similar a la agrupación en clusters basada en densidades y en centroides, excepto que genera los clusters asumiendo un proceso generador de datos gaussianos y utiliza estas probabilidades para asignar a los clusters en lugar de un centroide. \n",
    "\n",
    "\n",
    "Las preguntas naturales que surgen son: (1) ¿Cómo se mide disimilitud o distancia? y (2) ¿Qué algoritmo de clustering puedo aplicar para identificar estos grupos? En este *cuaderno* responderemos la primer pregunta y en los *cuadernos* subsiguientes la segunda. \n"
   ]
  },
  {
   "cell_type": "markdown",
   "id": "primary-childhood",
   "metadata": {},
   "source": [
    "## Medidas de distancia o disimilitud.\n",
    "\n",
    "Para poder agrupar observaciones en clusters es necesario primero calcular la  distancia o disimilitud entre ellas, para  luego armar la matriz de distancias. La distancia expresa la proximidad o la similitud  que existe entre individuos o variables.  \n",
    "\n",
    "Existen ciertas guías para escoger una adecuada medida de distancia o disimilitud, sin embargo, existe un buen grado de subjetividad en el momento de escogerlas. Por esto, primero es necesario estudiar las medidas más utilizadas antes de explorar los algoritmos de clustering."
   ]
  },
  {
   "cell_type": "markdown",
   "id": "million-quick",
   "metadata": {},
   "source": [
    "### Medidas de distancia entre observaciones\n",
    "\n",
    "Matemáticamente se da el nombre de medida de distancia entre dos observaciones $i$ e $i'$, $d_{ii'}$ a toda medida que verifique todos los siguientes axiomas:\n",
    "\n",
    "1. $d(x_{i},x_{i'})\\geq 0$ y $d(x_{i'},x_{i})=0$ \n",
    "2. $d(x_{i},x_{i'})=d(x_{i'},x_{i})$\n",
    "3. $d(x_{i},x_{i'})\\leq d(x_{i},x_{i''})+d(x_{i'},x_{i''})$\n",
    "\n",
    "\n",
    "donde  $x_{i}$ y $x_{i'}$ son las variables o atributos de estas observaciones. Entre las medidas de distancia, la más conocida es la  distancia euclidiana que se utiliza para variables cuantitativas. Sin embargo, existen otras medidas de distancia que se utilizarán dependiendo el tipo o la naturaleza de las variables, por lo que los resultados del algoritmo serán sensibles a la elección de la medida.\n",
    "\n",
    "A continuación, exploraremos las medidas de distancia más utilizadas por tipo de datos:\n"
   ]
  },
  {
   "cell_type": "markdown",
   "id": "exotic-joining",
   "metadata": {},
   "source": [
    "#### Distancia para variables cuantitativas. \n",
    "\n",
    "Las variables cuantitativas son aquellas en las que su dominio es un continuo de números reales. Para este tipo de datos la distancia, la mas utilizada suele ser la distancia euclidiana. Para dos números reales esta dada por:\n",
    "\n",
    "\n",
    "\\begin{align}\n",
    "d_{ii'}=d(x_i,x_{i'})= \\sqrt{(x_i - x_{i'})^2}\n",
    "\\end{align}\n",
    "\n",
    "es decir, la raíz cuadrada del cuadrado de las diferencias. \n",
    "\n",
    "Ilustremos el cálculo de esta distancia en `Python` utilizando datos de 5 individuos que contienen información sobre su Sexo, Edad, Educación e Ingresos. Primero hay que notar que en esta base hay:\n",
    "- Dos variables cuantitativas: Edad e Ingresos.\n",
    "- Una variable categórica: Sexo.\n",
    "- Una variable ordinal: Educación.\n"
   ]
  },
  {
   "cell_type": "code",
   "execution_count": 1,
   "id": "current-retail",
   "metadata": {},
   "outputs": [
    {
     "data": {
      "text/html": [
       "<div>\n",
       "<style scoped>\n",
       "    .dataframe tbody tr th:only-of-type {\n",
       "        vertical-align: middle;\n",
       "    }\n",
       "\n",
       "    .dataframe tbody tr th {\n",
       "        vertical-align: top;\n",
       "    }\n",
       "\n",
       "    .dataframe thead th {\n",
       "        text-align: right;\n",
       "    }\n",
       "</style>\n",
       "<table border=\"1\" class=\"dataframe\">\n",
       "  <thead>\n",
       "    <tr style=\"text-align: right;\">\n",
       "      <th></th>\n",
       "      <th>Sexo</th>\n",
       "      <th>Edad</th>\n",
       "      <th>Educacion</th>\n",
       "      <th>Ingresos</th>\n",
       "    </tr>\n",
       "  </thead>\n",
       "  <tbody>\n",
       "    <tr>\n",
       "      <th>0</th>\n",
       "      <td>Hombre</td>\n",
       "      <td>66</td>\n",
       "      <td>Secundario</td>\n",
       "      <td>52500</td>\n",
       "    </tr>\n",
       "    <tr>\n",
       "      <th>1</th>\n",
       "      <td>Hombre</td>\n",
       "      <td>70</td>\n",
       "      <td>Secundario</td>\n",
       "      <td>126400</td>\n",
       "    </tr>\n",
       "    <tr>\n",
       "      <th>2</th>\n",
       "      <td>Mujer</td>\n",
       "      <td>23</td>\n",
       "      <td>Primario</td>\n",
       "      <td>32400</td>\n",
       "    </tr>\n",
       "    <tr>\n",
       "      <th>3</th>\n",
       "      <td>Mujer</td>\n",
       "      <td>20</td>\n",
       "      <td>Universitario</td>\n",
       "      <td>74000</td>\n",
       "    </tr>\n",
       "    <tr>\n",
       "      <th>4</th>\n",
       "      <td>Hombre</td>\n",
       "      <td>22</td>\n",
       "      <td>Terciario</td>\n",
       "      <td>39000</td>\n",
       "    </tr>\n",
       "  </tbody>\n",
       "</table>\n",
       "</div>"
      ],
      "text/plain": [
       "     Sexo  Edad      Educacion  Ingresos\n",
       "0  Hombre    66     Secundario     52500\n",
       "1  Hombre    70     Secundario    126400\n",
       "2   Mujer    23       Primario     32400\n",
       "3   Mujer    20  Universitario     74000\n",
       "4  Hombre    22      Terciario     39000"
      ]
     },
     "execution_count": 1,
     "metadata": {},
     "output_type": "execute_result"
    }
   ],
   "source": [
    "# Cargamos las librerías a utilizar\n",
    "import pandas as pd\n",
    "import math\n",
    "\n",
    "# Cargamos y visualizamos los datos\n",
    "datos = pd.read_csv('data/data_eph.csv')\n",
    "datos.head()"
   ]
  },
  {
   "cell_type": "markdown",
   "id": "thousand-coaching",
   "metadata": {},
   "source": [
    "La distancia de la Edad de la primera observación respecto a la segunda será:\n",
    "    \n",
    "$d_{01}= \\sqrt{(66-70)^2}$ "
   ]
  },
  {
   "cell_type": "code",
   "execution_count": 2,
   "id": "correct-apache",
   "metadata": {},
   "outputs": [
    {
     "data": {
      "text/plain": [
       "4.0"
      ]
     },
     "execution_count": 2,
     "metadata": {},
     "output_type": "execute_result"
    }
   ],
   "source": [
    "math.sqrt((66-70)**2)"
   ]
  },
  {
   "cell_type": "markdown",
   "id": "practical-admission",
   "metadata": {},
   "source": [
    "Otros tipos de distancias para variables cuantitativas son:\n",
    "\n",
    "   - Distancia de Manhattan: $|x_i - x_{i'}|$\n",
    "    \n",
    "   - Distancia de Minkowski: $(|x_i - x_{i'}|^p)^{\\frac{1}{p}}$\n",
    "    \n",
    "   - Distancia de Chebychev: $Max|x_i - x_{i'}|$"
   ]
  },
  {
   "cell_type": "markdown",
   "id": "intended-clerk",
   "metadata": {},
   "source": [
    "#### Distancia para variables categóricas ordenadas.\n",
    "\n",
    "Las variables categóricas ordenadas  se representan como un continuo de enteros, cuyo dominio es un conjunto ordenado, como es el caso de Educación en el ejemplo anterior:\n",
    "\\begin{align}\n",
    "\\left(\\begin{array}{c}\n",
    "Primario\\\\\n",
    "Secundario\\\\\n",
    "Terciario\\\\\n",
    "Universitario\n",
    "\\end{array}\\right)\\rightarrow\\left(\\begin{array}{c}\n",
    "1\\\\\n",
    "2\\\\\n",
    "3\\\\\n",
    "4\n",
    "\\end{array}\\right)\n",
    "\\end{align}\n",
    "\n",
    "En este caso, primero reemplazamos sus valores originales con:\n",
    "\n",
    "\\begin{align}\n",
    "\\frac{i-1/2}{M} \\,\\,\\, i=1,...,M\n",
    "\\end{align}\n",
    "\n",
    "\n",
    "donde $M$ es el número de categorias.  En `Python` esta transformación se puede lograr haciendo:\n"
   ]
  },
  {
   "cell_type": "code",
   "execution_count": 3,
   "id": "approximate-investor",
   "metadata": {},
   "outputs": [
    {
     "data": {
      "text/html": [
       "<div>\n",
       "<style scoped>\n",
       "    .dataframe tbody tr th:only-of-type {\n",
       "        vertical-align: middle;\n",
       "    }\n",
       "\n",
       "    .dataframe tbody tr th {\n",
       "        vertical-align: top;\n",
       "    }\n",
       "\n",
       "    .dataframe thead th {\n",
       "        text-align: right;\n",
       "    }\n",
       "</style>\n",
       "<table border=\"1\" class=\"dataframe\">\n",
       "  <thead>\n",
       "    <tr style=\"text-align: right;\">\n",
       "      <th></th>\n",
       "      <th>Educacion</th>\n",
       "    </tr>\n",
       "  </thead>\n",
       "  <tbody>\n",
       "    <tr>\n",
       "      <th>0</th>\n",
       "      <td>Secundario</td>\n",
       "    </tr>\n",
       "    <tr>\n",
       "      <th>1</th>\n",
       "      <td>Secundario</td>\n",
       "    </tr>\n",
       "    <tr>\n",
       "      <th>2</th>\n",
       "      <td>Primario</td>\n",
       "    </tr>\n",
       "    <tr>\n",
       "      <th>3</th>\n",
       "      <td>Universitario</td>\n",
       "    </tr>\n",
       "    <tr>\n",
       "      <th>4</th>\n",
       "      <td>Terciario</td>\n",
       "    </tr>\n",
       "  </tbody>\n",
       "</table>\n",
       "</div>"
      ],
      "text/plain": [
       "       Educacion\n",
       "0     Secundario\n",
       "1     Secundario\n",
       "2       Primario\n",
       "3  Universitario\n",
       "4      Terciario"
      ]
     },
     "execution_count": 3,
     "metadata": {},
     "output_type": "execute_result"
    }
   ],
   "source": [
    "Edu = datos.loc[:,['Educacion']]\n",
    "Edu"
   ]
  },
  {
   "cell_type": "code",
   "execution_count": 4,
   "id": "innocent-presentation",
   "metadata": {},
   "outputs": [
    {
     "data": {
      "text/html": [
       "<div>\n",
       "<style scoped>\n",
       "    .dataframe tbody tr th:only-of-type {\n",
       "        vertical-align: middle;\n",
       "    }\n",
       "\n",
       "    .dataframe tbody tr th {\n",
       "        vertical-align: top;\n",
       "    }\n",
       "\n",
       "    .dataframe thead th {\n",
       "        text-align: right;\n",
       "    }\n",
       "</style>\n",
       "<table border=\"1\" class=\"dataframe\">\n",
       "  <thead>\n",
       "    <tr style=\"text-align: right;\">\n",
       "      <th></th>\n",
       "      <th>Educacion</th>\n",
       "    </tr>\n",
       "  </thead>\n",
       "  <tbody>\n",
       "    <tr>\n",
       "      <th>0</th>\n",
       "      <td>2</td>\n",
       "    </tr>\n",
       "    <tr>\n",
       "      <th>1</th>\n",
       "      <td>2</td>\n",
       "    </tr>\n",
       "    <tr>\n",
       "      <th>2</th>\n",
       "      <td>1</td>\n",
       "    </tr>\n",
       "    <tr>\n",
       "      <th>3</th>\n",
       "      <td>4</td>\n",
       "    </tr>\n",
       "    <tr>\n",
       "      <th>4</th>\n",
       "      <td>3</td>\n",
       "    </tr>\n",
       "  </tbody>\n",
       "</table>\n",
       "</div>"
      ],
      "text/plain": [
       "   Educacion\n",
       "0          2\n",
       "1          2\n",
       "2          1\n",
       "3          4\n",
       "4          3"
      ]
     },
     "execution_count": 4,
     "metadata": {},
     "output_type": "execute_result"
    }
   ],
   "source": [
    "educacion = [\"Primario\", \"Secundario\", \"Terciario\", \"Universitario\"]\n",
    "orden = [1, 2, 3, 4]\n",
    "\n",
    "Edu = Edu.replace(educacion, orden)\n",
    "Edu"
   ]
  },
  {
   "cell_type": "code",
   "execution_count": 5,
   "id": "broadband-college",
   "metadata": {},
   "outputs": [
    {
     "data": {
      "text/html": [
       "<div>\n",
       "<style scoped>\n",
       "    .dataframe tbody tr th:only-of-type {\n",
       "        vertical-align: middle;\n",
       "    }\n",
       "\n",
       "    .dataframe tbody tr th {\n",
       "        vertical-align: top;\n",
       "    }\n",
       "\n",
       "    .dataframe thead th {\n",
       "        text-align: right;\n",
       "    }\n",
       "</style>\n",
       "<table border=\"1\" class=\"dataframe\">\n",
       "  <thead>\n",
       "    <tr style=\"text-align: right;\">\n",
       "      <th></th>\n",
       "      <th>Educacion</th>\n",
       "    </tr>\n",
       "  </thead>\n",
       "  <tbody>\n",
       "    <tr>\n",
       "      <th>0</th>\n",
       "      <td>0.375</td>\n",
       "    </tr>\n",
       "    <tr>\n",
       "      <th>1</th>\n",
       "      <td>0.375</td>\n",
       "    </tr>\n",
       "    <tr>\n",
       "      <th>2</th>\n",
       "      <td>0.125</td>\n",
       "    </tr>\n",
       "    <tr>\n",
       "      <th>3</th>\n",
       "      <td>0.875</td>\n",
       "    </tr>\n",
       "    <tr>\n",
       "      <th>4</th>\n",
       "      <td>0.625</td>\n",
       "    </tr>\n",
       "  </tbody>\n",
       "</table>\n",
       "</div>"
      ],
      "text/plain": [
       "   Educacion\n",
       "0      0.375\n",
       "1      0.375\n",
       "2      0.125\n",
       "3      0.875\n",
       "4      0.625"
      ]
     },
     "execution_count": 5,
     "metadata": {},
     "output_type": "execute_result"
    }
   ],
   "source": [
    "Edu = (Edu - 0.5)/len(educacion)\n",
    "Edu"
   ]
  },
  {
   "cell_type": "markdown",
   "id": "c34bc09d",
   "metadata": {},
   "source": [
    "Luego utilizamos las medidas para variables cuantitativas descritas anteriormente."
   ]
  },
  {
   "cell_type": "markdown",
   "id": "infinite-surgery",
   "metadata": {},
   "source": [
    "#### Distancia para variables categóricas no ordenadas.\n",
    "\n",
    "Las variables categóricas  no ordenadas son aquellas que tienen dos o mas categorías, pero no existe un ordenamiento intrínseco de las mismas, como es el caso de educación en el ejemplo anterior.\n",
    "\n",
    "Si la variable es binaria, se codifica a una de las categorías con $0$ y a la otra con $1$, esto se lo suele denominar como *one hot encoding*. Este procedimiento hace que las variables categóricas se vuelvan numéricas y podamos medir distancia. La medida de distancia más utilizada en estos casos se conoce como distancia de coincidencia simple:\n",
    "\n",
    "\n",
    "\\begin{align}\n",
    "d_{ii'}=d(x_i,x_{i'})= I(x_i \\neq x_{i'})\n",
    "\\end{align}\n",
    "\n",
    "donde $I(.)$ es la función indicadora que toma valor 1 cuando las variables no coinciden, y 0 en caso contrario. En el ejemplo anterior, si codificamos Hombre como 1 y Mujer como 0 tendríamos:\n",
    "\n",
    "\\begin{align}\n",
    "d_{01}= 0\n",
    "\\end{align}\n",
    "\n",
    "y \n",
    "\n",
    "\\begin{align}\n",
    "d_{02}= 1\n",
    "\\end{align}\n",
    "\n",
    "La distancia de la primera observación a la segunda es 0 puesto que ambos son hombres, mientras que de la primera a la tercera es 1 ya que los sexos no coinciden.\n",
    "\n",
    "Cuando las variables tienen más de dos categorías, se dicotomiza adecuadamente cada una de ellas (con ceros y unos) y luego se utilizan las medidas que definimos anteriormente. Por ejemplo, si una variable contiene el estado civil: Soltero, Casado, Separado. Entonces crearíamos 3 variables dicótomas, una para Soltero, Casado, y Separado:\n",
    "\\begin{align}\n",
    "\\left(\\begin{array}{c}\n",
    "Soltero\\\\\n",
    "Casado\\\\\n",
    "Soltero\\\\\n",
    "Separado\\\\\n",
    "Casado\n",
    "\\end{array}\\right)\\rightarrow\\left(\\begin{array}{ccc}\n",
    "Soltero & Casado & Separado\\\\\n",
    "1 & 0 & 0\\\\\n",
    "0 & 1 & 0\\\\\n",
    "1 & 0 & 0\\\\\n",
    "0 & 0 & 1\\\\\n",
    "0 & 1 & 0\n",
    "\\end{array}\\right)\n",
    "\\end{align}\n"
   ]
  },
  {
   "cell_type": "markdown",
   "id": "overall-episode",
   "metadata": {},
   "source": [
    "### Medidas de  distancia entre varias variables.\n",
    "\n",
    "En la práctica, a menudo nos encontramos que cada observación tiene más de una  variable o atributo $j=1,2,\\cdots,p$. Por ende, para estimar la matriz de distancia debemos saber cómo combinar las distancias entre observaciones para múltiples variables.  La forma mas común cuando las variables son cuantitativas es utilizar la distancia euclidiana, entonces la distancia entre las observaciones $i$ e $i'$ cuando tienen $p$ atributos es:\n",
    "\n",
    "\\begin{align}\n",
    "d(x_{i},x_{i'})= \\sqrt{\\sum_{j=1}^p (x_{ij}- x_{i'j})^2}\n",
    "\\end{align}\n",
    "\n",
    "Extensiones de las medidas exploradas anteriormente también son posibles, y uno debe ser cuidadoso porque los resultados van a ser sensibles a esta la elección.\n",
    "\n",
    "Por ejemplo, la distancia entre el primer individuo y el segundo individuos para los atributos cuantitativos de los datos anteriores sería:"
   ]
  },
  {
   "cell_type": "code",
   "execution_count": 6,
   "id": "compound-sender",
   "metadata": {},
   "outputs": [
    {
     "data": {
      "text/html": [
       "<div>\n",
       "<style scoped>\n",
       "    .dataframe tbody tr th:only-of-type {\n",
       "        vertical-align: middle;\n",
       "    }\n",
       "\n",
       "    .dataframe tbody tr th {\n",
       "        vertical-align: top;\n",
       "    }\n",
       "\n",
       "    .dataframe thead th {\n",
       "        text-align: right;\n",
       "    }\n",
       "</style>\n",
       "<table border=\"1\" class=\"dataframe\">\n",
       "  <thead>\n",
       "    <tr style=\"text-align: right;\">\n",
       "      <th></th>\n",
       "      <th>Edad</th>\n",
       "      <th>Ingresos</th>\n",
       "    </tr>\n",
       "  </thead>\n",
       "  <tbody>\n",
       "    <tr>\n",
       "      <th>0</th>\n",
       "      <td>66</td>\n",
       "      <td>52500</td>\n",
       "    </tr>\n",
       "    <tr>\n",
       "      <th>1</th>\n",
       "      <td>70</td>\n",
       "      <td>126400</td>\n",
       "    </tr>\n",
       "    <tr>\n",
       "      <th>2</th>\n",
       "      <td>23</td>\n",
       "      <td>32400</td>\n",
       "    </tr>\n",
       "    <tr>\n",
       "      <th>3</th>\n",
       "      <td>20</td>\n",
       "      <td>74000</td>\n",
       "    </tr>\n",
       "    <tr>\n",
       "      <th>4</th>\n",
       "      <td>22</td>\n",
       "      <td>39000</td>\n",
       "    </tr>\n",
       "  </tbody>\n",
       "</table>\n",
       "</div>"
      ],
      "text/plain": [
       "   Edad  Ingresos\n",
       "0    66     52500\n",
       "1    70    126400\n",
       "2    23     32400\n",
       "3    20     74000\n",
       "4    22     39000"
      ]
     },
     "execution_count": 6,
     "metadata": {},
     "output_type": "execute_result"
    }
   ],
   "source": [
    "datos_cuant=datos.loc[:,['Edad','Ingresos']]\n",
    "datos_cuant"
   ]
  },
  {
   "cell_type": "markdown",
   "id": "living-complement",
   "metadata": {},
   "source": [
    "$d_{01}= \\sqrt{(66-70)^2+(52500-126400)^2}$ "
   ]
  },
  {
   "cell_type": "code",
   "execution_count": 7,
   "id": "tropical-correspondence",
   "metadata": {},
   "outputs": [
    {
     "data": {
      "text/plain": [
       "73900.0001082544"
      ]
     },
     "execution_count": 7,
     "metadata": {},
     "output_type": "execute_result"
    }
   ],
   "source": [
    "math.sqrt((66-70)**2+(52500-126400)**2)"
   ]
  },
  {
   "cell_type": "markdown",
   "id": "handmade-click",
   "metadata": {},
   "source": [
    "Otra medida que se utiliza cuando tenemos multiples variables dicótomas es la distancia de Jaccard, ésta es:\n",
    "\n",
    "\\begin{align}\n",
    "d_{ii'}=d(x_i,x_{i'})= 1 - \\frac{\\sum_k I(x_{1k}\\, y \\,x_{i'k})}{\\sum_k I(x_{1k}\\, o\\, x_{i'k})}\n",
    "\\end{align}\n"
   ]
  },
  {
   "cell_type": "markdown",
   "id": "ambient-former",
   "metadata": {},
   "source": [
    "La distancia euclidiana en el caso anterior combina las $p$ distancias dándole el mismo peso a todos los atributos, sin embargo, se pude definir también como un promedio ponderado y combinar distintas medidas de distancia. Esto quedaría como una combinación convexa:\n",
    "\n",
    "\\begin{align}\n",
    "d_{ii'}=(x_i, x_{i'})=\\sum_{j=1}^p\\omega_j\\cdot d_j(x_{ij}, x_{i'j});\\ \\sum_{j=1}^p\\omega_j=1\n",
    "\\end{align}\n",
    "\n",
    "en donde $\\omega_j$ es el peso asignado al atributo j-ésimo; y se elegirá subjetivamente dependiendo del problema. $d_j(x_{ij}, x_{i'j})$ es una de las medidas de distancia que describimos anteriormente y se elegirá dependiendo las características de la variable o atributo, y del problema bajo estudio.\n",
    " \n",
    "Es importante recalcar que pesos iguales no necesariamente conlleva a que todos los atributos tengan la misma influencia, por ejemplo $\\omega_j=1\\ \\forall j$. La influencia del atributo j-ésimo $X_j$ en la disimilaridad entre dos objetos depende en su contribución relativa al promedio de disimilaredes entre todos los puntos de un conjunto de datos:\n",
    "\n",
    "\\begin{align}\n",
    "\\bar{d}=\\frac{1}{N^2}\\sum_{i=1}^N\\sum_{i'=1}^N d(x_i, x_{i'})=\\sum_{j=1}^p\\omega_j \\cdot \\bar{d_j}\n",
    "\\end{align}\n",
    "\n",
    "\n",
    "Con $\\bar{d_j}=\\frac{1}{N^2}\\sum_{i=1}^N\\sum_{i'=1}^N d_j(x_{ij}, x_{i'j})$ siendo la disimilaridad promedio del atributo $j$. Por consiguiente, la influencia relativa de la variable j-ésima es $\\omega_j \\cdot \\bar{d_j}$ y definiendo $\\omega_j \\sim 1/\\bar{d_j}$ se consigue que todos los atributos aporten lo mismo a la disimilaridad.\n",
    "\n",
    "Por ejemplo, si se tienen $p$ variables cuantitativas y se define el error al cuadrado como medida de distancia para cada coordinada, obtenemos la distancia euclidiana al cuadrado ponderada por pesos:\n",
    "\n",
    "\\begin{align}\n",
    "d_I(x_i, x_{i'})=\\sum_{j=1}^p\\omega_j\\cdot (x_{ij}-x_{i'j})^2\n",
    "\\end{align}\n",
    "\n",
    "Note que $\\bar{d_j}=\\frac{1}{N^2}\\sum_{i=1}^N\\sum_{i'=1}^N (x_{ij}-x_{i'j})^2=2\\cdot var_j$ en donde $var_j$ es la varianza muestral de $x_j$. Luego, la importancia relativa de cada variable es proporcional a la varianza de esta variable en el conjunto de datos. \n"
   ]
  },
  {
   "cell_type": "markdown",
   "id": "english-wesley",
   "metadata": {},
   "source": [
    "Finalmente, y quizás el método más popular para medir distancia o disimilaridad es usar la distancia de Gower. Esta permite medir la distancia entre dos variables numéricas y no numéricas. El proceso es el siguiente:\n",
    "\n",
    "1. Definir un score de disimilaridad para cada dos observaciones $i$ e $i'$:\n",
    "\n",
    "    - Si la variable es cuantitativa:\n",
    "        \\begin{align}\n",
    "               s_j(x_{ij},x_{i'j})= 1-\\frac{|x_{ij}-x_{i'j}|}{n}\n",
    "        \\end{align}\n",
    "\n",
    "    - Si la variable es categórica: \n",
    "         \n",
    "        \\begin{align}\n",
    "               s_j(x_{ij},x_{i'j})=\\begin{cases}\n",
    "                1 & x_{ij}=x_{i'j}\\\\\n",
    "                0 & x_{ij}\\neq x_{i'j}\n",
    "               \\end{cases}\n",
    "        \\end{align}\n",
    "         \n",
    "             \n",
    "Note que este score será: $s_{ii'j}=0$ si $x_{ij}$ y $x_{i'j}$ son disimilares, y $0<s_{ii'j}\\leq1$ , si no son disimilares.\n",
    "\n",
    "\n",
    "2. Definir $\\delta_{ii'j}=0$ si $x_{ij}$ y $x_{i'j}$  no pueden compararse por datos faltantes, y 1 en caso contrario.\n",
    "\n",
    "3. Agregar el score de disimilaridad para $i$ e $i'$:\n",
    "\\begin{align}\n",
    "            s_j(x_{ij},x_{i'j}) = \\frac{\\sum_{j=1}^p    s_j(x_{ij},x_{i'j})}{\\sum_{j=1}^p\\delta_{ii'j}}\n",
    "\\end{align}\n",
    "\n",
    "Al igual que en el caso anterior, podemos utilizar pesos para reflejar la importancia relativa de las variables:\n",
    "\\begin{align}\n",
    "         s_j(x_{ij},x_{i'j}) = \\frac{\\sum_{j=1}^p   \\omega_j s_j(x_{ij},x_{i'j})}{\\sum_{j=1}^p \\omega_j\\delta_{ii'j}}\n",
    "        \\end{align}"
   ]
  },
  {
   "cell_type": "markdown",
   "id": "miniature-bennett",
   "metadata": {},
   "source": [
    "#### Correlación entre variables\n",
    "\n",
    "Dependiendo del tipo de datos y la pregunta que se busque responder, podemos estar interesados no en si las observaciones o variables están cerca una de otras, sino en si sus características están altamente correlacionadas, aunque los valores observados estén muy distantes en términos de distancia euclidiana.\n",
    "\n",
    "Si queremos identificar clusters de observaciones o variables con los mismos perfiles generales independientemente de sus magnitudes, entonces deberemos utilizar medidas de disimilitud basados en las correlaciones. Por ejemplo, en marketing, podríamos querer identificar clusters de clientes con la misma preferencia en términos de artículos, independientemente del volumen de compra de los artículos.\n",
    "\n",
    "Los coeficientes de correlación de Pearson y de Spearman son algunos de los  más utilizados."
   ]
  },
  {
   "cell_type": "markdown",
   "id": "pretty-sender",
   "metadata": {},
   "source": [
    "##### Coeficiente de correlación de Pearson\n",
    "\n",
    "El coeficiente de correlación de Pearson se define como:\n",
    "\n",
    "\\begin{align}\n",
    "\\rho(x_i, x_{i'})=\\frac{\\sum_k (x_{ik}-\\bar{x_i})(x_{i'k}-\\bar{x_{i'}})}{\\sqrt{\\sum_k (x_{ik}-\\bar{x_i})^2\\sum_j(x_{i'k}-\\bar{x_{i'}}^2)}}\n",
    "\\end{align}\n",
    "\n",
    "en donde $\\bar{x_i}=\\sum_k x_{ik}/p$. Note que el promedio es sobre las variables y no sobre las observaciones. Si se estandarizan antes las observaciones, entonces \n",
    "\n",
    "\\begin{align}\n",
    "\\sum_k (x_{ik}-x_{i'k})^2 \\propto 2(1-\\rho(x_i, x_{i'}))\n",
    "\\end{align}\n",
    "\n",
    "Por esto los clusters basados en la correlación son equivalentes a los clusters basados en la distancia al cuadrado.\n",
    "\n",
    "Este coeficiente toma valores entre -1 y 1. Si $\\rho(x_i, x_{i'})=0$  implica de que no existe una correlación lineal entre $x_i$ y $ x_{i'}$, mientras que si es -1 hay una correlación lineal negativa, y cuando es 1, una correlación lineal positiva.\n",
    "\n",
    "Es importante notar que este coeficiente es invariante a las unidades de $x_i$, $x_{i'}$, pero es sensible a los valores atípicos. Esto se puede mitigar utilizando el coeficiente correlación de Spearman en lugar de la correlación de Pearson.\n",
    "\n",
    "En `Python` este se calcula como:"
   ]
  },
  {
   "cell_type": "code",
   "execution_count": 8,
   "id": "pharmaceutical-austria",
   "metadata": {
    "scrolled": false
   },
   "outputs": [
    {
     "data": {
      "text/html": [
       "<div>\n",
       "<style scoped>\n",
       "    .dataframe tbody tr th:only-of-type {\n",
       "        vertical-align: middle;\n",
       "    }\n",
       "\n",
       "    .dataframe tbody tr th {\n",
       "        vertical-align: top;\n",
       "    }\n",
       "\n",
       "    .dataframe thead th {\n",
       "        text-align: right;\n",
       "    }\n",
       "</style>\n",
       "<table border=\"1\" class=\"dataframe\">\n",
       "  <thead>\n",
       "    <tr style=\"text-align: right;\">\n",
       "      <th></th>\n",
       "      <th>Edad</th>\n",
       "      <th>Ingresos</th>\n",
       "    </tr>\n",
       "  </thead>\n",
       "  <tbody>\n",
       "    <tr>\n",
       "      <th>Edad</th>\n",
       "      <td>1.000000</td>\n",
       "      <td>0.611735</td>\n",
       "    </tr>\n",
       "    <tr>\n",
       "      <th>Ingresos</th>\n",
       "      <td>0.611735</td>\n",
       "      <td>1.000000</td>\n",
       "    </tr>\n",
       "  </tbody>\n",
       "</table>\n",
       "</div>"
      ],
      "text/plain": [
       "              Edad  Ingresos\n",
       "Edad      1.000000  0.611735\n",
       "Ingresos  0.611735  1.000000"
      ]
     },
     "execution_count": 8,
     "metadata": {},
     "output_type": "execute_result"
    }
   ],
   "source": [
    "datos.corr() # Por defecto hace la correlación de Pearson"
   ]
  },
  {
   "cell_type": "markdown",
   "id": "03341a3d",
   "metadata": {},
   "source": [
    "Note que cuando aplicamos el método `.corr()` sobre un `dataframe`, este automáticamente tiene sólo en cuenta las variables numéricas."
   ]
  },
  {
   "cell_type": "markdown",
   "id": "meaning-requirement",
   "metadata": {},
   "source": [
    "##### Coeficiente de correlación de Spearman\n",
    "\n",
    "El coeficiente de correlación de Spearman es una medida no paramétrica de correlación de rangos y se define como:\n",
    "\n",
    "\\begin{align}\n",
    "r_s(R(x_i), R(x_{i'}))=\\frac{Cov(R(x_i), R(x_{i'}))}{Var(R(x_i))Var(R(x_{i'}))}\n",
    "\\end{align}\n",
    "\n",
    "en donde $R(.)$ denota el rango de las variables. Este coeficeinte también toma valores entre -1 y 1, y coincide con el coeficiente de Pearson si se aplica a los rangos de esas variables. Sin embargo, mientras que la correlación de Pearson mide  relaciones lineales, la correlación de Spearman evalúa las relaciones monótonas (ya sean lineales o no). Hay que notar también, que este coeficiente es robusto a valores atípicos, porque se calcula sobre el rango de las variables, que no se ve afectado por la presencia de valores atípicos.\n",
    "\n",
    "En `Python` este se calcula como:"
   ]
  },
  {
   "cell_type": "code",
   "execution_count": 9,
   "id": "photographic-penalty",
   "metadata": {},
   "outputs": [
    {
     "data": {
      "text/html": [
       "<div>\n",
       "<style scoped>\n",
       "    .dataframe tbody tr th:only-of-type {\n",
       "        vertical-align: middle;\n",
       "    }\n",
       "\n",
       "    .dataframe tbody tr th {\n",
       "        vertical-align: top;\n",
       "    }\n",
       "\n",
       "    .dataframe thead th {\n",
       "        text-align: right;\n",
       "    }\n",
       "</style>\n",
       "<table border=\"1\" class=\"dataframe\">\n",
       "  <thead>\n",
       "    <tr style=\"text-align: right;\">\n",
       "      <th></th>\n",
       "      <th>Edad</th>\n",
       "      <th>Ingresos</th>\n",
       "    </tr>\n",
       "  </thead>\n",
       "  <tbody>\n",
       "    <tr>\n",
       "      <th>Edad</th>\n",
       "      <td>1.0</td>\n",
       "      <td>0.3</td>\n",
       "    </tr>\n",
       "    <tr>\n",
       "      <th>Ingresos</th>\n",
       "      <td>0.3</td>\n",
       "      <td>1.0</td>\n",
       "    </tr>\n",
       "  </tbody>\n",
       "</table>\n",
       "</div>"
      ],
      "text/plain": [
       "          Edad  Ingresos\n",
       "Edad       1.0       0.3\n",
       "Ingresos   0.3       1.0"
      ]
     },
     "execution_count": 9,
     "metadata": {},
     "output_type": "execute_result"
    }
   ],
   "source": [
    "datos.corr(\"spearman\")"
   ]
  },
  {
   "cell_type": "markdown",
   "id": "aca6a1c3",
   "metadata": {},
   "source": [
    "Otra opción que permite el método `.corr()` es el  coeficiente de correlación de rango de Kendall"
   ]
  },
  {
   "cell_type": "code",
   "execution_count": 10,
   "id": "statistical-rating",
   "metadata": {},
   "outputs": [
    {
     "data": {
      "text/html": [
       "<div>\n",
       "<style scoped>\n",
       "    .dataframe tbody tr th:only-of-type {\n",
       "        vertical-align: middle;\n",
       "    }\n",
       "\n",
       "    .dataframe tbody tr th {\n",
       "        vertical-align: top;\n",
       "    }\n",
       "\n",
       "    .dataframe thead th {\n",
       "        text-align: right;\n",
       "    }\n",
       "</style>\n",
       "<table border=\"1\" class=\"dataframe\">\n",
       "  <thead>\n",
       "    <tr style=\"text-align: right;\">\n",
       "      <th></th>\n",
       "      <th>Edad</th>\n",
       "      <th>Ingresos</th>\n",
       "    </tr>\n",
       "  </thead>\n",
       "  <tbody>\n",
       "    <tr>\n",
       "      <th>Edad</th>\n",
       "      <td>1.0</td>\n",
       "      <td>0.2</td>\n",
       "    </tr>\n",
       "    <tr>\n",
       "      <th>Ingresos</th>\n",
       "      <td>0.2</td>\n",
       "      <td>1.0</td>\n",
       "    </tr>\n",
       "  </tbody>\n",
       "</table>\n",
       "</div>"
      ],
      "text/plain": [
       "          Edad  Ingresos\n",
       "Edad       1.0       0.2\n",
       "Ingresos   0.2       1.0"
      ]
     },
     "execution_count": 10,
     "metadata": {},
     "output_type": "execute_result"
    }
   ],
   "source": [
    "datos.corr(\"kendall\")"
   ]
  },
  {
   "cell_type": "markdown",
   "id": "trying-petersburg",
   "metadata": {},
   "source": [
    "\n",
    "##  Matriz de distancia o disimilitud.\n",
    "\n",
    "La matriz de distancia recoge las distancias anteriormente calculadas entre los objetos. Por lo tanto, si estamos midiendo la distancia entre $n$ observaciones, la matriz resultante será de tambaño $n\\times n$  y cada elemento $d_{ii'}$ corresponde a la distancia entre  $i$ e $i'$:\n",
    "\n",
    "\\begin{align}\n",
    "D_{n\\times n}=\\left(\\begin{array}{ccccc}\n",
    "d_{11} &  & \\dots &  & d_{1n}\\\\\n",
    " & \\ddots\\\\\n",
    "\\vdots &  & d_{jj} &  & \\vdots\\\\\n",
    " &  &  & \\ddots\\\\\n",
    "d_{n1} &  & \\dots &  & d_{nn}\n",
    "\\end{array}\\right)\n",
    "    \\end{align}\n",
    "    \n",
    "\n",
    "La mayoría de los algoritmos suponen que la matriz de disimilitud debe ser no negativa y con ceros en la diagonal (es decir que la distancia de un objeto a si mismo es 0).\n",
    "\n",
    "\\begin{align}\n",
    "D_{n\\times n}=\\left(\\begin{array}{ccccc}\n",
    "0 &  & \\dots &  & d_{1n}\\\\\n",
    " & \\ddots\\\\\n",
    "\\vdots &  & 0 &  & \\vdots\\\\\n",
    " &  &  & \\ddots\\\\\n",
    "d_{n1} &  & \\dots &  & 0\n",
    "\\end{array}\\right)\n",
    "    \\end{align}\n",
    "    \n",
    "\n",
    "Esta matriz se puede transformar para que refleje cercanía-similaridad  o distancia-disimilitud simplemente aplicando una transformación monótona creciente (o decreciente). Adicionalmente es usual suponer que la matriz es simétrica, por lo qué si originalmente esta no lo es, se puede aplicar la transformación $(D+D^T)/2$.\n",
    "\n",
    "Cabe notar que en algunas aplicaciones como en las ciencias sociales, esta matriz es a veces remplazada por una que contiene entradas subjetivas que reflejan afinidad. Por ejemplo, en experimentos de ciencias sociales, a los participantes se les pide que juzguen qué tan similares son dos objetos. En estos casos hay que ser cuidadoso, pues este tipo de medidas rara vez constituyen una medida de distancia pues no satisfacen la desigualdad triangular $d_{ii'}\\leq d_{ik} + d_{i'k}$, para todo $k\\in\\{1, \\cdots, N\\}$. Por tal motivo, algunos algoritmos no permiten usar este tipo de matrices."
   ]
  },
  {
   "cell_type": "markdown",
   "id": "230f7a08",
   "metadata": {},
   "source": [
    "En `Python` para calcular la matriz necesitamos de `scipy` `distance_matrix`, que por defecto calcula la distancia de Minkowski. Sin embargo, si elegimos $p=2$ esta distancia coincide con la euclidiana:"
   ]
  },
  {
   "cell_type": "code",
   "execution_count": 11,
   "id": "worse-charger",
   "metadata": {},
   "outputs": [
    {
     "data": {
      "text/html": [
       "<div>\n",
       "<style scoped>\n",
       "    .dataframe tbody tr th:only-of-type {\n",
       "        vertical-align: middle;\n",
       "    }\n",
       "\n",
       "    .dataframe tbody tr th {\n",
       "        vertical-align: top;\n",
       "    }\n",
       "\n",
       "    .dataframe thead th {\n",
       "        text-align: right;\n",
       "    }\n",
       "</style>\n",
       "<table border=\"1\" class=\"dataframe\">\n",
       "  <thead>\n",
       "    <tr style=\"text-align: right;\">\n",
       "      <th></th>\n",
       "      <th>0</th>\n",
       "      <th>1</th>\n",
       "      <th>2</th>\n",
       "      <th>3</th>\n",
       "      <th>4</th>\n",
       "    </tr>\n",
       "  </thead>\n",
       "  <tbody>\n",
       "    <tr>\n",
       "      <th>0</th>\n",
       "      <td>0.000000</td>\n",
       "      <td>73900.000108</td>\n",
       "      <td>20100.045995</td>\n",
       "      <td>21500.049209</td>\n",
       "      <td>13500.071704</td>\n",
       "    </tr>\n",
       "    <tr>\n",
       "      <th>1</th>\n",
       "      <td>73900.000108</td>\n",
       "      <td>0.000000</td>\n",
       "      <td>94000.011750</td>\n",
       "      <td>52400.023855</td>\n",
       "      <td>87400.013181</td>\n",
       "    </tr>\n",
       "    <tr>\n",
       "      <th>2</th>\n",
       "      <td>20100.045995</td>\n",
       "      <td>94000.011750</td>\n",
       "      <td>0.000000</td>\n",
       "      <td>41600.000108</td>\n",
       "      <td>6600.000076</td>\n",
       "    </tr>\n",
       "    <tr>\n",
       "      <th>3</th>\n",
       "      <td>21500.049209</td>\n",
       "      <td>52400.023855</td>\n",
       "      <td>41600.000108</td>\n",
       "      <td>0.000000</td>\n",
       "      <td>35000.000057</td>\n",
       "    </tr>\n",
       "    <tr>\n",
       "      <th>4</th>\n",
       "      <td>13500.071704</td>\n",
       "      <td>87400.013181</td>\n",
       "      <td>6600.000076</td>\n",
       "      <td>35000.000057</td>\n",
       "      <td>0.000000</td>\n",
       "    </tr>\n",
       "  </tbody>\n",
       "</table>\n",
       "</div>"
      ],
      "text/plain": [
       "              0             1             2             3             4\n",
       "0      0.000000  73900.000108  20100.045995  21500.049209  13500.071704\n",
       "1  73900.000108      0.000000  94000.011750  52400.023855  87400.013181\n",
       "2  20100.045995  94000.011750      0.000000  41600.000108   6600.000076\n",
       "3  21500.049209  52400.023855  41600.000108      0.000000  35000.000057\n",
       "4  13500.071704  87400.013181   6600.000076  35000.000057      0.000000"
      ]
     },
     "execution_count": 11,
     "metadata": {},
     "output_type": "execute_result"
    }
   ],
   "source": [
    "import numpy as np\n",
    "from scipy.spatial import distance_matrix\n",
    "\n",
    "# Seleccionamos solo las columnas que sean numéricas\n",
    "datos_numericos = datos.select_dtypes(np.number)\n",
    "\n",
    "# Creamos la matriz de distancias escogiendo p = 2, el cual convierte \n",
    "# la distancia Minkowski en la distancia euclidiana\n",
    "dist = distance_matrix(datos_numericos, datos_numericos, p = 2)\n",
    "\n",
    "# Para visualizar mejor la matriz de distancia la convertimos en un dataframe\n",
    "pd.DataFrame(dist)"
   ]
  },
  {
   "cell_type": "markdown",
   "id": "retained-layer",
   "metadata": {},
   "source": [
    "#### Matrices de distancia o disimilitud con datos estandarizados."
   ]
  },
  {
   "cell_type": "markdown",
   "id": "virtual-university",
   "metadata": {},
   "source": [
    "Un problema de la distancia euclidiana, como medida de similaridad, es su dependencia de las diferentes escalas en que estén medidas las variables. Escalas y rangos de variación diferentes pueden afectar al análisis de clusters. Este problema se soluciona si en vez de calcular la distancia euclidiana con las unidades originales, se calcula con puntuaciones estandarizadas. \n",
    "\n",
    "Para ver cómo cambia el cálculo anterior estandaricemos los datos:\n"
   ]
  },
  {
   "cell_type": "code",
   "execution_count": 12,
   "id": "civic-offering",
   "metadata": {
    "scrolled": true
   },
   "outputs": [
    {
     "data": {
      "text/html": [
       "<div>\n",
       "<style scoped>\n",
       "    .dataframe tbody tr th:only-of-type {\n",
       "        vertical-align: middle;\n",
       "    }\n",
       "\n",
       "    .dataframe tbody tr th {\n",
       "        vertical-align: top;\n",
       "    }\n",
       "\n",
       "    .dataframe thead th {\n",
       "        text-align: right;\n",
       "    }\n",
       "</style>\n",
       "<table border=\"1\" class=\"dataframe\">\n",
       "  <thead>\n",
       "    <tr style=\"text-align: right;\">\n",
       "      <th></th>\n",
       "      <th>Edad</th>\n",
       "      <th>Ingresos</th>\n",
       "    </tr>\n",
       "  </thead>\n",
       "  <tbody>\n",
       "    <tr>\n",
       "      <th>0</th>\n",
       "      <td>1.014146</td>\n",
       "      <td>-0.326115</td>\n",
       "    </tr>\n",
       "    <tr>\n",
       "      <th>1</th>\n",
       "      <td>1.171378</td>\n",
       "      <td>1.623714</td>\n",
       "    </tr>\n",
       "    <tr>\n",
       "      <th>2</th>\n",
       "      <td>-0.676097</td>\n",
       "      <td>-0.856447</td>\n",
       "    </tr>\n",
       "    <tr>\n",
       "      <th>3</th>\n",
       "      <td>-0.794021</td>\n",
       "      <td>0.241156</td>\n",
       "    </tr>\n",
       "    <tr>\n",
       "      <th>4</th>\n",
       "      <td>-0.715405</td>\n",
       "      <td>-0.682308</td>\n",
       "    </tr>\n",
       "  </tbody>\n",
       "</table>\n",
       "</div>"
      ],
      "text/plain": [
       "       Edad  Ingresos\n",
       "0  1.014146 -0.326115\n",
       "1  1.171378  1.623714\n",
       "2 -0.676097 -0.856447\n",
       "3 -0.794021  0.241156\n",
       "4 -0.715405 -0.682308"
      ]
     },
     "execution_count": 12,
     "metadata": {},
     "output_type": "execute_result"
    }
   ],
   "source": [
    "mu = datos_numericos.mean()\n",
    "sigma = datos_numericos.std()\n",
    "Z = (datos_numericos - mu)/sigma\n",
    "Z"
   ]
  },
  {
   "cell_type": "code",
   "execution_count": 13,
   "id": "interior-science",
   "metadata": {},
   "outputs": [
    {
     "data": {
      "text/html": [
       "<div>\n",
       "<style scoped>\n",
       "    .dataframe tbody tr th:only-of-type {\n",
       "        vertical-align: middle;\n",
       "    }\n",
       "\n",
       "    .dataframe tbody tr th {\n",
       "        vertical-align: top;\n",
       "    }\n",
       "\n",
       "    .dataframe thead th {\n",
       "        text-align: right;\n",
       "    }\n",
       "</style>\n",
       "<table border=\"1\" class=\"dataframe\">\n",
       "  <thead>\n",
       "    <tr style=\"text-align: right;\">\n",
       "      <th></th>\n",
       "      <th>0</th>\n",
       "      <th>1</th>\n",
       "      <th>2</th>\n",
       "      <th>3</th>\n",
       "      <th>4</th>\n",
       "    </tr>\n",
       "  </thead>\n",
       "  <tbody>\n",
       "    <tr>\n",
       "      <th>0</th>\n",
       "      <td>0.000000</td>\n",
       "      <td>1.956158</td>\n",
       "      <td>1.771489</td>\n",
       "      <td>1.895063</td>\n",
       "      <td>1.765849</td>\n",
       "    </tr>\n",
       "    <tr>\n",
       "      <th>1</th>\n",
       "      <td>1.956158</td>\n",
       "      <td>0.000000</td>\n",
       "      <td>3.092630</td>\n",
       "      <td>2.402969</td>\n",
       "      <td>2.979545</td>\n",
       "    </tr>\n",
       "    <tr>\n",
       "      <th>2</th>\n",
       "      <td>1.771489</td>\n",
       "      <td>3.092630</td>\n",
       "      <td>0.000000</td>\n",
       "      <td>1.103920</td>\n",
       "      <td>0.178520</td>\n",
       "    </tr>\n",
       "    <tr>\n",
       "      <th>3</th>\n",
       "      <td>1.895063</td>\n",
       "      <td>2.402969</td>\n",
       "      <td>1.103920</td>\n",
       "      <td>0.000000</td>\n",
       "      <td>0.926805</td>\n",
       "    </tr>\n",
       "    <tr>\n",
       "      <th>4</th>\n",
       "      <td>1.765849</td>\n",
       "      <td>2.979545</td>\n",
       "      <td>0.178520</td>\n",
       "      <td>0.926805</td>\n",
       "      <td>0.000000</td>\n",
       "    </tr>\n",
       "  </tbody>\n",
       "</table>\n",
       "</div>"
      ],
      "text/plain": [
       "          0         1         2         3         4\n",
       "0  0.000000  1.956158  1.771489  1.895063  1.765849\n",
       "1  1.956158  0.000000  3.092630  2.402969  2.979545\n",
       "2  1.771489  3.092630  0.000000  1.103920  0.178520\n",
       "3  1.895063  2.402969  1.103920  0.000000  0.926805\n",
       "4  1.765849  2.979545  0.178520  0.926805  0.000000"
      ]
     },
     "execution_count": 13,
     "metadata": {},
     "output_type": "execute_result"
    }
   ],
   "source": [
    "dist = distance_matrix(Z, Z, p = 2)\n",
    "pd.DataFrame(dist)"
   ]
  },
  {
   "cell_type": "markdown",
   "id": "general-meter",
   "metadata": {},
   "source": [
    "Note que cuando usamos los datos sin estandarizar, la observación más cercana a la primera persona es la quinta. Sin embargo, una vez normalizamos nuestras variables, encontramos que la tercera observación es la más cercana a la primera persona. Esto sucede porque cuando no escalamos nuestras variables, aquellas como la edad aportan muy poco a la distancia en comparación a otras variables como ingreso que tienden a estar en unidades mayores. Esta diferencia será importante al momento de comparar las distancias entre las distintas observaciones y es una decisión subjetiva que deberá tenerse en cuenta."
   ]
  },
  {
   "cell_type": "markdown",
   "id": "innovative-recognition",
   "metadata": {},
   "source": [
    "#### Matrices de proximidad o disimilitud con datos mixtos.\n",
    "\n",
    "Anteriormente mencionamos que cuando tenemos matrices con datos mixtos como los datos de ejemplo, se puede aplicar la distancia de Gower: "
   ]
  },
  {
   "cell_type": "code",
   "execution_count": 14,
   "id": "boolean-flood",
   "metadata": {},
   "outputs": [
    {
     "data": {
      "text/html": [
       "<div>\n",
       "<style scoped>\n",
       "    .dataframe tbody tr th:only-of-type {\n",
       "        vertical-align: middle;\n",
       "    }\n",
       "\n",
       "    .dataframe tbody tr th {\n",
       "        vertical-align: top;\n",
       "    }\n",
       "\n",
       "    .dataframe thead th {\n",
       "        text-align: right;\n",
       "    }\n",
       "</style>\n",
       "<table border=\"1\" class=\"dataframe\">\n",
       "  <thead>\n",
       "    <tr style=\"text-align: right;\">\n",
       "      <th></th>\n",
       "      <th>Sexo</th>\n",
       "      <th>Edad</th>\n",
       "      <th>Educacion</th>\n",
       "      <th>Ingresos</th>\n",
       "    </tr>\n",
       "  </thead>\n",
       "  <tbody>\n",
       "    <tr>\n",
       "      <th>0</th>\n",
       "      <td>Hombre</td>\n",
       "      <td>66</td>\n",
       "      <td>Secundario</td>\n",
       "      <td>52500</td>\n",
       "    </tr>\n",
       "    <tr>\n",
       "      <th>1</th>\n",
       "      <td>Hombre</td>\n",
       "      <td>70</td>\n",
       "      <td>Secundario</td>\n",
       "      <td>126400</td>\n",
       "    </tr>\n",
       "    <tr>\n",
       "      <th>2</th>\n",
       "      <td>Mujer</td>\n",
       "      <td>23</td>\n",
       "      <td>Primario</td>\n",
       "      <td>32400</td>\n",
       "    </tr>\n",
       "    <tr>\n",
       "      <th>3</th>\n",
       "      <td>Mujer</td>\n",
       "      <td>20</td>\n",
       "      <td>Universitario</td>\n",
       "      <td>74000</td>\n",
       "    </tr>\n",
       "    <tr>\n",
       "      <th>4</th>\n",
       "      <td>Hombre</td>\n",
       "      <td>22</td>\n",
       "      <td>Terciario</td>\n",
       "      <td>39000</td>\n",
       "    </tr>\n",
       "  </tbody>\n",
       "</table>\n",
       "</div>"
      ],
      "text/plain": [
       "     Sexo  Edad      Educacion  Ingresos\n",
       "0  Hombre    66     Secundario     52500\n",
       "1  Hombre    70     Secundario    126400\n",
       "2   Mujer    23       Primario     32400\n",
       "3   Mujer    20  Universitario     74000\n",
       "4  Hombre    22      Terciario     39000"
      ]
     },
     "execution_count": 14,
     "metadata": {},
     "output_type": "execute_result"
    }
   ],
   "source": [
    "datos"
   ]
  },
  {
   "cell_type": "markdown",
   "id": "94944895",
   "metadata": {},
   "source": [
    "En `Python` lo hacemos utilizando la libreria `gower`:"
   ]
  },
  {
   "cell_type": "code",
   "execution_count": 15,
   "id": "eastern-singles",
   "metadata": {
    "scrolled": true
   },
   "outputs": [
    {
     "data": {
      "text/html": [
       "<div>\n",
       "<style scoped>\n",
       "    .dataframe tbody tr th:only-of-type {\n",
       "        vertical-align: middle;\n",
       "    }\n",
       "\n",
       "    .dataframe tbody tr th {\n",
       "        vertical-align: top;\n",
       "    }\n",
       "\n",
       "    .dataframe thead th {\n",
       "        text-align: right;\n",
       "    }\n",
       "</style>\n",
       "<table border=\"1\" class=\"dataframe\">\n",
       "  <thead>\n",
       "    <tr style=\"text-align: right;\">\n",
       "      <th></th>\n",
       "      <th>0</th>\n",
       "      <th>1</th>\n",
       "      <th>2</th>\n",
       "      <th>3</th>\n",
       "      <th>4</th>\n",
       "    </tr>\n",
       "  </thead>\n",
       "  <tbody>\n",
       "    <tr>\n",
       "      <th>0</th>\n",
       "      <td>0.000000</td>\n",
       "      <td>0.216543</td>\n",
       "      <td>0.768457</td>\n",
       "      <td>0.787181</td>\n",
       "      <td>0.505904</td>\n",
       "    </tr>\n",
       "    <tr>\n",
       "      <th>1</th>\n",
       "      <td>0.216543</td>\n",
       "      <td>0.000000</td>\n",
       "      <td>0.985000</td>\n",
       "      <td>0.889362</td>\n",
       "      <td>0.722447</td>\n",
       "    </tr>\n",
       "    <tr>\n",
       "      <th>2</th>\n",
       "      <td>0.768457</td>\n",
       "      <td>0.985000</td>\n",
       "      <td>0.000000</td>\n",
       "      <td>0.375638</td>\n",
       "      <td>0.522553</td>\n",
       "    </tr>\n",
       "    <tr>\n",
       "      <th>3</th>\n",
       "      <td>0.787181</td>\n",
       "      <td>0.889362</td>\n",
       "      <td>0.375638</td>\n",
       "      <td>0.000000</td>\n",
       "      <td>0.603085</td>\n",
       "    </tr>\n",
       "    <tr>\n",
       "      <th>4</th>\n",
       "      <td>0.505904</td>\n",
       "      <td>0.722447</td>\n",
       "      <td>0.522553</td>\n",
       "      <td>0.603085</td>\n",
       "      <td>0.000000</td>\n",
       "    </tr>\n",
       "  </tbody>\n",
       "</table>\n",
       "</div>"
      ],
      "text/plain": [
       "          0         1         2         3         4\n",
       "0  0.000000  0.216543  0.768457  0.787181  0.505904\n",
       "1  0.216543  0.000000  0.985000  0.889362  0.722447\n",
       "2  0.768457  0.985000  0.000000  0.375638  0.522553\n",
       "3  0.787181  0.889362  0.375638  0.000000  0.603085\n",
       "4  0.505904  0.722447  0.522553  0.603085  0.000000"
      ]
     },
     "execution_count": 15,
     "metadata": {},
     "output_type": "execute_result"
    }
   ],
   "source": [
    "import gower \n",
    "\n",
    "dist_g = gower.gower_matrix(datos)\n",
    "pd.DataFrame(dist_g)"
   ]
  },
  {
   "cell_type": "markdown",
   "id": "intense-dancing",
   "metadata": {},
   "source": [
    "Note que una vez tenemos en cuenta los diferentes tipos de variables, la distancia entre las diferentes personas de la muestra cambia. Por ejemplo, cuando solo tenemos la distancia euclidiana la persona 1 y la persona dos son bastantes disimiles pues la segunda tiene más del doble de ingresos que la primera. Sin embargo, cuando usamos la distancia de Gower podemos tener en cuenta otras variables como el sexo y la educación en las cuales ambos sujetos son idénticos, por lo que la distancia entre ambos no debería ser tan lejana."
   ]
  },
  {
   "cell_type": "markdown",
   "id": "western-consequence",
   "metadata": {},
   "source": [
    "## Análisis de clusters y otras formas de denominarlo.\n",
    "\n",
    "Antes de finalizar este *cuaderno* es importante notar que en la literatura en español se suele encontrar el análisis de clusters con otras denominaciones como: segmentación de datos, taxonomía numérica, análisis tipológico, clasificación automática, entre otros. En este curso nos referiremos a análisis de clusters puesto que no sólo es la traducción directa del término *cluster analysis* con el que se lo suele encontrar en la literatura de aprendizaje no supervisado, sino también el nombre con el que se suele encontrar en la mayoría de los paquetes de software."
   ]
  },
  {
   "cell_type": "markdown",
   "id": "billion-underwear",
   "metadata": {},
   "source": [
    "## Referencias\n",
    "\n",
    "\n",
    "-  Hastie, T., Tibshirani, R., & Friedman, J. H. (2001). The elements of statistical learning: Data mining, inference, and prediction. New York: Springer.\n",
    "\n",
    "- Kaufman, L. & Rousseeuw, P. (1990). Finding Groups in Data: An Introduction to Cluster Analysis, Wiley, New York.\n",
    "\n",
    "- Tsai, K. T. (2021). Machine Learning for Knowledge Discovery with R: Methodologies for Modeling, Inference, and Prediction.\n",
    "\n",
    "- Macnaughton Smith, P., Williams, W., Dale, M. & Mockett, L. (1965). Dissimilarity analysis: a new technique of hierarchical subdivision, Nature 202: 1034–1035.\n",
    "\n",
    "- Pérez López, C. (2004). Técnicas de análisis multivariante de datos. Aplicaciones con SPSS, Madrid, Universidad Complutense de Madrid, 121-154.\n",
    "\n",
    "- [Scikit-learn: Machine Learning in Python](https://scikit-learn.org/stable/auto_examples/cluster/plot_linkage_comparison.html#sphx-glr-auto-examples-cluster-plot-linkage-comparison-py), Pedregosa et al., JMLR 12, pp. 2825-2830, 2011. \n",
    "\n",
    "- Taddy, Matt; Taddy, Matt. Business Data Science: Combining Machine Learning and Economics to Optimize, Automate, and Accelerate Business Decisions (p. 202). McGraw-Hill Education.\n",
    "\n"
   ]
  }
 ],
 "metadata": {
  "kernelspec": {
   "display_name": "Python 3 (ipykernel)",
   "language": "python",
   "name": "python3"
  },
  "language_info": {
   "codemirror_mode": {
    "name": "ipython",
    "version": 3
   },
   "file_extension": ".py",
   "mimetype": "text/x-python",
   "name": "python",
   "nbconvert_exporter": "python",
   "pygments_lexer": "ipython3",
   "version": "3.9.7"
  },
  "toc": {
   "base_numbering": 1,
   "nav_menu": {},
   "number_sections": true,
   "sideBar": true,
   "skip_h1_title": false,
   "title_cell": "Table of Contents",
   "title_sidebar": "Contents",
   "toc_cell": false,
   "toc_position": {
    "height": "calc(100% - 180px)",
    "left": "10px",
    "top": "150px",
    "width": "440.2px"
   },
   "toc_section_display": true,
   "toc_window_display": true
  }
 },
 "nbformat": 4,
 "nbformat_minor": 5
}
