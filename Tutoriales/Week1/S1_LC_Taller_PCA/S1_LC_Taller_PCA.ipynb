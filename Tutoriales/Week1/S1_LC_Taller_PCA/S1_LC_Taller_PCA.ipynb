{
 "cells": [
  {
   "cell_type": "markdown",
   "id": "cfa1ad69",
   "metadata": {},
   "source": [
    "<div >\n",
    "<img src = \"figs/ans_banner_1920x200.png\" />\n",
    "</div>"
   ]
  },
  {
   "cell_type": "markdown",
   "id": "d71c24d0",
   "metadata": {},
   "source": [
    "# Caso-taller:  PCA para estudiar la dimensionalidad de la calidad de vida en las ciudades "
   ]
  },
  {
   "cell_type": "markdown",
   "id": "a407b9db",
   "metadata": {},
   "source": [
    "En este caso-taller vamos a aplicar PCA en el estudio de calidad de vida en diferentes ciudades. Para ello, haremos uso de los datos que surgen del Almanaque Calificado de Lugares. En este Almanaque Boyer y Savageau calificaron 329 ciudades de acuerdo con los siguientes nueve criterios:\n",
    "\n",
    "   - Clima y Terreno\n",
    "   - Alojamiento\n",
    "   - Cuidado de la salud y el medio ambiente\n",
    "   - Crimen\n",
    "   - Transporte\n",
    "   - Educación\n",
    "   - Artes\n",
    "   - Recreación\n",
    "   - Economía \n",
    "\n",
    "\n",
    "Con tantas variables disponibles, la matriz de dispersión puede resultar muy grande para estudiarla e interpretarla adecuadamente. Habría demasiadas correlaciones por pares entre las variables para considerar. Para interpretar los datos de una forma más significativa es necesario reducir el número de variables a unas pocas dimensiones, y para ello en este ejercicio recurriremos al análisis de componentes principales. \n",
    " "
   ]
  },
  {
   "cell_type": "markdown",
   "id": "9900e1d1",
   "metadata": {},
   "source": [
    "## Instrucciones generales"
   ]
  },
  {
   "cell_type": "markdown",
   "id": "711c5478",
   "metadata": {},
   "source": [
    "1. Para desarrollar el *cuaderno* primero debe descargarlo junto al archivo de soporte.\n",
    "\n",
    "2. Para responder cada inciso deberá utilizar el espacio debidamente especificado.\n",
    "\n",
    "3. La actividad será calificada sólo si sube el *cuaderno* de jupyter notebook con extensión `.ipynb` en la actividad designada como \"entrega calificada por el personal\".\n",
    "\n",
    "4. El archivo entregado debe poder ser ejecutado localmente por el tutor. Sea cuidadoso con la especificación de la ubicación de los archivos de soporte, guarde la carpeta de datos en la misma ruta de acceso del cuaderno, por ejemplo: `data/archivo_de_soporte.csv`."
   ]
  },
  {
   "cell_type": "markdown",
   "id": "a17245dd",
   "metadata": {},
   "source": [
    "## Desarrollo\n"
   ]
  },
  {
   "cell_type": "markdown",
   "id": "6e67ec87",
   "metadata": {},
   "source": [
    "### 1. Carga de datos\n",
    "\n",
    "En la carpeta `data` se encuentra el archivo `lugares.csv` cargue estos datos en su *cuaderno*."
   ]
  },
  {
   "cell_type": "code",
   "execution_count": 1,
   "id": "6dab6385",
   "metadata": {},
   "outputs": [],
   "source": [
    "# Utilice este espacio para escribir el código."
   ]
  },
  {
   "cell_type": "raw",
   "id": "ff18742d",
   "metadata": {},
   "source": [
    "(Utilice este espacio para describir su procedimiento."
   ]
  },
  {
   "cell_type": "markdown",
   "id": "d850a898",
   "metadata": {},
   "source": [
    "### 2.  Análisis descriptivo de las variables. \n",
    "\n",
    "Para el análisis descriptivo haga uso de correlogramas, histogramas y estadísticas descriptivas. Indique además cuantas gráficas de dispersión bivariadas debería examinar con este número de variables. Tenga en cuenta que para las variables, a excepción de la alojamiento y crimen, cuanto mayor sea el puntaje, mejor. Por el contrario; para alojamiento y crimen, mientras más bajo sea el puntaje, mejor. También, mientras algunas comunidades podrían calificar mejor en las artes, otras podrían calificar mejor en otras áreas como tener una tasa de criminalidad más baja y buenas oportunidades educativas."
   ]
  },
  {
   "cell_type": "code",
   "execution_count": 2,
   "id": "fff95b06",
   "metadata": {},
   "outputs": [],
   "source": [
    "# Utilice este espacio para escribir el código."
   ]
  },
  {
   "cell_type": "markdown",
   "id": "f43d4ce5",
   "metadata": {},
   "source": [
    "(Utilice este espacio para describir el procedimiento, análisis y conclusiones)."
   ]
  },
  {
   "cell_type": "markdown",
   "id": "75e1819d",
   "metadata": {},
   "source": [
    "### 3.  Cálculo y selección de componentes principales.\n",
    "\n",
    "Utilizando Álgebra Lineal, calcule los eigen valores y los eigen vectores. Explique la conexión  entre los eigen valores, los eigen vectores, y los componentes principales. Examine los valores propios para determinar cuántos componentes principales se deben considerar. Explique el criterio que utilizó para la elección y justifique su respuesta."
   ]
  },
  {
   "cell_type": "code",
   "execution_count": 3,
   "id": "bfca19e4",
   "metadata": {},
   "outputs": [],
   "source": [
    "# Utilice este espacio para escribir el código."
   ]
  },
  {
   "cell_type": "markdown",
   "id": "a804130c",
   "metadata": {},
   "source": [
    "(Utilice este espacio para describir el procedimiento, análisis, y conclusiones)."
   ]
  },
  {
   "cell_type": "markdown",
   "id": "4cf51300",
   "metadata": {},
   "source": [
    "### 4.  Interpretación de los componentes principales. \n",
    "\n",
    "Logró reducir la dimensión en el ejercicio anterior? Si lo hizo, los pesos obtenidos pueden identificar dimensiones menores de los datos? Dé una interpretación a estas dimensiones, para ello puede utilizar gráficas (ej. `biplot`), tablas, etc."
   ]
  },
  {
   "cell_type": "code",
   "execution_count": 4,
   "id": "b9218fae",
   "metadata": {},
   "outputs": [],
   "source": [
    "# Utilice este espacio para escribir el código."
   ]
  },
  {
   "cell_type": "markdown",
   "id": "ce8503c4",
   "metadata": {},
   "source": [
    "(Utilice este espacio para describir el procedimiento, análisis, y conclusiones)."
   ]
  },
  {
   "cell_type": "markdown",
   "id": "1bfaf887",
   "metadata": {},
   "source": [
    "### 5.   Detección de ciudades inusuales.\n",
    "\n",
    "A partir de los componentes seleccionados, idintifique si existen ciudades inusuales o átipicas. Explique claramente qué procedimiento utilizó para identificarlas e interprete los resultados incluyendo qué entiende por ciudad inusual o atípica."
   ]
  },
  {
   "cell_type": "code",
   "execution_count": 5,
   "id": "1fcc6180",
   "metadata": {},
   "outputs": [],
   "source": [
    "# Utilice este espacio para escribir el código."
   ]
  },
  {
   "cell_type": "markdown",
   "id": "9b57e640",
   "metadata": {},
   "source": [
    "(Utilice este espacio para describir el procedimiento, análisis, y conclusiones)."
   ]
  },
  {
   "cell_type": "markdown",
   "id": "88ca4b18",
   "metadata": {},
   "source": [
    "### 6.   Robustez de resultados: Estandarizando los datos.\n",
    "\n",
    "Repita los pasos anteriores con los datos estandarizados. Compare los resultados que obtuvo previo a, y luego de estandarizar los datos. Los resultados cambian significativamente? Justifique su respuesta. (Nota en este punto del ejercicio puede utilizar la función `PCA` de la libreria `sklearn`)"
   ]
  },
  {
   "cell_type": "code",
   "execution_count": 6,
   "id": "cebb8303",
   "metadata": {},
   "outputs": [],
   "source": [
    "# Utilice este espacio para escribir el código."
   ]
  },
  {
   "cell_type": "markdown",
   "id": "649026cc",
   "metadata": {},
   "source": [
    "(Utilice este espacio para describir el procedimiento, análisis, y conclusiones)."
   ]
  }
 ],
 "metadata": {
  "kernelspec": {
   "display_name": "Python 3 (ipykernel)",
   "language": "python",
   "name": "python3"
  },
  "language_info": {
   "codemirror_mode": {
    "name": "ipython",
    "version": 3
   },
   "file_extension": ".py",
   "mimetype": "text/x-python",
   "name": "python",
   "nbconvert_exporter": "python",
   "pygments_lexer": "ipython3",
   "version": "3.9.12"
  },
  "toc": {
   "base_numbering": 1,
   "nav_menu": {},
   "number_sections": true,
   "sideBar": true,
   "skip_h1_title": false,
   "title_cell": "Table of Contents",
   "title_sidebar": "Contents",
   "toc_cell": false,
   "toc_position": {},
   "toc_section_display": true,
   "toc_window_display": false
  }
 },
 "nbformat": 4,
 "nbformat_minor": 5
}
