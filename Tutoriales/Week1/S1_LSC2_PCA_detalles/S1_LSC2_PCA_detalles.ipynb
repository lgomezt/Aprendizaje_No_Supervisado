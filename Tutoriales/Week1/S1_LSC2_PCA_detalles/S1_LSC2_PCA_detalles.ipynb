{
 "cells": [
  {
   "cell_type": "markdown",
   "metadata": {},
   "source": [
    "<div >\n",
    "<img src = \"figs/ans_banner_1920x200.png\" />\n",
    "</div>"
   ]
  },
  {
   "cell_type": "markdown",
   "metadata": {},
   "source": [
    "# Análisis de Componentes Principales. Detalles sobre su Implementación."
   ]
  },
  {
   "cell_type": "markdown",
   "metadata": {},
   "source": [
    "En este *cuaderno* profundizará en el estudido el análisis de componentes principales y aprenderá algunos aspectos relevantes sobre su implementación\n",
    "\n",
    "**NO** es necesario editar el archivo o hacer una entrega. Los ejemplos contienen celdas con código ejecutable (`en gris`), que podrá modificar libremente. Esta puede ser una buena forma de aprender nuevas funcionalidades del *cuaderno*, o experimentar variaciones en los códigos de ejemplo."
   ]
  },
  {
   "cell_type": "markdown",
   "metadata": {},
   "source": [
    "## Escalar las variables\n",
    "\n",
    "En los ejemplos del cuaderno de *Fundamentos Teóricos* utilizamos datos que estaban estandarizados, es decir, recentrados para tener media cero y escalados para tener varianza uno.  Desde un punto estrictamente matemático no hay nada intrínsecamente incorrecto en hacer combinaciones lineales de variables con diferentes unidades de medida. Sin embargo, cuando usamos PCA buscamos maximizar varianza y la varianza se ve afectada por las unidades de medida. Esto implica que los componentes principales basados en la matriz de covarianza $S$ van a cambiar si las unidades de medida de una o más variables cambian. Para que esto no suceda, es práctica habitual  estandarizar las variables. Es decir, cada valor de $X$ es recentrado y dividio por la desviación estándar:\n",
    "\n",
    "\\begin{align}\n",
    "z_{ij} = \\frac{x_{ij}-\\bar{x_j}}{s_j}\n",
    "\\end{align}\n",
    "\n",
    "donde $\\bar{x_j}$ es la media y ${s_j}$ es el desvio estándar de la columna $j$. Entonces, la matriz de datos iniciales $X$ es remplazada por la matriz de datos estandarizados $Z$. Notemos también que al estandarizar la matriz de datos, la matriz de covariaza $S$ es simplemente la matriz de correlación de los datos original. Esto a veces en la literatura se lo conoce como la matriz de correlación de PCA.\n",
    "\n",
    "Esto contrasta con otras técnicas de aprendizaje supervisado como la regresión lineal, donde escalar las variables no tiene ningún efecto. Si multiplicamos una variable por $\\frac{1}{\\alpha}$, los coeficentes estarán multiplicados por $\\alpha$, no teniendo un efecto en el modelo obtenido.\n",
    "\n",
    "Para ilustrar cómo se estandariza en `Python`, vamos a utilizar los datos de la  Encuesta Nacional de Presupuestos de los Hogares (ENPH) de Colombia, realizada por el DANE en 2017. Los datos contienen información sobre el gastos promedio en distintos rubros para 38 ciudades colombianas."
   ]
  },
  {
   "cell_type": "code",
   "execution_count": 14,
   "metadata": {},
   "outputs": [
    {
     "data": {
      "text/html": [
       "<div>\n",
       "<style scoped>\n",
       "    .dataframe tbody tr th:only-of-type {\n",
       "        vertical-align: middle;\n",
       "    }\n",
       "\n",
       "    .dataframe tbody tr th {\n",
       "        vertical-align: top;\n",
       "    }\n",
       "\n",
       "    .dataframe thead th {\n",
       "        text-align: right;\n",
       "    }\n",
       "</style>\n",
       "<table border=\"1\" class=\"dataframe\">\n",
       "  <thead>\n",
       "    <tr style=\"text-align: right;\">\n",
       "      <th></th>\n",
       "      <th>Alimentos y bebidas no alcohólicas</th>\n",
       "      <th>Bebidas alcohólicas y tabaco</th>\n",
       "      <th>Prendas de vestir y calzado</th>\n",
       "      <th>Alojamiento, agua, electricidad, gas y otros combustibles</th>\n",
       "      <th>Muebles, artículos para el hogar y para la conservación ordinaria del hogar</th>\n",
       "      <th>Salud</th>\n",
       "      <th>Transporte</th>\n",
       "      <th>Información y comunicación</th>\n",
       "      <th>Recreación y cultura</th>\n",
       "      <th>Educación</th>\n",
       "      <th>Restaurantes y hoteles</th>\n",
       "      <th>Bienes y servicios diversos</th>\n",
       "    </tr>\n",
       "    <tr>\n",
       "      <th>Ciudad</th>\n",
       "      <th></th>\n",
       "      <th></th>\n",
       "      <th></th>\n",
       "      <th></th>\n",
       "      <th></th>\n",
       "      <th></th>\n",
       "      <th></th>\n",
       "      <th></th>\n",
       "      <th></th>\n",
       "      <th></th>\n",
       "      <th></th>\n",
       "      <th></th>\n",
       "    </tr>\n",
       "  </thead>\n",
       "  <tbody>\n",
       "    <tr>\n",
       "      <th>Arauca</th>\n",
       "      <td>76.532496</td>\n",
       "      <td>11.983778</td>\n",
       "      <td>21.065229</td>\n",
       "      <td>158.952746</td>\n",
       "      <td>15.040745</td>\n",
       "      <td>11.793285</td>\n",
       "      <td>20.656260</td>\n",
       "      <td>20.404561</td>\n",
       "      <td>11.523317</td>\n",
       "      <td>24.240347</td>\n",
       "      <td>44.130546</td>\n",
       "      <td>55.110519</td>\n",
       "    </tr>\n",
       "    <tr>\n",
       "      <th>Armenia</th>\n",
       "      <td>104.227192</td>\n",
       "      <td>18.610392</td>\n",
       "      <td>39.651621</td>\n",
       "      <td>174.252141</td>\n",
       "      <td>26.524739</td>\n",
       "      <td>14.846364</td>\n",
       "      <td>71.426343</td>\n",
       "      <td>30.486730</td>\n",
       "      <td>28.148628</td>\n",
       "      <td>58.902919</td>\n",
       "      <td>62.735795</td>\n",
       "      <td>145.317221</td>\n",
       "    </tr>\n",
       "    <tr>\n",
       "      <th>Barrancabermeja</th>\n",
       "      <td>73.495641</td>\n",
       "      <td>23.511551</td>\n",
       "      <td>25.204020</td>\n",
       "      <td>218.377925</td>\n",
       "      <td>16.637673</td>\n",
       "      <td>8.367648</td>\n",
       "      <td>51.842837</td>\n",
       "      <td>25.653363</td>\n",
       "      <td>12.853022</td>\n",
       "      <td>68.650880</td>\n",
       "      <td>42.090619</td>\n",
       "      <td>58.657609</td>\n",
       "    </tr>\n",
       "    <tr>\n",
       "      <th>Barranquilla</th>\n",
       "      <td>85.059421</td>\n",
       "      <td>16.028608</td>\n",
       "      <td>23.798484</td>\n",
       "      <td>204.792777</td>\n",
       "      <td>20.162867</td>\n",
       "      <td>7.785154</td>\n",
       "      <td>61.043240</td>\n",
       "      <td>24.506067</td>\n",
       "      <td>12.261522</td>\n",
       "      <td>58.348581</td>\n",
       "      <td>54.051667</td>\n",
       "      <td>72.252969</td>\n",
       "    </tr>\n",
       "    <tr>\n",
       "      <th>Bogotá</th>\n",
       "      <td>103.561150</td>\n",
       "      <td>21.839434</td>\n",
       "      <td>42.814236</td>\n",
       "      <td>295.817640</td>\n",
       "      <td>34.168082</td>\n",
       "      <td>27.459289</td>\n",
       "      <td>111.870806</td>\n",
       "      <td>40.657457</td>\n",
       "      <td>36.484350</td>\n",
       "      <td>134.933249</td>\n",
       "      <td>94.643529</td>\n",
       "      <td>236.887545</td>\n",
       "    </tr>\n",
       "  </tbody>\n",
       "</table>\n",
       "</div>"
      ],
      "text/plain": [
       "                 Alimentos y bebidas no alcohólicas  \\\n",
       "Ciudad                                                \n",
       "Arauca                                    76.532496   \n",
       "Armenia                                  104.227192   \n",
       "Barrancabermeja                           73.495641   \n",
       "Barranquilla                              85.059421   \n",
       "Bogotá                                   103.561150   \n",
       "\n",
       "                 Bebidas alcohólicas y tabaco  Prendas de vestir y calzado  \\\n",
       "Ciudad                                                                       \n",
       "Arauca                              11.983778                    21.065229   \n",
       "Armenia                             18.610392                    39.651621   \n",
       "Barrancabermeja                     23.511551                    25.204020   \n",
       "Barranquilla                        16.028608                    23.798484   \n",
       "Bogotá                              21.839434                    42.814236   \n",
       "\n",
       "                 Alojamiento, agua, electricidad, gas y otros combustibles  \\\n",
       "Ciudad                                                                       \n",
       "Arauca                                                  158.952746           \n",
       "Armenia                                                 174.252141           \n",
       "Barrancabermeja                                         218.377925           \n",
       "Barranquilla                                            204.792777           \n",
       "Bogotá                                                  295.817640           \n",
       "\n",
       "                 Muebles, artículos para el hogar y para la conservación ordinaria del hogar  \\\n",
       "Ciudad                                                                                         \n",
       "Arauca                                                   15.040745                             \n",
       "Armenia                                                  26.524739                             \n",
       "Barrancabermeja                                          16.637673                             \n",
       "Barranquilla                                             20.162867                             \n",
       "Bogotá                                                   34.168082                             \n",
       "\n",
       "                     Salud  Transporte  Información y comunicación  \\\n",
       "Ciudad                                                               \n",
       "Arauca           11.793285   20.656260                   20.404561   \n",
       "Armenia          14.846364   71.426343                   30.486730   \n",
       "Barrancabermeja   8.367648   51.842837                   25.653363   \n",
       "Barranquilla      7.785154   61.043240                   24.506067   \n",
       "Bogotá           27.459289  111.870806                   40.657457   \n",
       "\n",
       "                 Recreación y cultura   Educación  Restaurantes y hoteles  \\\n",
       "Ciudad                                                                      \n",
       "Arauca                      11.523317   24.240347               44.130546   \n",
       "Armenia                     28.148628   58.902919               62.735795   \n",
       "Barrancabermeja             12.853022   68.650880               42.090619   \n",
       "Barranquilla                12.261522   58.348581               54.051667   \n",
       "Bogotá                      36.484350  134.933249               94.643529   \n",
       "\n",
       "                 Bienes y servicios diversos  \n",
       "Ciudad                                        \n",
       "Arauca                             55.110519  \n",
       "Armenia                           145.317221  \n",
       "Barrancabermeja                    58.657609  \n",
       "Barranquilla                       72.252969  \n",
       "Bogotá                            236.887545  "
      ]
     },
     "execution_count": 14,
     "metadata": {},
     "output_type": "execute_result"
    }
   ],
   "source": [
    "#Cargamos las librerias a utilizar\n",
    "import pandas as pd\n",
    "import numpy as np\n",
    "\n",
    "# Cargamos y visualizamos la primeras observaciones de los datos\n",
    "X = pd.read_csv('data/gasto_col_2017.csv')\n",
    "X = X.set_index(\"Ciudad\")\n",
    "X.head()\n"
   ]
  },
  {
   "cell_type": "code",
   "execution_count": 15,
   "metadata": {},
   "outputs": [
    {
     "data": {
      "text/html": [
       "<div>\n",
       "<style scoped>\n",
       "    .dataframe tbody tr th:only-of-type {\n",
       "        vertical-align: middle;\n",
       "    }\n",
       "\n",
       "    .dataframe tbody tr th {\n",
       "        vertical-align: top;\n",
       "    }\n",
       "\n",
       "    .dataframe thead th {\n",
       "        text-align: right;\n",
       "    }\n",
       "</style>\n",
       "<table border=\"1\" class=\"dataframe\">\n",
       "  <thead>\n",
       "    <tr style=\"text-align: right;\">\n",
       "      <th></th>\n",
       "      <th>Alimentos y bebidas no alcohólicas</th>\n",
       "      <th>Bebidas alcohólicas y tabaco</th>\n",
       "      <th>Prendas de vestir y calzado</th>\n",
       "      <th>Alojamiento, agua, electricidad, gas y otros combustibles</th>\n",
       "      <th>Muebles, artículos para el hogar y para la conservación ordinaria del hogar</th>\n",
       "      <th>Salud</th>\n",
       "      <th>Transporte</th>\n",
       "      <th>Información y comunicación</th>\n",
       "      <th>Recreación y cultura</th>\n",
       "      <th>Educación</th>\n",
       "      <th>Restaurantes y hoteles</th>\n",
       "      <th>Bienes y servicios diversos</th>\n",
       "    </tr>\n",
       "    <tr>\n",
       "      <th>Ciudad</th>\n",
       "      <th></th>\n",
       "      <th></th>\n",
       "      <th></th>\n",
       "      <th></th>\n",
       "      <th></th>\n",
       "      <th></th>\n",
       "      <th></th>\n",
       "      <th></th>\n",
       "      <th></th>\n",
       "      <th></th>\n",
       "      <th></th>\n",
       "      <th></th>\n",
       "    </tr>\n",
       "  </thead>\n",
       "  <tbody>\n",
       "    <tr>\n",
       "      <th>Arauca</th>\n",
       "      <td>-0.893243</td>\n",
       "      <td>-1.491704</td>\n",
       "      <td>-1.212847</td>\n",
       "      <td>-0.187501</td>\n",
       "      <td>-0.765951</td>\n",
       "      <td>-0.125062</td>\n",
       "      <td>-1.344088</td>\n",
       "      <td>-0.438465</td>\n",
       "      <td>-0.757958</td>\n",
       "      <td>-1.028321</td>\n",
       "      <td>-0.413888</td>\n",
       "      <td>-0.778491</td>\n",
       "    </tr>\n",
       "    <tr>\n",
       "      <th>Armenia</th>\n",
       "      <td>1.411143</td>\n",
       "      <td>-0.317263</td>\n",
       "      <td>1.339782</td>\n",
       "      <td>0.137351</td>\n",
       "      <td>1.208855</td>\n",
       "      <td>0.434314</td>\n",
       "      <td>0.691669</td>\n",
       "      <td>0.965570</td>\n",
       "      <td>1.631818</td>\n",
       "      <td>0.528711</td>\n",
       "      <td>0.552798</td>\n",
       "      <td>1.380602</td>\n",
       "    </tr>\n",
       "    <tr>\n",
       "      <th>Barrancabermeja</th>\n",
       "      <td>-1.145930</td>\n",
       "      <td>0.551373</td>\n",
       "      <td>-0.644432</td>\n",
       "      <td>1.074275</td>\n",
       "      <td>-0.491341</td>\n",
       "      <td>-0.752697</td>\n",
       "      <td>-0.093582</td>\n",
       "      <td>0.292479</td>\n",
       "      <td>-0.566821</td>\n",
       "      <td>0.966586</td>\n",
       "      <td>-0.519878</td>\n",
       "      <td>-0.693592</td>\n",
       "    </tr>\n",
       "    <tr>\n",
       "      <th>Barranquilla</th>\n",
       "      <td>-0.183745</td>\n",
       "      <td>-0.774835</td>\n",
       "      <td>-0.837466</td>\n",
       "      <td>0.785821</td>\n",
       "      <td>0.114857</td>\n",
       "      <td>-0.859420</td>\n",
       "      <td>0.275332</td>\n",
       "      <td>0.132708</td>\n",
       "      <td>-0.651846</td>\n",
       "      <td>0.503810</td>\n",
       "      <td>0.101591</td>\n",
       "      <td>-0.368188</td>\n",
       "    </tr>\n",
       "    <tr>\n",
       "      <th>Bogotá</th>\n",
       "      <td>1.355724</td>\n",
       "      <td>0.255023</td>\n",
       "      <td>1.774131</td>\n",
       "      <td>2.718554</td>\n",
       "      <td>2.523217</td>\n",
       "      <td>2.745217</td>\n",
       "      <td>2.313395</td>\n",
       "      <td>2.381936</td>\n",
       "      <td>2.830021</td>\n",
       "      <td>3.943969</td>\n",
       "      <td>2.210651</td>\n",
       "      <td>3.572333</td>\n",
       "    </tr>\n",
       "  </tbody>\n",
       "</table>\n",
       "</div>"
      ],
      "text/plain": [
       "                 Alimentos y bebidas no alcohólicas  \\\n",
       "Ciudad                                                \n",
       "Arauca                                    -0.893243   \n",
       "Armenia                                    1.411143   \n",
       "Barrancabermeja                           -1.145930   \n",
       "Barranquilla                              -0.183745   \n",
       "Bogotá                                     1.355724   \n",
       "\n",
       "                 Bebidas alcohólicas y tabaco  Prendas de vestir y calzado  \\\n",
       "Ciudad                                                                       \n",
       "Arauca                              -1.491704                    -1.212847   \n",
       "Armenia                             -0.317263                     1.339782   \n",
       "Barrancabermeja                      0.551373                    -0.644432   \n",
       "Barranquilla                        -0.774835                    -0.837466   \n",
       "Bogotá                               0.255023                     1.774131   \n",
       "\n",
       "                 Alojamiento, agua, electricidad, gas y otros combustibles  \\\n",
       "Ciudad                                                                       \n",
       "Arauca                                                   -0.187501           \n",
       "Armenia                                                   0.137351           \n",
       "Barrancabermeja                                           1.074275           \n",
       "Barranquilla                                              0.785821           \n",
       "Bogotá                                                    2.718554           \n",
       "\n",
       "                 Muebles, artículos para el hogar y para la conservación ordinaria del hogar  \\\n",
       "Ciudad                                                                                         \n",
       "Arauca                                                   -0.765951                             \n",
       "Armenia                                                   1.208855                             \n",
       "Barrancabermeja                                          -0.491341                             \n",
       "Barranquilla                                              0.114857                             \n",
       "Bogotá                                                    2.523217                             \n",
       "\n",
       "                    Salud  Transporte  Información y comunicación  \\\n",
       "Ciudad                                                              \n",
       "Arauca          -0.125062   -1.344088                   -0.438465   \n",
       "Armenia          0.434314    0.691669                    0.965570   \n",
       "Barrancabermeja -0.752697   -0.093582                    0.292479   \n",
       "Barranquilla    -0.859420    0.275332                    0.132708   \n",
       "Bogotá           2.745217    2.313395                    2.381936   \n",
       "\n",
       "                 Recreación y cultura  Educación  Restaurantes y hoteles  \\\n",
       "Ciudad                                                                     \n",
       "Arauca                      -0.757958  -1.028321               -0.413888   \n",
       "Armenia                      1.631818   0.528711                0.552798   \n",
       "Barrancabermeja             -0.566821   0.966586               -0.519878   \n",
       "Barranquilla                -0.651846   0.503810                0.101591   \n",
       "Bogotá                       2.830021   3.943969                2.210651   \n",
       "\n",
       "                 Bienes y servicios diversos  \n",
       "Ciudad                                        \n",
       "Arauca                             -0.778491  \n",
       "Armenia                             1.380602  \n",
       "Barrancabermeja                    -0.693592  \n",
       "Barranquilla                       -0.368188  \n",
       "Bogotá                              3.572333  "
      ]
     },
     "execution_count": 15,
     "metadata": {},
     "output_type": "execute_result"
    }
   ],
   "source": [
    "# Estandarizamos los datos\n",
    "mu = X.mean()\n",
    "sigma = X.std()\n",
    "Z = (X - mu)/sigma\n",
    "Z.head()"
   ]
  },
  {
   "cell_type": "markdown",
   "metadata": {},
   "source": [
    "Te invito a comparar estos resultados con los de los datos utilizados en el *cuaderno* de *Fundamentos Teóricos*."
   ]
  },
  {
   "cell_type": "markdown",
   "metadata": {},
   "source": [
    "## Descomposición espectral o eigendecomposición\n",
    "\n",
    "\n",
    "La descomposición espectral o eigendecomposición es una forma de descomponer matrices. Descomponer una matriz significa que queremos encontrar un producto de matrices que sea igual a la matriz inicial. En el caso de la eigendecomposición, descomponemos la matriz inicial en el producto de sus eigenvectores y eigenvalores.\n",
    "\n",
    "Veamos cómo se usan los eigenvectores y eigenvalores para descomponer una matriz. Tomando los eigenvectores de una matriz $A_{m\\times m}$ podemos concatenarlos y colocarlos en una matriz $P$. Entonces $P$ será una matriz cuyas columnas son los eigenvectores de $A$:\n",
    "\n",
    "\\begin{align}\n",
    "A= P\\Lambda P'\n",
    "\\end{align}\n",
    "\n",
    "donde $\\Lambda =diag(\\lambda)$ es una matriz diagonal de los eigenvalores.\n",
    "\n",
    "Es importante notar que esta descomposición sólo es válida para matrices cuadradas, como lo es la matriz de covarianza. Por lo tanto, no puede ser utilizada para matrices no cuadradas. \n",
    "\n",
    "Para ilustrar en `Python` la descomposición usaremos el ejemplo del *cuaderno* de *Fundamentos Teóricos*:\n"
   ]
  },
  {
   "cell_type": "code",
   "execution_count": 16,
   "metadata": {},
   "outputs": [
    {
     "data": {
      "text/html": [
       "<div>\n",
       "<style scoped>\n",
       "    .dataframe tbody tr th:only-of-type {\n",
       "        vertical-align: middle;\n",
       "    }\n",
       "\n",
       "    .dataframe tbody tr th {\n",
       "        vertical-align: top;\n",
       "    }\n",
       "\n",
       "    .dataframe thead th {\n",
       "        text-align: right;\n",
       "    }\n",
       "</style>\n",
       "<table border=\"1\" class=\"dataframe\">\n",
       "  <thead>\n",
       "    <tr style=\"text-align: right;\">\n",
       "      <th></th>\n",
       "      <th>Salud</th>\n",
       "      <th>Transporte</th>\n",
       "      <th>Educación</th>\n",
       "    </tr>\n",
       "  </thead>\n",
       "  <tbody>\n",
       "    <tr>\n",
       "      <th>Salud</th>\n",
       "      <td>1.000000</td>\n",
       "      <td>0.687662</td>\n",
       "      <td>0.644640</td>\n",
       "    </tr>\n",
       "    <tr>\n",
       "      <th>Transporte</th>\n",
       "      <td>0.687662</td>\n",
       "      <td>1.000000</td>\n",
       "      <td>0.541518</td>\n",
       "    </tr>\n",
       "    <tr>\n",
       "      <th>Educación</th>\n",
       "      <td>0.644640</td>\n",
       "      <td>0.541518</td>\n",
       "      <td>1.000000</td>\n",
       "    </tr>\n",
       "  </tbody>\n",
       "</table>\n",
       "</div>"
      ],
      "text/plain": [
       "               Salud  Transporte  Educación\n",
       "Salud       1.000000    0.687662   0.644640\n",
       "Transporte  0.687662    1.000000   0.541518\n",
       "Educación   0.644640    0.541518   1.000000"
      ]
     },
     "execution_count": 16,
     "metadata": {},
     "output_type": "execute_result"
    }
   ],
   "source": [
    "gasto = pd.read_csv('Data/gasto_col_2017_norm.csv')\n",
    "gasto = gasto.set_index(\"Ciudad\")\n",
    "S = gasto.cov()\n",
    "S"
   ]
  },
  {
   "cell_type": "markdown",
   "metadata": {},
   "source": [
    "Notemos que la matriz S es una matriz cuadrada:"
   ]
  },
  {
   "cell_type": "code",
   "execution_count": 17,
   "metadata": {},
   "outputs": [
    {
     "data": {
      "text/plain": [
       "(3, 3)"
      ]
     },
     "execution_count": 17,
     "metadata": {},
     "output_type": "execute_result"
    }
   ],
   "source": [
    "S.shape"
   ]
  },
  {
   "cell_type": "markdown",
   "metadata": {},
   "source": [
    "obtenemos los eigenvalues y los eigenvectores:"
   ]
  },
  {
   "cell_type": "code",
   "execution_count": 18,
   "metadata": {},
   "outputs": [
    {
     "data": {
      "text/plain": [
       "array([2.25116235, 0.28709315, 0.4617445 ])"
      ]
     },
     "execution_count": 18,
     "metadata": {},
     "output_type": "execute_result"
    }
   ],
   "source": [
    "eig_val, eig_vec = np.linalg.eig(S)\n",
    "eig_val"
   ]
  },
  {
   "cell_type": "markdown",
   "metadata": {},
   "source": [
    "creamos la matriz $\\Lambda =diag(\\lambda)$:"
   ]
  },
  {
   "cell_type": "code",
   "execution_count": 19,
   "metadata": {},
   "outputs": [
    {
     "data": {
      "text/plain": [
       "array([2.25116235, 0.28709315, 0.4617445 ])"
      ]
     },
     "execution_count": 19,
     "metadata": {},
     "output_type": "execute_result"
    }
   ],
   "source": [
    "eig_val_diag = np.diag(eig_val)\n",
    "eig_val"
   ]
  },
  {
   "cell_type": "markdown",
   "metadata": {},
   "source": [
    "y reconstrumios $S$:"
   ]
  },
  {
   "cell_type": "code",
   "execution_count": 20,
   "metadata": {},
   "outputs": [
    {
     "data": {
      "text/plain": [
       "array([[1.        , 0.68766221, 0.64463975],\n",
       "       [0.68766221, 1.        , 0.54151775],\n",
       "       [0.64463975, 0.54151775, 1.        ]])"
      ]
     },
     "execution_count": 20,
     "metadata": {},
     "output_type": "execute_result"
    }
   ],
   "source": [
    "eig_vec.dot(eig_val_diag).dot(eig_vec.T)"
   ]
  },
  {
   "cell_type": "markdown",
   "metadata": {},
   "source": [
    "Recobrando de esta forma la matriz $S$ original."
   ]
  },
  {
   "cell_type": "markdown",
   "metadata": {},
   "source": [
    "## Proporción de Varianza Explicada\n",
    "\n",
    "\n",
    "Una propiedad muy útil del procedimiento del cálculo de componentes principales es que la variabilidad total de $X$ es la suma de los $k$ eigenvalores de $V(X)=S$. Para demostrarlo supongamos que $\\lambda_1,\\dots,\\lambda_k$ son los eigenvalores de $V(X)=S$, ordenados de mayor a menor, y que $p_1 , \\dots , p_K$ son los eigenvectores correspondientes. Adicionalmente llamemos $P$ a la matriz cuyas columnas son estos eigenvectores.\n",
    "\n",
    "Supongamos también que $f_j= X \\delta'_j$ es el $j-ésimo$ compontente principal, entonces\n",
    "\n",
    "\\begin{align}\n",
    "V (f_j ) &= \\delta_j S \\delta'_j  \\\\\\\n",
    "         &= p_j P\\Lambda P' p'_j  \\\\\\\n",
    "         &= \\lambda_j\n",
    "\\end{align}\n",
    "\n",
    "Donde la segunda igualdad se desprende de la descomposición espectral. \n",
    "\n",
    "Este resultado nos dices que la varianza del $j-ésimo$ componente principal es el $j-ésimo$ eigenvalor ordenado de S.\n",
    "\n",
    "Usando este resultado podemos ver que la varianza total de $X$ va a ser la suma de las varianza de las variables $x_j$:\n",
    "\n",
    "\\begin{align}\n",
    "tr(\\Sigma) = tr(P \\Lambda P')= tr(PP' \\Lambda ) = \\sum_{j=1}^k \\lambda_j= \\sum_{j=1}^k V(f_j)\n",
    "\\end{align}\n",
    "\n",
    "\n",
    "Este resultado nos permite preguntarnos: ¿Cuánta información perdimos por proyectar los datos en unos cuantos componentes principales? Esto es, ¿Cuánto de la varianza esta contenida en los primeros componentes principales? Usando la ecuación anterior podemos ver la proporción de varianza contenida en cada componente principal:\n",
    "\n",
    "\\begin{align}\n",
    "\\frac{\\lambda_k}{\\sum_{j=1}^k \\lambda_j}\n",
    "\\end{align}\n",
    "\n",
    "Continuando con el ejemplo, podemos calcular la propoción de varianza contenida en cada componente principal:"
   ]
  },
  {
   "cell_type": "code",
   "execution_count": 21,
   "metadata": {},
   "outputs": [
    {
     "data": {
      "text/plain": [
       "array([0.75038745, 0.09569772, 0.15391483])"
      ]
     },
     "execution_count": 21,
     "metadata": {},
     "output_type": "execute_result"
    }
   ],
   "source": [
    "eig_val/sum(eig_val)"
   ]
  },
  {
   "cell_type": "markdown",
   "metadata": {},
   "source": [
    "Podemos ver entonces que en este ejemplo:\n",
    "\n",
    "- El primer componente principal explica el 75% del total de la varianza.\n",
    "\n",
    "- El segundo componente principal explica el 15.4% del total de la varianza.\n",
    "\n",
    "- El tercer componente principal explica el 9.6% del total de la varianza.\n",
    "\n",
    "Finalmente notemos que la suma da 100%. Lo invito a replicar y comparar estos resultados con los datos que utilizados para la ilustración de la estandarización al inicio de este *cuaderno*."
   ]
  },
  {
   "cell_type": "markdown",
   "metadata": {},
   "source": [
    "## ¿Cuántos componentes principales debemos seleccionar?\n",
    "\n",
    "\n",
    "En el *cuaderno* de *Fundamentos Teóricos* mencionamos que una matriz $X$ de dimensión $n \\times k$ tiene en general  $min(n-1,k)$ componentes principales distintos.  En la práctica generalmente no estamos interesados en todos los componentes, sino más bien quedarnos con los primeros que nos permitan visualizar o interpretar datos. En efecto, nos gustaría quedarnos con el mínimo numero que nos permita una buena comprensión de los datos. Por ejemplo, en el ejemplo anterior los dos primeros componentes explican mas del 90% del total de la varianza. Es decir, en este caso, con dos componentes logramos una buena representación de los datos.\n",
    "\n",
    "La pregunta natural que surge aquí es si hay una forma establecida para determinar el número de componentes principales a utilizar. Desafortunadamente, no existe una forma objetiva aceptada en la literatura de responderla. Sin embargo, hay tres enfoques simples que pueden servir de guía para decidir el número de componentes principales relevantes.\n",
    "\n",
    "Estos son:\n",
    "\n",
    "- Examen visual de un gráfico de sedimentación (scree plot).\n",
    "- Proporción de varianza explicada.\n",
    "- Criterio de Kaiser.\n"
   ]
  },
  {
   "cell_type": "markdown",
   "metadata": {},
   "source": [
    "### Examen visual de un gráfico de sedimentación (scree plot)\n",
    "\n",
    "Un enfoque ampliamente utilizado consiste en elegir el número de componentes principales examinando un diagrama de sedimentación o scree plot por su nombre en inglés. La gráfica de abajo muestra un scree plot, en el cual el panel A resume la proporción de varianza explicada por cada componente principal, y el panel B como suma acumulada.\n",
    "\n",
    "![](figs/plot_S1_LSC2_1.png)"
   ]
  },
  {
   "cell_type": "markdown",
   "metadata": {},
   "source": [
    "Examinando visualmente la gráfica buscaremos un punto donde la proporción de varianza explicada para cada componente principal cae. Esta caída se conoce a menudo como  sedimento o codo del gráfico. La idea de sedimento proviene de comparar la línea en el panel A con la ladera de una montaña, en la que, si cayesen rocas, abría un punto donde estas comenzarían a detenerse o a sedimentarse.\n",
    "\n",
    "Por ejemplo, en base al grafico anterior podemos decir que luego del tercer componente principal hay un codo o un área de sedimentación. Siguiendo entonces este criterio nos quedaríamos con 3 componentes principales para representar nuestro conjunto de datos, lo que explica el 83% de la varianza. Notemos que después del tercer componente los componentes explican menos del 7% de los datos.\n",
    "\n",
    "Sin embargo, este tipo de análisis visual es inherentemente *ad hoc*. Desafortunadamente, no existe una forma objetiva bien aceptada de decidir cuántos componentes principales son suficientes. "
   ]
  },
  {
   "cell_type": "markdown",
   "metadata": {},
   "source": [
    "### Proporción de varianza explicada\n",
    "\n",
    "Otro enfoque a menudo utilizado en la práctica, es imponer un umbral a priori y elegir los componentes principales en base a esta. Por ejemplo podríamos definir un umbral del 90%, lo que en el ejemplo anterior nos resultaría en 5 componentes principales. Mientras que si fuese el 70% tendríamos 2 componentes principales.\n",
    "\n",
    "El umbral a definir dependerá de la aplicación, el contexto, y el conjunto de los datos. Típicamente  se utilizan umbrales entre el 70% y el 90%.\n"
   ]
  },
  {
   "cell_type": "markdown",
   "metadata": {},
   "source": [
    "### Criterio de Kaiser\n",
    "\n",
    "El criterio de Kaiser es otro enfoque ampliamente utilizado para evaluar el número máximo de componentes principales. Este sugiere que solo se retengan los componentes principales cuyos eigenvalores sean mayores a 1. La idea es que se retengan aquellos componentes cuyos eigenvalues sean superiores a la media de los eigenvalues:\n",
    "\n",
    "\\begin{align}\n",
    "\\lambda_h> \\frac{\\sum_j^k \\lambda_j}{k}\n",
    "\\end{align}\n",
    "\n",
    "Dado que los datos están estandarizados tenemos que $\\sum_j^k \\lambda_j=k$, por lo que es equivalente a buscar los eigenvalues mayores a uno."
   ]
  },
  {
   "cell_type": "markdown",
   "metadata": {},
   "source": [
    "### Consideraciones  finales sobre el número de componentes a elegir\n",
    "\n",
    "Es importante reiterar que no existe una forma objetiva aceptada para seleccionar el número de componentes a utilizar. De hecho la cuestión esta intrínsecamente mal definida y todo va a depender del área, contexto, y los datos donde se utilizan.\n",
    "\n",
    "En la práctica de  aprendizaje no supervisado, tendemos a examinar los primeros componentes principales en búsqueda de patrones interesantes en los datos. Si no se encuentran, es poco probable que el resto de los componentes sean de interés. Por el contrario, si los primeros son interesantes se continua hasta que no haya mas patrones. Esto es un enfoque completamente subjetivo y refleja el hecho de que utilizamos PCA como una herramientas de análisis supervisado.\n",
    "\n",
    "Por otro lado, si utilizamos los componentes principales como insumos en aprendizaje supervisado, por ejemplo los utilizamos como regresores en una regresión lineal, entonces existe una forma simple y objetiva de determinar el número de componentes principales usar, ya que se utilizaría validación cruzada para seleccionar el número óptimo. \n",
    "\n",
    "En síntesis, al contrastar las dificultades que se presentan al seleccionar el número de componentes en el aprendizaje no supervisado con los que se presentan en el supervisado, refleja  el hecho de que el análisis supervisado tiende a estar más claramente definido y evaluado que los no supervisados."
   ]
  },
  {
   "cell_type": "markdown",
   "metadata": {},
   "source": [
    "## Unicidad de los componentes principales\n",
    "\n",
    "\n",
    "Antes de finalizar es necesario hacer la advertencia de que los \"loadings\" de los componentes principales ($\\delta_{ij}=\\delta_{i1},\\dots, \\delta_{ik}$) son únicos excepto por un cambio de signo. Esto implica que dependiendo la implementación podemos obtener en dos librerias resultados distintos. Los \"loadings\" serán los mismos pero los signos pueden diferir. Los signos pueden diferir porque cada peso especifica una dirección en el espacio k-dimensional y el cambio de signo no tiene efecto sobre la dirección.  "
   ]
  },
  {
   "cell_type": "markdown",
   "metadata": {},
   "source": [
    "## Referencias\n",
    "\n",
    "\n",
    "-   Ahumada, H. A., Gabrielli, M. F., Herrera Gomez, M. H., & Sosa\n",
    "    Escudero, W. (2018). Una nueva econometría: Automatización, big\n",
    "    data, econometría espacial y estructural.\n",
    "\n",
    "-   DANE (29 de Septiembre de 2020). Encuesta nacional de presupuestos\n",
    "    de los hogares (ENPH). Anexos: 32 ciudades y 6 ciudades intermedias.\n",
    "    <https://www.dane.gov.co/files/investigaciones/boletines/enph/ciudades-enph-2017.xls>\n",
    "\n",
    "-   Deisenroth, M. P., Faisal, A. A., & Ong, C. S. (2020). Mathematics\n",
    "    for machine learning. Cambridge University Press.\n",
    "    \n",
    "-   Hartmann, K., Krois, J., Waske, B. (2018): E-Learning Project SOGA: Statistics and Geospatial Data Analysis. Department of Earth Sciences, Freie Universitaet Berlin.    \n",
    "\n",
    "-   James, G., Witten, D., Hastie, T., & Tibshirani, R. (2013). An\n",
    "    introduction to statistical learning (Vol. 112, p. 18). New York:\n",
    "    springer.\n",
    "\n",
    "-   Jolliffe, I. T., & Cadima, J. (2016). Principal component analysis: a review and recent developments. Philosophical transactions. Series A, Mathematical, physical, and engineering sciences, 374(2065), 20150202. https://doi.org/10.1098/rsta.2015.0202\n",
    "\n",
    "-   Murphy, K. P. (2012). Machine learning: a probabilistic perspective.\n",
    "    MIT press.\n",
    "\n",
    "-   Peña, D. (2002). Análisis de datos multivariantes (Vol. 24). Madrid:\n",
    "    McGraw-hill.\n",
    "\n",
    "\n"
   ]
  }
 ],
 "metadata": {
  "kernelspec": {
   "display_name": "Python 3 (ipykernel)",
   "language": "python",
   "name": "python3"
  },
  "language_info": {
   "codemirror_mode": {
    "name": "ipython",
    "version": 3
   },
   "file_extension": ".py",
   "mimetype": "text/x-python",
   "name": "python",
   "nbconvert_exporter": "python",
   "pygments_lexer": "ipython3",
   "version": "3.9.7"
  },
  "toc": {
   "base_numbering": 1,
   "nav_menu": {},
   "number_sections": true,
   "sideBar": true,
   "skip_h1_title": false,
   "title_cell": "Table of Contents",
   "title_sidebar": "Contents",
   "toc_cell": false,
   "toc_position": {},
   "toc_section_display": true,
   "toc_window_display": true
  }
 },
 "nbformat": 4,
 "nbformat_minor": 4
}
