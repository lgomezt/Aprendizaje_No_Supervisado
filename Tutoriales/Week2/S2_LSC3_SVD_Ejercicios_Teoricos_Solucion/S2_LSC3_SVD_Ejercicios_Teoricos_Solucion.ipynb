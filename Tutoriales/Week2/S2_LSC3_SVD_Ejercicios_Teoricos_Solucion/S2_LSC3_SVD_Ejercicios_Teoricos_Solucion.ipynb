{
 "cells": [
  {
   "cell_type": "markdown",
   "metadata": {},
   "source": [
    "<div >\n",
    "<img src = \"figs/ans_banner_1920x200.png\" />\n",
    "</div>"
   ]
  },
  {
   "cell_type": "markdown",
   "metadata": {},
   "source": [
    "# Solución a Ejercicios sobre Descomposición en Valores Singulares. \n",
    "\n",
    "\n",
    "Es este *cuaderno*  encontrá la solución a los ejercicios presentados en el *cuaderno* de *Descomposición en Valores Singulares. Interpretación Geométrica  y Ejercicios Teóricos.* Se espera que usted haya resuelto estos ejercicios por su cuenta antes de ver los resultados. Consulte con el tutor si tiene dudas.\n",
    "\n",
    "**NO** es necesario editar el archivo o hacer una entrega. Sin embargo, los ejemplos contienen celdas con código ejecutable (`en gris`), que podrá modificar  libremente. Esta puede ser una buena forma de aprender nuevas funcionalidades del *cuaderno*, o experimentar variaciones en los códigos de ejemplo."
   ]
  },
  {
   "cell_type": "markdown",
   "metadata": {},
   "source": [
    "## Solución ejercicio 1\n",
    "\n",
    "**Demuestre que la Descomposición en Valores Singulares encuentra la dirección para la cual la matriz original estira más el vector unitario. Parta de la siguiente expresión:**\n",
    "$$argmax_{x:||x||=1} ||Bx||$$ \n",
    "\n",
    "*Solución*:\n",
    "\n",
    "Cambiemos el problema inicial a partir de elevar al cuadrado la expresión $||Bx||$. Sabemos que esto no debe cambiar la solución pues encontrar el vector $x$ que maximice el tamaño de su transformación también debe maximizar el tamaño de la transformación al cuadrado:\n",
    "$$argmax_{x:||x||=1} ||Bx||^2$$\n",
    "Ahora procedemos a hacer algo de álgebra.\n",
    "$$argmax_{x:||x||=1} ||Bx||^2= argmax_{x:||x||=1}\\ (Bx)'(Bx) = argmax_{x:||x||=1}\\ x'B'Bx$$\n",
    "Recordemos que podemos reescribir los últimos tres términos a partir de los eigenvalores asociados a la matriz B: $(B'B)x=\\lambda x$.\n",
    "$$(B'B)x=\\lambda x$$\n",
    "$$x'(B'B)x=\\lambda x' x$$\n",
    "Como $x$ es un vector unitario sabemos que $x^T x=1$.\n",
    "\n",
    "Finalmente, tendríamos que: \n",
    "$$argmax_{x:||x||=1}\\ x'B'Bx = argmax_{x:||x||=1}\\ lambda$$\n",
    "Es decir que para maximizar la longitud de la transformación $||Bx||$, debemos encontrar el eigenvector $x$ asociado al eigenvalor más grande.\n",
    "\n"
   ]
  },
  {
   "cell_type": "markdown",
   "metadata": {},
   "source": [
    "## Solución ejercicio 2\n",
    "\n",
    "**$B$ es una matriz cuadrada de tamaño $m\\times m$, cuyas  filas son ortonormales. Demuestre que las columnas de $B$ también son ortonormales.**\n",
    "\n",
    "*Solución*:\n",
    "\n",
    "Como las filas de $B$ son ortonormales entonces $BB'=I$. Entonces, $B'BB'=B'$. Dado que $B'$ es no singular (pues tiene rango completo y es cuadrada), existe su inversa. Multiplicando a ambos lados de la expresión anterior por la inversa de $B$ obtenemos $B'BB'(B')^{-1}=B'(B')^{-1}$, lo cual implica que las columnas de $B$ sean ortonormales:\n",
    "$$B'B=I$$\n"
   ]
  },
  {
   "cell_type": "markdown",
   "metadata": {},
   "source": [
    "## Solución ejercicio 3\n",
    "\n",
    "**Suponga que $C$ es una matriz cuadrada invertible y que la Descomposición en Valores Singulares de $C$ es $C=\\sum_i \\sigma_i u_i v_i'$. Encuentre la inversa de $C$.**\n",
    "\n",
    "*Solución*:\n",
    "\n",
    "La SVD de $C$ puede escribirse como $C=U\\Sigma V'$, por ende la inversa puede ser calculada como:\n",
    "$$C^{-1}=(U\\Sigma V')^{-1}$$\n",
    "$$C^{-1}=(V')^{-1}\\Sigma^{-1}U^{-1}$$\n",
    "Ahora, recordamos las propiedades de las matrices $U$ y $V$, las cuales son ortonormales, por ende sus traspuestas son sus inversas: $U'U=UU'=I$ y $V'V=VV'=I$.\n",
    "$$C^{-1}=V\\Sigma^{-1}U'$$\n",
    "Como $\\Sigma$ es una matriz diagonal, su inversa es la misma matriz reemplazando cada elemento de la diagonal por su reciproco:\n",
    "$$\\begin{split} \\Sigma^{-1} =\n",
    "\\left[\n",
    "\\begin{array}{cccc}\n",
    "    \\frac{1}{\\sigma_1} & 0 & \\cdots & 0 \\\\\n",
    "    0 & \\frac{1}{\\sigma_2} & \\cdots & 0 \\\\\n",
    "    \\vdots & \\vdots & \\ddots  & \\vdots \\\\\n",
    "    0 & 0 & \\cdots & \\frac{1}{\\sigma_n}\n",
    "\\end{array}\n",
    "\\right]\\end{split}$$\n",
    "Resolviendo la multiplicación matricial obtenemos: $C^{-1}=\\sum_i \\frac{1}{\\sigma_i} v_i u_i'$\n"
   ]
  },
  {
   "cell_type": "markdown",
   "metadata": {},
   "source": [
    "## Solución ejercicio 4\n",
    "\n",
    "**Encuentre la SVD de la matriz $A$, $U S V'$, en donde** $A = \\begin{bmatrix} 3 & 2 & 2 \\\\ 2 & 3 & -2 \\end{bmatrix}$\n",
    "\n",
    "*Solución*:\n",
    "\n",
    "Primero vamos a encontrar los eigenvalores para construir $S$. Para esto vamos a construir la matriz $AA'$:\n",
    "\n",
    "$$\\begin{split} AA' =\n",
    "\\left[\n",
    "\\begin{array}{cc}\n",
    "    17 & 8 \\\\\n",
    "    8 & 17 \\\\\n",
    "\\end{array}\n",
    "\\right]\\end{split}$$\n",
    "\n",
    "El polinomo característico está dado por $det(AA'-\\lambda I)=\\lambda^2-34\\lambda+225=(\\lambda-25)(\\lambda-9)$. De tal modo obtenemos $\\lambda_1=25$ y $\\lambda_2=9$. Por tal motivo $\\sigma_1=5$ y $\\sigma_2=3$ serían los elementos de la diagonal de $S$.\n",
    "\n",
    "Ahora, vamos a encontrar los vectores singulares derechos (es decir las columnas de V) encontrando un set de eigenvectores ortonormales de $A'A$. Sabemos que los eigenvalores de $A'A$ serán los mismos que los de $AA'$, y como $A'A$ es simétrica, sabemos que sus eigenvectores serán ortogonales.\n",
    "\n",
    "Para $\\lambda=25$, tenemos:\n",
    "\n",
    "$$\\begin{split} A'A-25I =\n",
    "\\left[\n",
    "\\begin{array}{ccc}\n",
    "    -12 & 12 & 2 \\\\\n",
    "    12 & -12 & -2 \\\\\n",
    "    2 & -2 & -17 \\\\\n",
    "\\end{array}\n",
    "\\right]\\end{split}$$\n",
    "\n",
    "Haciendo una reducción por filas obtenemos:\n",
    "$$\\begin{split} A'A-25I =\n",
    "\\left[\n",
    "\\begin{array}{ccc}\n",
    "    1 & -1 & 0 \\\\\n",
    "    0 & 0 & 1 \\\\\n",
    "    0 & 0 & 0 \\\\\n",
    "\\end{array}\n",
    "\\right]\\end{split}$$\n",
    "\n",
    "Un eigenvector de longitud 1 sería entonces $v_1=[1/\\sqrt2, 1/\\sqrt2, 0]$\n",
    "\n",
    "Para $\\lambda=9$ tenemos:\n",
    "$$\\begin{split} A'A-9I =\n",
    "\\left[\n",
    "\\begin{array}{ccc}\n",
    "    4 & 12 & 2 \\\\\n",
    "    12 & 4 & -2 \\\\\n",
    "    2 & -2 & -1 \\\\\n",
    "\\end{array}\n",
    "\\right]\\end{split}$$\n",
    "\n",
    "Haciendo una reducción por filas obtenemos:\n",
    "$$\\begin{split} A'A-25I =\n",
    "\\left[\n",
    "\\begin{array}{ccc}\n",
    "    1 & 0 & -1/4 \\\\\n",
    "    0 & 1 & 1/4 \\\\\n",
    "    0 & 0 & 0 \\\\\n",
    "\\end{array}\n",
    "\\right]\\end{split}$$\n",
    "\n",
    "Un eigenvector de longitud 1 sería entonces $v_2=[1/\\sqrt18, -1/\\sqrt18, 4/\\sqrt18]$\n",
    "\n",
    "Podemos hallar el último eigenvetor como lo venimos haciendo hasta el momento o encontrar un vector unitario perpendicular a $v_1 y v_2$. Para que un vector sea perpendicular a otro $v_1=\\begin{bmatrix} a \\\\ b \\\\ c \\end{bmatrix}$ se necesita $-a=b$. Luego la condición para que $v_2'v_3=0$ se vuelve $2a/\\sqrt18+4c/\\sqrt18=0$ o $-a=2c$. Luego $v_3=[a, -a, -a/2]=[2/3,-2/3,-1/3]$\n",
    "\n",
    "Finalmente, encontramos $U$ con la formula $\\sigma u_i=Av_i \\rightarrow u_i=\\frac{1}{\\sigma}Av_i$. Obtendríamos: \n",
    " $$\\begin{split} U =\n",
    "\\left[\n",
    "\\begin{array}{cc}\n",
    "    1/\\sqrt2 &  1/\\sqrt2 \\\\\n",
    "    1/\\sqrt2 & - 1/\\sqrt2 \n",
    "\\end{array}\n",
    "\\right]\\end{split}$$\n",
    "\n",
    "La solución es entonces: \n",
    "$$A=US V'= \\begin{bmatrix} 1/\\sqrt2 &  1/\\sqrt2 \\\\ 1/\\sqrt2 & - 1/\\sqrt2 \\end{bmatrix} \n",
    "    \\begin{bmatrix} 5 & 0 & 0 \\\\ 0 & 3 & 0 \\end{bmatrix} \n",
    "    \\begin{bmatrix} 1/\\sqrt2 & 1/\\sqrt2 & 0 \\\\ 1/\\sqrt18 & -1/\\sqrt18 & 4/\\sqrt18 \\\\ 2/3 & -2/3 & -1/3 \\end{bmatrix}$$\n",
    "\n",
    "A continuación se comprueban los resultados con código:"
   ]
  },
  {
   "cell_type": "code",
   "execution_count": 1,
   "metadata": {},
   "outputs": [],
   "source": [
    "import numpy as np"
   ]
  },
  {
   "cell_type": "code",
   "execution_count": 2,
   "metadata": {},
   "outputs": [],
   "source": [
    "A = np.array([[3, 2, 2], [2, 3, -2]])\n",
    "AAt = A @ A.transpose()\n",
    "AtA = A.transpose() @ A  "
   ]
  },
  {
   "cell_type": "code",
   "execution_count": 3,
   "metadata": {},
   "outputs": [
    {
     "name": "stdout",
     "output_type": "stream",
     "text": [
      "[[ 3  2  2]\n",
      " [ 2  3 -2]]\n",
      "[[17  8]\n",
      " [ 8 17]]\n",
      "[[13 12  2]\n",
      " [12 13 -2]\n",
      " [ 2 -2  8]]\n"
     ]
    }
   ],
   "source": [
    "print(A)\n",
    "print(AAt)\n",
    "print(AtA)"
   ]
  },
  {
   "cell_type": "code",
   "execution_count": 4,
   "metadata": {},
   "outputs": [
    {
     "data": {
      "text/plain": [
       "(array([[-0.70710678, -0.70710678],\n",
       "        [-0.70710678,  0.70710678]]),\n",
       " array([25.,  9.]),\n",
       " array([[-0.70710678, -0.70710678],\n",
       "        [-0.70710678,  0.70710678]]))"
      ]
     },
     "execution_count": 4,
     "metadata": {},
     "output_type": "execute_result"
    }
   ],
   "source": [
    "np.linalg.svd(AAt)"
   ]
  },
  {
   "cell_type": "code",
   "execution_count": 5,
   "metadata": {},
   "outputs": [
    {
     "data": {
      "text/plain": [
       "(array([[-0.70710678,  0.23570226, -0.66666667],\n",
       "        [-0.70710678, -0.23570226,  0.66666667],\n",
       "        [ 0.        ,  0.94280904,  0.33333333]]),\n",
       " array([2.50000000e+01, 9.00000000e+00, 3.13211725e-15]),\n",
       " array([[-7.07106781e-01, -7.07106781e-01, -1.38777878e-17],\n",
       "        [ 2.35702260e-01, -2.35702260e-01,  9.42809042e-01],\n",
       "        [ 6.66666667e-01, -6.66666667e-01, -3.33333333e-01]]))"
      ]
     },
     "execution_count": 5,
     "metadata": {},
     "output_type": "execute_result"
    }
   ],
   "source": [
    "np.linalg.svd(AtA)"
   ]
  },
  {
   "cell_type": "code",
   "execution_count": 6,
   "metadata": {},
   "outputs": [
    {
     "data": {
      "text/plain": [
       "array([[ 3.,  2.,  2.],\n",
       "       [ 2.,  3., -2.]])"
      ]
     },
     "execution_count": 6,
     "metadata": {},
     "output_type": "execute_result"
    }
   ],
   "source": [
    "U = np.array([[1/np.sqrt(2), 1/np.sqrt(2)], [1/np.sqrt(2), -1/np.sqrt(2)]])\n",
    "S = np.array([[5, 0, 0], [0, 3, 0]])\n",
    "Vt = np.array([[1/np.sqrt(2), 1/np.sqrt(2), 0], \n",
    "    [1/np.sqrt(18), -1/np.sqrt(18), 4/np.sqrt(18)],\n",
    "    [2/3, -2/3, -1/3]])\n",
    "U @ S @ Vt"
   ]
  },
  {
   "cell_type": "markdown",
   "metadata": {},
   "source": [
    "## Solución ejercicio 5\n",
    "\n",
    "**Demuestre que los vectores singulares izquierdos de una matriz $D$ son los vectores singulares derechos de $D'$** \n",
    "\n",
    "*Solución*:\n",
    "\n",
    "$D=U\\Sigma V'$\n",
    "\n",
    "$D'=(U\\Sigma V')'=V\\Sigma U'$\n",
    "\n"
   ]
  }
 ],
 "metadata": {
  "interpreter": {
   "hash": "8fac594bfae6525c0c41b4041d2d72effa188cc8ead05f81b1fab2bb098927fb"
  },
  "kernelspec": {
   "display_name": "Python 3 (ipykernel)",
   "language": "python",
   "name": "python3"
  },
  "language_info": {
   "codemirror_mode": {
    "name": "ipython",
    "version": 3
   },
   "file_extension": ".py",
   "mimetype": "text/x-python",
   "name": "python",
   "nbconvert_exporter": "python",
   "pygments_lexer": "ipython3",
   "version": "3.9.7"
  },
  "toc": {
   "base_numbering": 1,
   "nav_menu": {},
   "number_sections": true,
   "sideBar": true,
   "skip_h1_title": false,
   "title_cell": "Table of Contents",
   "title_sidebar": "Contents",
   "toc_cell": false,
   "toc_position": {},
   "toc_section_display": true,
   "toc_window_display": false
  }
 },
 "nbformat": 4,
 "nbformat_minor": 2
}
