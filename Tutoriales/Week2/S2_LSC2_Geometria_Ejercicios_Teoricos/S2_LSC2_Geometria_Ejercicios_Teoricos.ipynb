{
 "cells": [
  {
   "cell_type": "markdown",
   "metadata": {},
   "source": [
    "<div >\n",
    "<img src = \"figs/ans_banner_1920x200.png\" />\n",
    "</div>"
   ]
  },
  {
   "cell_type": "markdown",
   "metadata": {},
   "source": [
    "# Descomposición en Valores Singulares. Interpretación Geométrica  y Ejercicios Teóricos."
   ]
  },
  {
   "cell_type": "markdown",
   "metadata": {},
   "source": [
    "Este *cuaderno* cubre detalles sobre el algebra de la descomposición en valores singulares. El objetivo del *cuaderno* es que aprenda el funcionamiento de la descomposición en valores singulares, y a construir e implementar este método. Al final encontrará ejercicios asociados a los contenidos del cuaderno para que los resuelva por su propia cuenta (no debe entregarlos).  Si tiene dudas sobre los contenidos o los ejercicios, consulte con el tutor.\n",
    "\n",
    "\n",
    "**NO** es necesario editar el archivo o hacer una entrega. Sin embargo, los ejemplos contienen celdas con código ejecutable (`en gris`), que podrá modificar  libremente. Esta puede ser una buena forma de aprender nuevas funcionalidades del *cuaderno*, o experimentar variaciones en los códigos de ejemplo."
   ]
  },
  {
   "cell_type": "markdown",
   "metadata": {},
   "source": [
    "## Interpretación geométrica\n",
    "\n",
    "En el cuaderno *Descomposición en Valores Singulares. Fundamentos Teóricos.* mostramos que la SVD es la factorizacion de una matriz en 3 matrices. Entonces si tenemos una matrix real $X$ de dimensión $n\\times k$, entonces su SVD esta representada por:\n",
    "\n",
    "\\begin{align}\n",
    "\\underset{n\\times k}{\\underbrace{X}}=\\underset{n\\times n}{\\underbrace{U}}\\underset{n\\times k}{\\underbrace{S}}\\underset{k\\times k}{\\underbrace{V'}}\n",
    "\\end{align}\n",
    "\n",
    "donde $U$ es una matriz $n\\times n$ cuyas columnas son ortogonales $(U'U=I_{n})$, $V$ es una matriz $k\\times k$ cuyas filas y columnas son también ortogonales $(V'V=VV'=I_{k})$, y $S$ es una matriz $n\\times k$ que contiene los $r=min(n,k)$ valores singulares $(\\sigma_{i}\\geq0)$ en la diagonal principal, y 0 en el resto de la matriz. \n",
    "\n",
    "A $U$ se la suele denominar como la matriz de vectores singulares izquierdos, S como los valores singulares, y $V$ como los valores singulares derechos.\n"
   ]
  },
  {
   "cell_type": "markdown",
   "metadata": {},
   "source": [
    "Para ilustrar como funciona la descomposición geometricamente, supongamos que tenemos un círculo en 2 dimensiones, representado por 2 vectores $v_1$ y $v_2$ como lo muestra la siguiente figura:"
   ]
  },
  {
   "cell_type": "markdown",
   "metadata": {},
   "source": [
    "<div style=\"max-width:500px\">\n",
    "<img src = \"figs/rot1.png\" />\n",
    "</div>"
   ]
  },
  {
   "cell_type": "markdown",
   "metadata": {},
   "source": [
    "La SVD implica aplicar una transformación matricial a estos dos vectores de forma tal que vamos a obtener dos nuevos vectores $\\sigma_1 u_1$ y $\\sigma_2 u_2$:\n",
    "\n",
    "\\begin{align}\n",
    "XV=US \n",
    "\\end{align}\n",
    "donde V es la matriz cuyas columnas son los vectores $v_1$ y $v_2$, $X$ es la matriz de datos, S la matriz diagonal de $\\sigma_1$ y $\\sigma_2$ y U la matriz de los vectores $u_1$ y $u_2$. Esta transformación equivale a \"estirar\" el círculo como lo muestra la siguiente figura:"
   ]
  },
  {
   "cell_type": "markdown",
   "metadata": {},
   "source": [
    "<div style=\"max-width:500px\">\n",
    "<img src = \"figs/rot2.png\" />\n",
    "</div>"
   ]
  },
  {
   "cell_type": "markdown",
   "metadata": {},
   "source": [
    "En este caso los valores singulars $\\sigma$ son los factores que estiran. Notemos además que las columnas de $V$ son ortogonales, por lo que podemos hacer:\n",
    "\n",
    "\\begin{align}\n",
    "XV&=US \\\\\n",
    "XVV'&=USV' \\\\\n",
    "X &=USV'\n",
    "\\end{align}\n",
    "\n",
    "donde obtenemos la expresion original. "
   ]
  },
  {
   "cell_type": "markdown",
   "metadata": {},
   "source": [
    "### Ejemplo\n",
    "\n",
    "Miremos un ejemplo sencillo para illustrar el cálculo de SVD. Comenzamos con la siguiente matriz $X$:\n",
    "\n",
    "\n",
    "\\begin{align}\n",
    "X=\\left(\\begin{array}{cc}\n",
    "7 & 3\\\\\n",
    "3 & -1\n",
    "\\end{array}\\right)\n",
    "\\end{align}\n",
    "\n",
    "partiendo de la ecuación $(X-\\lambda I)x=0$, podemos obtener el polinomio\n",
    "característico,\n",
    "\n",
    "\\begin{align}\n",
    "\\lambda^{2}-6\\lambda+16=0\n",
    "\\end{align}\n",
    "\n",
    "resolviendo tenemos que los eigenvalues son\n",
    "\n",
    "\\begin{align}\n",
    "\\lambda_{1}=8\n",
    "\\end{align}\n",
    "\n",
    "y \n",
    "\n",
    "\\begin{align}\n",
    "\\lambda_{2}=-2\n",
    "\\end{align}\n",
    "\n",
    "luego necesitamos los eigenvectores. El eigenvector asociado con $\\lambda_{1}=8$,\n",
    "será\n",
    "\n",
    "\\begin{align}\n",
    "Xv^{1}=\\lambda_{1}v^{1}\n",
    "\\end{align}\n",
    "\n",
    "\\begin{align}\n",
    "\\left(X-\\lambda_{1}I\\right)v^{1}=0\n",
    "\\end{align}\n",
    "\n",
    "\\begin{align}\n",
    "\\left(\\left(\\begin{array}{cc}\n",
    "7 & 3\\\\\n",
    "3 & -1\n",
    "\\end{array}\\right)-\\left(\\begin{array}{cc}\n",
    "\\lambda_{1} & 0\\\\\n",
    "0 & \\lambda_{1}\n",
    "\\end{array}\\right)\\right)v^{1}=0\n",
    "\\end{align}\n",
    "\n",
    "\\begin{align}\n",
    "\\left(\\begin{array}{cc}\n",
    "-1 & 3\\\\\n",
    "3 & -9\n",
    "\\end{array}\\right)\\left(\\begin{array}{c}\n",
    "v_{1}^{1}\\\\\n",
    "v_{2}^{2}\n",
    "\\end{array}\\right)=0\n",
    "\\end{align}\n",
    "\n",
    "\\begin{align}\n",
    "-1v_{11}+3v_{21}=0\n",
    "\\end{align}\n",
    "\n",
    "\\begin{align}\n",
    "3v_{11}-9v_{21}=0\n",
    "\\end{align}\n",
    "\n",
    "Entonces podemos ver que $v_{1}^{1}=3v_{2}^{1}$ , sin perdida de\n",
    "generalidad podemos fijar $v_{2}^{1}=1$, entonces el eigenvector\n",
    "asociado a este eigenvalor es \n",
    "\n",
    "\\begin{align}\n",
    "v^{1}=\\left(\\begin{array}{c}\n",
    "3\\\\\n",
    "1\n",
    "\\end{array}\\right)\n",
    "\\end{align}\n",
    "\n",
    "Normalizando para que el vector tenga dimensión 1 (dividimos por $\\sqrt{3^{2}+1^{2}}$)\n",
    "\n",
    "\\begin{align}\n",
    "v^{1}=\\left(\\begin{array}{c}\n",
    "0.9486\\\\\n",
    "0.3162\n",
    "\\end{array}\\right)\n",
    "\\end{align}\n",
    "\n",
    "Del mismo modo procedemos para el eigenvector asociado con $\\lambda_{2}=-2$,\n",
    "será\n",
    "\n",
    "\\begin{align}\n",
    "\\left(X-\\lambda_{2}I\\right)v^{2}=0\n",
    "\\end{align}\n",
    "\n",
    "\\begin{align}\n",
    "\\left(\\left(\\begin{array}{cc}\n",
    "7 & 3\\\\\n",
    "3 & -1\n",
    "\\end{array}\\right)-\\left(\\begin{array}{cc}\n",
    "\\lambda_{2} & 0\\\\\n",
    "0 & \\lambda_{2}\n",
    "\\end{array}\\right)\\right)v^{2}=0\n",
    "\\end{align}\n",
    "\n",
    "\\begin{align}\n",
    "\\left(\\begin{array}{cc}\n",
    "9 & 3\\\\\n",
    "3 & 1\n",
    "\\end{array}\\right)\\left(\\begin{array}{c}\n",
    "v_{1}^{2}\\\\\n",
    "v_{2}^{2}\n",
    "\\end{array}\\right)=0\n",
    "\\end{align}\n",
    "\n",
    "\\begin{align}\n",
    "9v_{1}^{2}+3v_{2}^{2}=0\n",
    "\\end{align}\n",
    "\n",
    "\\begin{align}\n",
    "3v_{1}^{2}-1v_{2}^{2}=0\n",
    "\\end{align}\n",
    "\n",
    "De este sistema de ecuaciones podemos ver que $-3v_{1}^{2}=v_{2}^{2}$\n",
    ", y fijando $v_{1}^{2}=1$, tenemos el eigenvector normalizado asociado\n",
    "\n",
    "\\begin{align}\n",
    "v^{2}=\\left(\\begin{array}{c}\n",
    "0.3162\\\\\n",
    "-0.9486\n",
    "\\end{array}\\right)\n",
    "\\end{align}\n",
    "\n",
    "Recordando del cuaderno de *Descomposición en Valores Singulares. Fundamentos Teóricos.* la conexión entre SVD y eigenvalores,  podemos obtener la matriz $S$:\n",
    "\n",
    "\\begin{align}\n",
    "S=\\left(\\begin{array}{cc}\n",
    "8 & 0\\\\\n",
    "0 & 2\n",
    "\\end{array}\\right)\n",
    "\\end{align}\n",
    "\n",
    "y la matriz V\n",
    "\n",
    "\\begin{align}\n",
    "V=\\left(\\begin{array}{cc}\n",
    "0.9486 & 0.3162\\\\\n",
    "0.3162 & -0.9486\n",
    "\\end{array}\\right)\n",
    "\\end{align}\n",
    "\n",
    "Para completar la SVD $(X=USV')$ necesitamos computar $U$, o cual podemos hacer con la formula $\\sigma_{i}u^{i}=Xv^{1}$\n",
    "\n",
    "\\begin{align}\n",
    "u^{1}=\\frac{1}{8}\\left(\\begin{array}{cc}\n",
    "7 & 3\\\\\n",
    "3 & -1\n",
    "\\end{array}\\right)\\left(\\begin{array}{c}\n",
    "0.9486\\\\\n",
    "0.3162\n",
    "\\end{array}\\right)=\\left(\\begin{array}{c}\n",
    "0.9486\\\\\n",
    "0.3162\n",
    "\\end{array}\\right)\n",
    "\\end{align}\n",
    "\n",
    "\\begin{align}\n",
    "u^{2}=\\left(\\frac{1}{2}\\right)\\left(\\begin{array}{cc}\n",
    "7 & 3\\\\\n",
    "3 & -1\n",
    "\\end{array}\\right)\\left(\\begin{array}{c}\n",
    "0.3162\\\\\n",
    "-0.9486\n",
    "\\end{array}\\right)=\\left(\\begin{array}{c}\n",
    "0.3162\\\\\n",
    "-0.9486\n",
    "\\end{array}\\right)\n",
    "\\end{align}\n",
    "\n",
    "Con esto podemos completar $U$\n",
    "\n",
    "\\begin{align}\n",
    "\\left(\\begin{array}{cc}\n",
    "0.9486 & 0.3162\\\\\n",
    "0.3162 & -0.9486\n",
    "\\end{array}\\right)\n",
    "\\end{align}"
   ]
  },
  {
   "cell_type": "markdown",
   "metadata": {},
   "source": [
    "Note, que en este caso nos dio una matriz igual a $V$. Rara vez tendremos que resolver esta descomposición con papel y lapiz, lo haremos generalmente en `Python`. Verifiquemos entonces, los resultados obtenidos en `Python`:"
   ]
  },
  {
   "cell_type": "code",
   "execution_count": 1,
   "metadata": {},
   "outputs": [
    {
     "data": {
      "text/plain": [
       "array([[ 7,  3],\n",
       "       [ 3, -1]])"
      ]
     },
     "execution_count": 1,
     "metadata": {},
     "output_type": "execute_result"
    }
   ],
   "source": [
    "import numpy as np # llamamos numpy\n",
    "\n",
    "X = np.array([[7, 3], \n",
    "              [3, -1]])\n",
    "\n",
    "X"
   ]
  },
  {
   "cell_type": "code",
   "execution_count": 2,
   "metadata": {},
   "outputs": [],
   "source": [
    "U, S, V = np.linalg.svd(X)"
   ]
  },
  {
   "cell_type": "code",
   "execution_count": 3,
   "metadata": {},
   "outputs": [
    {
     "name": "stdout",
     "output_type": "stream",
     "text": [
      "U= [[-0.9486833  -0.31622777]\n",
      " [-0.31622777  0.9486833 ]]\n"
     ]
    }
   ],
   "source": [
    "print('U=', U)"
   ]
  },
  {
   "cell_type": "code",
   "execution_count": 4,
   "metadata": {},
   "outputs": [
    {
     "name": "stdout",
     "output_type": "stream",
     "text": [
      "S= [8. 2.]\n"
     ]
    }
   ],
   "source": [
    "print('S=', S)"
   ]
  },
  {
   "cell_type": "code",
   "execution_count": 5,
   "metadata": {},
   "outputs": [
    {
     "name": "stdout",
     "output_type": "stream",
     "text": [
      "V= [[-0.9486833  -0.31622777]\n",
      " [ 0.31622777 -0.9486833 ]]\n"
     ]
    }
   ],
   "source": [
    "print('V=', V)"
   ]
  },
  {
   "cell_type": "markdown",
   "metadata": {},
   "source": [
    "Note que los resultados son los mismos excepto por el cambio de signo. Esto tiene que ver con cómo computa `Python` los eigenvectos. Con estos podemos entonces reconstruir $X$ usando la ecuación $X =USV'$"
   ]
  },
  {
   "cell_type": "code",
   "execution_count": 6,
   "metadata": {},
   "outputs": [
    {
     "data": {
      "text/plain": [
       "array([[ 7.,  3.],\n",
       "       [ 3., -1.]])"
      ]
     },
     "execution_count": 6,
     "metadata": {},
     "output_type": "execute_result"
    }
   ],
   "source": [
    "X_reconstruida = U @ np.diag(S) @ V\n",
    "X_reconstruida"
   ]
  },
  {
   "cell_type": "markdown",
   "metadata": {},
   "source": [
    "Podemos tambien verificar la relación entre SVD y eigenvalores:"
   ]
  },
  {
   "cell_type": "code",
   "execution_count": 7,
   "metadata": {},
   "outputs": [
    {
     "data": {
      "text/plain": [
       "array([8., 2.])"
      ]
     },
     "execution_count": 7,
     "metadata": {},
     "output_type": "execute_result"
    }
   ],
   "source": [
    "eig_val, eig_vec = np.linalg.eig(X@X.T)\n",
    "eig_val\n",
    "np.sqrt(eig_val)"
   ]
  },
  {
   "cell_type": "markdown",
   "metadata": {},
   "source": [
    "## Ejercicios teóricos\n",
    "\n",
    "\n",
    "Resuelva los siguientes problemas. Intente realizarlos primero sin ayuda de `Python` y luego verifique su solución con los comandos de `Python`."
   ]
  },
  {
   "cell_type": "markdown",
   "metadata": {},
   "source": [
    "1. Demuestre que la Descomposición en Valores Singulares encuentra la dirección para la cual la matriz original estira más el vector unitario. Parta de la siguiente expresión:\n",
    "$$argmax_{x:||x||=1} ||Bx||$$\n",
    "2. $B$ es una matriz cuadrada de tamaño $m\\times m$, cuyas filas son ortonormales. Demuestre que las columnas de $B$ también son ortonormales.\n",
    "3. Suponga que $C$ es una matriz cuadrada invertible y que la Descomposición en Valores Singulares de $C$ es $C=\\sum_i \\sigma_i u_i v_i'$. Encuentre la inversa de $C$.\n",
    "4. Encuentre la SVD de la matriz $A$, $U S V'$, en donde $A = \\begin{bmatrix} 3 & 2 & 2 \\\\ 2 & 3 & -2 \\end{bmatrix}$\n",
    "5. Demuestre que los vectores singulares izquierdos de una matriz $D$ son los vectores singulares derechos de $D'$\n"
   ]
  }
 ],
 "metadata": {
  "interpreter": {
   "hash": "8fac594bfae6525c0c41b4041d2d72effa188cc8ead05f81b1fab2bb098927fb"
  },
  "kernelspec": {
   "display_name": "Python 3 (ipykernel)",
   "language": "python",
   "name": "python3"
  },
  "language_info": {
   "codemirror_mode": {
    "name": "ipython",
    "version": 3
   },
   "file_extension": ".py",
   "mimetype": "text/x-python",
   "name": "python",
   "nbconvert_exporter": "python",
   "pygments_lexer": "ipython3",
   "version": "3.9.7"
  },
  "toc": {
   "base_numbering": 1,
   "nav_menu": {},
   "number_sections": true,
   "sideBar": true,
   "skip_h1_title": false,
   "title_cell": "Table of Contents",
   "title_sidebar": "Contents",
   "toc_cell": false,
   "toc_position": {},
   "toc_section_display": true,
   "toc_window_display": true
  }
 },
 "nbformat": 4,
 "nbformat_minor": 2
}
